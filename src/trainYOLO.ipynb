{
  "cells": [
    {
      "cell_type": "code",
      "execution_count": null,
      "metadata": {
        "colab": {
          "base_uri": "https://localhost:8080/"
        },
        "collapsed": true,
        "id": "HENrYVmH5CcD",
        "outputId": "d204f38d-a977-4635-f9ad-30d98e6cc006"
      },
      "outputs": [
        {
          "output_type": "stream",
          "name": "stdout",
          "text": [
            "Collecting ultralytics\n",
            "  Downloading ultralytics-8.3.10-py3-none-any.whl.metadata (34 kB)\n",
            "Requirement already satisfied: numpy>=1.23.0 in /usr/local/lib/python3.10/dist-packages (from ultralytics) (1.26.4)\n",
            "Requirement already satisfied: matplotlib>=3.3.0 in /usr/local/lib/python3.10/dist-packages (from ultralytics) (3.7.1)\n",
            "Requirement already satisfied: opencv-python>=4.6.0 in /usr/local/lib/python3.10/dist-packages (from ultralytics) (4.10.0.84)\n",
            "Requirement already satisfied: pillow>=7.1.2 in /usr/local/lib/python3.10/dist-packages (from ultralytics) (10.4.0)\n",
            "Requirement already satisfied: pyyaml>=5.3.1 in /usr/local/lib/python3.10/dist-packages (from ultralytics) (6.0.2)\n",
            "Requirement already satisfied: requests>=2.23.0 in /usr/local/lib/python3.10/dist-packages (from ultralytics) (2.32.3)\n",
            "Requirement already satisfied: scipy>=1.4.1 in /usr/local/lib/python3.10/dist-packages (from ultralytics) (1.13.1)\n",
            "Requirement already satisfied: torch>=1.8.0 in /usr/local/lib/python3.10/dist-packages (from ultralytics) (2.4.1+cu121)\n",
            "Requirement already satisfied: torchvision>=0.9.0 in /usr/local/lib/python3.10/dist-packages (from ultralytics) (0.19.1+cu121)\n",
            "Requirement already satisfied: tqdm>=4.64.0 in /usr/local/lib/python3.10/dist-packages (from ultralytics) (4.66.5)\n",
            "Requirement already satisfied: psutil in /usr/local/lib/python3.10/dist-packages (from ultralytics) (5.9.5)\n",
            "Requirement already satisfied: py-cpuinfo in /usr/local/lib/python3.10/dist-packages (from ultralytics) (9.0.0)\n",
            "Requirement already satisfied: pandas>=1.1.4 in /usr/local/lib/python3.10/dist-packages (from ultralytics) (2.2.2)\n",
            "Requirement already satisfied: seaborn>=0.11.0 in /usr/local/lib/python3.10/dist-packages (from ultralytics) (0.13.2)\n",
            "Collecting ultralytics-thop>=2.0.0 (from ultralytics)\n",
            "  Downloading ultralytics_thop-2.0.9-py3-none-any.whl.metadata (9.3 kB)\n",
            "Requirement already satisfied: contourpy>=1.0.1 in /usr/local/lib/python3.10/dist-packages (from matplotlib>=3.3.0->ultralytics) (1.3.0)\n",
            "Requirement already satisfied: cycler>=0.10 in /usr/local/lib/python3.10/dist-packages (from matplotlib>=3.3.0->ultralytics) (0.12.1)\n",
            "Requirement already satisfied: fonttools>=4.22.0 in /usr/local/lib/python3.10/dist-packages (from matplotlib>=3.3.0->ultralytics) (4.54.1)\n",
            "Requirement already satisfied: kiwisolver>=1.0.1 in /usr/local/lib/python3.10/dist-packages (from matplotlib>=3.3.0->ultralytics) (1.4.7)\n",
            "Requirement already satisfied: packaging>=20.0 in /usr/local/lib/python3.10/dist-packages (from matplotlib>=3.3.0->ultralytics) (24.1)\n",
            "Requirement already satisfied: pyparsing>=2.3.1 in /usr/local/lib/python3.10/dist-packages (from matplotlib>=3.3.0->ultralytics) (3.1.4)\n",
            "Requirement already satisfied: python-dateutil>=2.7 in /usr/local/lib/python3.10/dist-packages (from matplotlib>=3.3.0->ultralytics) (2.8.2)\n",
            "Requirement already satisfied: pytz>=2020.1 in /usr/local/lib/python3.10/dist-packages (from pandas>=1.1.4->ultralytics) (2024.2)\n",
            "Requirement already satisfied: tzdata>=2022.7 in /usr/local/lib/python3.10/dist-packages (from pandas>=1.1.4->ultralytics) (2024.2)\n",
            "Requirement already satisfied: charset-normalizer<4,>=2 in /usr/local/lib/python3.10/dist-packages (from requests>=2.23.0->ultralytics) (3.3.2)\n",
            "Requirement already satisfied: idna<4,>=2.5 in /usr/local/lib/python3.10/dist-packages (from requests>=2.23.0->ultralytics) (3.10)\n",
            "Requirement already satisfied: urllib3<3,>=1.21.1 in /usr/local/lib/python3.10/dist-packages (from requests>=2.23.0->ultralytics) (2.2.3)\n",
            "Requirement already satisfied: certifi>=2017.4.17 in /usr/local/lib/python3.10/dist-packages (from requests>=2.23.0->ultralytics) (2024.8.30)\n",
            "Requirement already satisfied: filelock in /usr/local/lib/python3.10/dist-packages (from torch>=1.8.0->ultralytics) (3.16.1)\n",
            "Requirement already satisfied: typing-extensions>=4.8.0 in /usr/local/lib/python3.10/dist-packages (from torch>=1.8.0->ultralytics) (4.12.2)\n",
            "Requirement already satisfied: sympy in /usr/local/lib/python3.10/dist-packages (from torch>=1.8.0->ultralytics) (1.13.3)\n",
            "Requirement already satisfied: networkx in /usr/local/lib/python3.10/dist-packages (from torch>=1.8.0->ultralytics) (3.3)\n",
            "Requirement already satisfied: jinja2 in /usr/local/lib/python3.10/dist-packages (from torch>=1.8.0->ultralytics) (3.1.4)\n",
            "Requirement already satisfied: fsspec in /usr/local/lib/python3.10/dist-packages (from torch>=1.8.0->ultralytics) (2024.6.1)\n",
            "Requirement already satisfied: six>=1.5 in /usr/local/lib/python3.10/dist-packages (from python-dateutil>=2.7->matplotlib>=3.3.0->ultralytics) (1.16.0)\n",
            "Requirement already satisfied: MarkupSafe>=2.0 in /usr/local/lib/python3.10/dist-packages (from jinja2->torch>=1.8.0->ultralytics) (2.1.5)\n",
            "Requirement already satisfied: mpmath<1.4,>=1.1.0 in /usr/local/lib/python3.10/dist-packages (from sympy->torch>=1.8.0->ultralytics) (1.3.0)\n",
            "Downloading ultralytics-8.3.10-py3-none-any.whl (882 kB)\n",
            "\u001b[2K   \u001b[90m━━━━━━━━━━━━━━━━━━━━━━━━━━━━━━━━━━━━━━━━\u001b[0m \u001b[32m882.7/882.7 kB\u001b[0m \u001b[31m18.0 MB/s\u001b[0m eta \u001b[36m0:00:00\u001b[0m\n",
            "\u001b[?25hDownloading ultralytics_thop-2.0.9-py3-none-any.whl (26 kB)\n",
            "Installing collected packages: ultralytics-thop, ultralytics\n",
            "Successfully installed ultralytics-8.3.10 ultralytics-thop-2.0.9\n",
            "CUDA available: True\n"
          ]
        }
      ],
      "source": [
        "# Install YOLOv8 (Ultralytics)\n",
        "!pip install ultralytics\n",
        "\n",
        "# Verify GPU availability\n",
        "import torch\n",
        "print(\"CUDA available:\", torch.cuda.is_available())"
      ]
    },
    {
      "cell_type": "code",
      "execution_count": null,
      "metadata": {
        "colab": {
          "base_uri": "https://localhost:8080/"
        },
        "collapsed": true,
        "id": "Ek8_tP9j5Hc_",
        "outputId": "b1bf4cd3-c97a-4aa8-8daa-aa05178b67fc"
      },
      "outputs": [
        {
          "output_type": "stream",
          "name": "stdout",
          "text": [
            "Sat Oct 12 15:05:11 2024       \n",
            "+---------------------------------------------------------------------------------------+\n",
            "| NVIDIA-SMI 535.104.05             Driver Version: 535.104.05   CUDA Version: 12.2     |\n",
            "|-----------------------------------------+----------------------+----------------------+\n",
            "| GPU  Name                 Persistence-M | Bus-Id        Disp.A | Volatile Uncorr. ECC |\n",
            "| Fan  Temp   Perf          Pwr:Usage/Cap |         Memory-Usage | GPU-Util  Compute M. |\n",
            "|                                         |                      |               MIG M. |\n",
            "|=========================================+======================+======================|\n",
            "|   0  Tesla T4                       Off | 00000000:00:04.0 Off |                    0 |\n",
            "| N/A   36C    P8               9W /  70W |      3MiB / 15360MiB |      0%      Default |\n",
            "|                                         |                      |                  N/A |\n",
            "+-----------------------------------------+----------------------+----------------------+\n",
            "                                                                                         \n",
            "+---------------------------------------------------------------------------------------+\n",
            "| Processes:                                                                            |\n",
            "|  GPU   GI   CI        PID   Type   Process name                            GPU Memory |\n",
            "|        ID   ID                                                             Usage      |\n",
            "|=======================================================================================|\n",
            "|  No running processes found                                                           |\n",
            "+---------------------------------------------------------------------------------------+\n"
          ]
        }
      ],
      "source": [
        "# Check the GPU details\n",
        "!nvidia-smi\n"
      ]
    },
    {
      "cell_type": "code",
      "execution_count": null,
      "metadata": {
        "colab": {
          "base_uri": "https://localhost:8080/"
        },
        "id": "JUT721el5J7k",
        "outputId": "db1c66d5-2e48-44c4-d9ec-31db3943f002"
      },
      "outputs": [
        {
          "output_type": "stream",
          "name": "stdout",
          "text": [
            "Mounted at /content/drive\n"
          ]
        }
      ],
      "source": [
        "from google.colab import drive\n",
        "drive.mount('/content/drive')\n"
      ]
    },
    {
      "cell_type": "code",
      "execution_count": null,
      "metadata": {
        "colab": {
          "base_uri": "https://localhost:8080/"
        },
        "collapsed": true,
        "id": "aIcMIJzi5K67",
        "outputId": "9e70f27c-391a-47f0-ed45-cff9d3dbfb05"
      },
      "outputs": [
        {
          "output_type": "stream",
          "name": "stdout",
          "text": [
            "Archive:  /content/drive/MyDrive/Augmentations.zip\n",
            "   creating: /content/Augmentations/\n",
            "  inflating: /content/Augmentations/dataset.yaml  \n",
            "   creating: /content/Augmentations/train/\n",
            "   creating: /content/Augmentations/train/images/\n",
            "  inflating: /content/Augmentations/train/images/10.jpg  \n",
            "  inflating: /content/Augmentations/train/images/104.jpg  \n",
            "  inflating: /content/Augmentations/train/images/104aug.jpg  \n",
            "  inflating: /content/Augmentations/train/images/105.jpg  \n",
            "  inflating: /content/Augmentations/train/images/105aug.jpg  \n",
            "  inflating: /content/Augmentations/train/images/108.jpg  \n",
            "  inflating: /content/Augmentations/train/images/108aug.jpg  \n",
            "  inflating: /content/Augmentations/train/images/10aug.jpg  \n",
            "  inflating: /content/Augmentations/train/images/10t.jpg  \n",
            "  inflating: /content/Augmentations/train/images/10taug.jpg  \n",
            "  inflating: /content/Augmentations/train/images/115.jpg  \n",
            "  inflating: /content/Augmentations/train/images/115aug.jpg  \n",
            "  inflating: /content/Augmentations/train/images/116.jpg  \n",
            "  inflating: /content/Augmentations/train/images/116aug.jpg  \n",
            "  inflating: /content/Augmentations/train/images/118.jpg  \n",
            "  inflating: /content/Augmentations/train/images/118aug.jpg  \n",
            "  inflating: /content/Augmentations/train/images/11t.jpg  \n",
            "  inflating: /content/Augmentations/train/images/11taug.jpg  \n",
            "  inflating: /content/Augmentations/train/images/124.jpg  \n",
            "  inflating: /content/Augmentations/train/images/124aug.jpg  \n",
            "  inflating: /content/Augmentations/train/images/125.jpg  \n",
            "  inflating: /content/Augmentations/train/images/125aug.jpg  \n",
            "  inflating: /content/Augmentations/train/images/12t.jpg  \n",
            "  inflating: /content/Augmentations/train/images/12taug.jpg  \n",
            "  inflating: /content/Augmentations/train/images/13t.jpg  \n",
            "  inflating: /content/Augmentations/train/images/13taug.jpg  \n",
            "  inflating: /content/Augmentations/train/images/14.jpg  \n",
            "  inflating: /content/Augmentations/train/images/14aug.jpg  \n",
            "  inflating: /content/Augmentations/train/images/14t.jpg  \n",
            "  inflating: /content/Augmentations/train/images/14taug.jpg  \n",
            "  inflating: /content/Augmentations/train/images/15t.jpg  \n",
            "  inflating: /content/Augmentations/train/images/15taug.jpg  \n",
            "  inflating: /content/Augmentations/train/images/16t.jpg  \n",
            "  inflating: /content/Augmentations/train/images/16taug.jpg  \n",
            "  inflating: /content/Augmentations/train/images/17.jpg  \n",
            "  inflating: /content/Augmentations/train/images/17aug.jpg  \n",
            "  inflating: /content/Augmentations/train/images/19t.jpg  \n",
            "  inflating: /content/Augmentations/train/images/19taug.jpg  \n",
            "  inflating: /content/Augmentations/train/images/1t.jpg  \n",
            "  inflating: /content/Augmentations/train/images/1taug.jpg  \n",
            "  inflating: /content/Augmentations/train/images/2.jpg  \n",
            "  inflating: /content/Augmentations/train/images/20t.jpg  \n",
            "  inflating: /content/Augmentations/train/images/20taug.jpg  \n",
            "  inflating: /content/Augmentations/train/images/21t.jpg  \n",
            "  inflating: /content/Augmentations/train/images/21taug.jpg  \n",
            "  inflating: /content/Augmentations/train/images/22t.jpg  \n",
            "  inflating: /content/Augmentations/train/images/22taug.jpg  \n",
            "  inflating: /content/Augmentations/train/images/23t.jpg  \n",
            "  inflating: /content/Augmentations/train/images/23taug.jpg  \n",
            "  inflating: /content/Augmentations/train/images/24t.jpg  \n",
            "  inflating: /content/Augmentations/train/images/24taug.jpg  \n",
            "  inflating: /content/Augmentations/train/images/25t.jpg  \n",
            "  inflating: /content/Augmentations/train/images/25taug.jpg  \n",
            "  inflating: /content/Augmentations/train/images/26t.jpg  \n",
            "  inflating: /content/Augmentations/train/images/26taug.jpg  \n",
            "  inflating: /content/Augmentations/train/images/27t.jpg  \n",
            "  inflating: /content/Augmentations/train/images/27taug.jpg  \n",
            "  inflating: /content/Augmentations/train/images/28.jpg  \n",
            "  inflating: /content/Augmentations/train/images/28aug.jpg  \n",
            "  inflating: /content/Augmentations/train/images/28t.jpg  \n",
            "  inflating: /content/Augmentations/train/images/28taug.jpg  \n",
            "  inflating: /content/Augmentations/train/images/29t.jpg  \n",
            "  inflating: /content/Augmentations/train/images/29taug.jpg  \n",
            "  inflating: /content/Augmentations/train/images/2aug.jpg  \n",
            "  inflating: /content/Augmentations/train/images/2t.jpg  \n",
            "  inflating: /content/Augmentations/train/images/2taug.jpg  \n",
            "  inflating: /content/Augmentations/train/images/30.jpg  \n",
            "  inflating: /content/Augmentations/train/images/30aug.jpg  \n",
            "  inflating: /content/Augmentations/train/images/30t.jpg  \n",
            "  inflating: /content/Augmentations/train/images/30taug.jpg  \n",
            "  inflating: /content/Augmentations/train/images/31t.jpg  \n",
            "  inflating: /content/Augmentations/train/images/31taug.jpg  \n",
            "  inflating: /content/Augmentations/train/images/32t.jpg  \n",
            "  inflating: /content/Augmentations/train/images/32taug.jpg  \n",
            "  inflating: /content/Augmentations/train/images/33.jpg  \n",
            "  inflating: /content/Augmentations/train/images/330308224_252082427236774_668868519928491881_n_jpg.rf.3fdc42c75d94f959cd34e95659731bbfrutrffo.jpg  \n",
            "  inflating: /content/Augmentations/train/images/330308224_252082427236774_668868519928491881_n_jpg.rf.3fdc42c75d94f959cd34e95659731bbfrutrffoaug.jpg  \n",
            "  inflating: /content/Augmentations/train/images/336520816_771665631343508_8303909770867850050_n_jpg.rf.01b5c700f7fd40c550ef8d0c1eeb5689ffo.jpg  \n",
            "  inflating: /content/Augmentations/train/images/336520816_771665631343508_8303909770867850050_n_jpg.rf.01b5c700f7fd40c550ef8d0c1eeb5689ffoaug.jpg  \n",
            "  inflating: /content/Augmentations/train/images/336520816_771665631343508_8303909770867850050_n_jpg.rf.01b5c700f7fd40c550ef8d0c1eeb5689imrffo.jpg  \n",
            "  inflating: /content/Augmentations/train/images/336520816_771665631343508_8303909770867850050_n_jpg.rf.01b5c700f7fd40c550ef8d0c1eeb5689imrffoaug.jpg  \n",
            "  inflating: /content/Augmentations/train/images/336628741_146755798049305_2393290656942527363_n_jpg.rf.8b36db09afdd41ae1714f01b637962d7imrffo.jpg  \n",
            "  inflating: /content/Augmentations/train/images/336628741_146755798049305_2393290656942527363_n_jpg.rf.8b36db09afdd41ae1714f01b637962d7imrffoaug.jpg  \n",
            "  inflating: /content/Augmentations/train/images/33aug.jpg  \n",
            "  inflating: /content/Augmentations/train/images/33t.jpg  \n",
            "  inflating: /content/Augmentations/train/images/33taug.jpg  \n",
            "  inflating: /content/Augmentations/train/images/340440944_1242322123037899_1708206670901782940_n_jpg.rf.759edbebf2cfc2a361b3c482e199acb3rutrffo.jpg  \n",
            "  inflating: /content/Augmentations/train/images/340440944_1242322123037899_1708206670901782940_n_jpg.rf.759edbebf2cfc2a361b3c482e199acb3rutrffoaug.jpg  \n",
            "  inflating: /content/Augmentations/train/images/340655568_233335945905892_6523382994465496147_n_jpg.rf.8eb9b220b9bfb572bcf5c79173693c76ffo.jpg  \n",
            "  inflating: /content/Augmentations/train/images/340655568_233335945905892_6523382994465496147_n_jpg.rf.8eb9b220b9bfb572bcf5c79173693c76ffoaug.jpg  \n",
            "  inflating: /content/Augmentations/train/images/340666213_1276125626635169_1781727769616472807_n_jpg.rf.9ae8cc1d9c3a8e81c39c7108e6555986imrffo.jpg  \n",
            "  inflating: /content/Augmentations/train/images/340666213_1276125626635169_1781727769616472807_n_jpg.rf.9ae8cc1d9c3a8e81c39c7108e6555986imrffoaug.jpg  \n",
            "  inflating: /content/Augmentations/train/images/340666217_174763828836240_7607030003544342380_n_jpg.rf.bd07d4aeb2a3d7dd3719157f5ceb555eimrffo.jpg  \n",
            "  inflating: /content/Augmentations/train/images/340666217_174763828836240_7607030003544342380_n_jpg.rf.bd07d4aeb2a3d7dd3719157f5ceb555eimrffoaug.jpg  \n",
            "  inflating: /content/Augmentations/train/images/340683106_1284180999122986_4198180811974188221_n_jpg.rf.9eb102f4c9dd5182704c1c3dec9736e7rutrffo.jpg  \n",
            "  inflating: /content/Augmentations/train/images/340683106_1284180999122986_4198180811974188221_n_jpg.rf.9eb102f4c9dd5182704c1c3dec9736e7rutrffoaug.jpg  \n",
            "  inflating: /content/Augmentations/train/images/340688363_623170819190922_6921385813964451029_n_jpg.rf.1698c31cc906657e4eaa1775c4825712imrffo.jpg  \n",
            "  inflating: /content/Augmentations/train/images/340688363_623170819190922_6921385813964451029_n_jpg.rf.1698c31cc906657e4eaa1775c4825712imrffoaug.jpg  \n",
            "  inflating: /content/Augmentations/train/images/340688370_1368138737367286_142861896250244192_n_jpg.rf.cff7339b933e21cc34b2790677b9f213ffo.jpg  \n",
            "  inflating: /content/Augmentations/train/images/340688370_1368138737367286_142861896250244192_n_jpg.rf.cff7339b933e21cc34b2790677b9f213ffoaug.jpg  \n",
            "  inflating: /content/Augmentations/train/images/340690233_616158103384605_5527178605125453229_n_jpg.rf.1df4a737e86b6f1bb5b28f5643ca9f9dimrffo.jpg  \n",
            "  inflating: /content/Augmentations/train/images/340690233_616158103384605_5527178605125453229_n_jpg.rf.1df4a737e86b6f1bb5b28f5643ca9f9dimrffoaug.jpg  \n",
            "  inflating: /content/Augmentations/train/images/340698438_643327210953683_1953326738123649125_n_jpg.rf.c239e505653db713c4710ec66fedae4fimrffo.jpg  \n",
            "  inflating: /content/Augmentations/train/images/340698438_643327210953683_1953326738123649125_n_jpg.rf.c239e505653db713c4710ec66fedae4fimrffoaug.jpg  \n",
            "  inflating: /content/Augmentations/train/images/340704069_147140514754304_1448443480964463025_n_jpg.rf.8937ac70eccafaa0c0f4c9164393139effo.jpg  \n",
            "  inflating: /content/Augmentations/train/images/340704069_147140514754304_1448443480964463025_n_jpg.rf.8937ac70eccafaa0c0f4c9164393139effoaug.jpg  \n",
            "  inflating: /content/Augmentations/train/images/340709271_765415248555007_6840589780320065024_n_jpg.rf.5987061c29ddea32995c3713a390ecb8rutrffo.jpg  \n",
            "  inflating: /content/Augmentations/train/images/340709271_765415248555007_6840589780320065024_n_jpg.rf.5987061c29ddea32995c3713a390ecb8rutrffoaug.jpg  \n",
            "  inflating: /content/Augmentations/train/images/340720729_1931093727237355_8410250639715113073_n_jpg.rf.85401aa8d6bb9c7e72e239c8baf23992rutrffo.jpg  \n",
            "  inflating: /content/Augmentations/train/images/340720729_1931093727237355_8410250639715113073_n_jpg.rf.85401aa8d6bb9c7e72e239c8baf23992rutrffoaug.jpg  \n",
            "  inflating: /content/Augmentations/train/images/340759557_225433246802909_7121010699413196600_n_jpg.rf.e2ba3216cd61e094a83e6f88cdb4a466ffo.jpg  \n",
            "  inflating: /content/Augmentations/train/images/340759557_225433246802909_7121010699413196600_n_jpg.rf.e2ba3216cd61e094a83e6f88cdb4a466ffoaug.jpg  \n",
            "  inflating: /content/Augmentations/train/images/340763194_1972687183087953_1230068764890745184_n_jpg.rf.2ee5005c5febfc1078e3ec16517a10cerutrffo.jpg  \n",
            "  inflating: /content/Augmentations/train/images/340763194_1972687183087953_1230068764890745184_n_jpg.rf.2ee5005c5febfc1078e3ec16517a10cerutrffoaug.jpg  \n",
            "  inflating: /content/Augmentations/train/images/340777454_955549885643442_6911699415914995565_n_jpg.rf.43f2ef8fe002a547d6bfa972f74adb12ffo.jpg  \n",
            "  inflating: /content/Augmentations/train/images/340777454_955549885643442_6911699415914995565_n_jpg.rf.43f2ef8fe002a547d6bfa972f74adb12ffoaug.jpg  \n",
            "  inflating: /content/Augmentations/train/images/340777454_955549885643442_6911699415914995565_n_jpg.rf.43f2ef8fe002a547d6bfa972f74adb12imrffo.jpg  \n",
            "  inflating: /content/Augmentations/train/images/340777454_955549885643442_6911699415914995565_n_jpg.rf.43f2ef8fe002a547d6bfa972f74adb12imrffoaug.jpg  \n",
            "  inflating: /content/Augmentations/train/images/340808690_741437164152231_3430438982657964687_n_jpg.rf.8b2095ffd227c3cb1b18873605ac0f1dimrffo.jpg  \n",
            "  inflating: /content/Augmentations/train/images/340808690_741437164152231_3430438982657964687_n_jpg.rf.8b2095ffd227c3cb1b18873605ac0f1dimrffoaug.jpg  \n",
            "  inflating: /content/Augmentations/train/images/340816573_1538586360001098_7881525004913769061_n_jpg.rf.5888d0c923426b0d79291ded5bada33dimrffo.jpg  \n",
            "  inflating: /content/Augmentations/train/images/340816573_1538586360001098_7881525004913769061_n_jpg.rf.5888d0c923426b0d79291ded5bada33dimrffoaug.jpg  \n",
            "  inflating: /content/Augmentations/train/images/340998018_773003377774869_7974950968883172243_n_jpg.rf.fdb4ca06af99a3796092f3df853772e9ffo.jpg  \n",
            "  inflating: /content/Augmentations/train/images/340998018_773003377774869_7974950968883172243_n_jpg.rf.fdb4ca06af99a3796092f3df853772e9ffoaug.jpg  \n",
            "  inflating: /content/Augmentations/train/images/340998018_773003377774869_7974950968883172243_n_jpg.rf.fdb4ca06af99a3796092f3df853772e9imrffo.jpg  \n",
            "  inflating: /content/Augmentations/train/images/340998018_773003377774869_7974950968883172243_n_jpg.rf.fdb4ca06af99a3796092f3df853772e9imrffoaug.jpg  \n",
            "  inflating: /content/Augmentations/train/images/34t.jpg  \n",
            "  inflating: /content/Augmentations/train/images/34taug.jpg  \n",
            "  inflating: /content/Augmentations/train/images/35t.jpg  \n",
            "  inflating: /content/Augmentations/train/images/35taug.jpg  \n",
            "  inflating: /content/Augmentations/train/images/36.jpg  \n",
            "  inflating: /content/Augmentations/train/images/36aug.jpg  \n",
            "  inflating: /content/Augmentations/train/images/36t.jpg  \n",
            "  inflating: /content/Augmentations/train/images/36taug.jpg  \n",
            "  inflating: /content/Augmentations/train/images/37.jpg  \n",
            "  inflating: /content/Augmentations/train/images/37aug.jpg  \n",
            "  inflating: /content/Augmentations/train/images/37t.jpg  \n",
            "  inflating: /content/Augmentations/train/images/37taug.jpg  \n",
            "  inflating: /content/Augmentations/train/images/38.jpg  \n",
            "  inflating: /content/Augmentations/train/images/38aug.jpg  \n",
            "  inflating: /content/Augmentations/train/images/38t.jpg  \n",
            "  inflating: /content/Augmentations/train/images/38taug.jpg  \n",
            "  inflating: /content/Augmentations/train/images/39t.jpg  \n",
            "  inflating: /content/Augmentations/train/images/39taug.jpg  \n",
            "  inflating: /content/Augmentations/train/images/3t.jpg  \n",
            "  inflating: /content/Augmentations/train/images/3taug.jpg  \n",
            "  inflating: /content/Augmentations/train/images/40t.jpg  \n",
            "  inflating: /content/Augmentations/train/images/40taug.jpg  \n",
            "  inflating: /content/Augmentations/train/images/41t.jpg  \n",
            "  inflating: /content/Augmentations/train/images/41taug.jpg  \n",
            "  inflating: /content/Augmentations/train/images/42t.jpg  \n",
            "  inflating: /content/Augmentations/train/images/42taug.jpg  \n",
            "  inflating: /content/Augmentations/train/images/43t.jpg  \n",
            "  inflating: /content/Augmentations/train/images/43taug.jpg  \n",
            "  inflating: /content/Augmentations/train/images/44t.jpg  \n",
            "  inflating: /content/Augmentations/train/images/44taug.jpg  \n",
            "  inflating: /content/Augmentations/train/images/45.jpg  \n",
            "  inflating: /content/Augmentations/train/images/45aug.jpg  \n",
            "  inflating: /content/Augmentations/train/images/45t.jpg  \n",
            "  inflating: /content/Augmentations/train/images/45taug.jpg  \n",
            "  inflating: /content/Augmentations/train/images/46.jpg  \n",
            "  inflating: /content/Augmentations/train/images/46aug.jpg  \n",
            "  inflating: /content/Augmentations/train/images/46t.jpg  \n",
            "  inflating: /content/Augmentations/train/images/46taug.jpg  \n",
            "  inflating: /content/Augmentations/train/images/47t.jpg  \n",
            "  inflating: /content/Augmentations/train/images/47taug.jpg  \n",
            "  inflating: /content/Augmentations/train/images/48t.jpg  \n",
            "  inflating: /content/Augmentations/train/images/48taug.jpg  \n",
            "  inflating: /content/Augmentations/train/images/49t.jpg  \n",
            "  inflating: /content/Augmentations/train/images/49taug.jpg  \n",
            "  inflating: /content/Augmentations/train/images/4t.jpg  \n",
            "  inflating: /content/Augmentations/train/images/4taug.jpg  \n",
            "  inflating: /content/Augmentations/train/images/50.jpg  \n",
            "  inflating: /content/Augmentations/train/images/50aug.jpg  \n",
            "  inflating: /content/Augmentations/train/images/50t.jpg  \n",
            "  inflating: /content/Augmentations/train/images/50taug.jpg  \n",
            "  inflating: /content/Augmentations/train/images/51.jpg  \n",
            "  inflating: /content/Augmentations/train/images/51aug.jpg  \n",
            "  inflating: /content/Augmentations/train/images/51t.jpg  \n",
            "  inflating: /content/Augmentations/train/images/51taug.jpg  \n",
            "  inflating: /content/Augmentations/train/images/52t.jpg  \n",
            "  inflating: /content/Augmentations/train/images/52taug.jpg  \n",
            "  inflating: /content/Augmentations/train/images/53.jpg  \n",
            "  inflating: /content/Augmentations/train/images/53aug.jpg  \n",
            "  inflating: /content/Augmentations/train/images/53t.jpg  \n",
            "  inflating: /content/Augmentations/train/images/53taug.jpg  \n",
            "  inflating: /content/Augmentations/train/images/54t.jpg  \n",
            "  inflating: /content/Augmentations/train/images/54taug.jpg  \n",
            "  inflating: /content/Augmentations/train/images/55.jpg  \n",
            "  inflating: /content/Augmentations/train/images/55aug.jpg  \n",
            "  inflating: /content/Augmentations/train/images/59.jpg  \n",
            "  inflating: /content/Augmentations/train/images/59aug.jpg  \n",
            "  inflating: /content/Augmentations/train/images/5t.jpg  \n",
            "  inflating: /content/Augmentations/train/images/5taug.jpg  \n",
            "  inflating: /content/Augmentations/train/images/6.jpg  \n",
            "  inflating: /content/Augmentations/train/images/60.jpg  \n",
            "  inflating: /content/Augmentations/train/images/60aug.jpg  \n",
            "  inflating: /content/Augmentations/train/images/61.jpg  \n",
            "  inflating: /content/Augmentations/train/images/61aug.jpg  \n",
            "  inflating: /content/Augmentations/train/images/62.jpg  \n",
            "  inflating: /content/Augmentations/train/images/62aug.jpg  \n",
            "  inflating: /content/Augmentations/train/images/66.jpg  \n",
            "  inflating: /content/Augmentations/train/images/66aug.jpg  \n",
            "  inflating: /content/Augmentations/train/images/6aug.jpg  \n",
            "  inflating: /content/Augmentations/train/images/6t.jpg  \n",
            "  inflating: /content/Augmentations/train/images/6taug.jpg  \n",
            "  inflating: /content/Augmentations/train/images/74.jpg  \n",
            "  inflating: /content/Augmentations/train/images/74aug.jpg  \n",
            "  inflating: /content/Augmentations/train/images/78.jpg  \n",
            "  inflating: /content/Augmentations/train/images/78aug.jpg  \n",
            "  inflating: /content/Augmentations/train/images/7t.jpg  \n",
            "  inflating: /content/Augmentations/train/images/7taug.jpg  \n",
            "  inflating: /content/Augmentations/train/images/80.jpg  \n",
            "  inflating: /content/Augmentations/train/images/80aug.jpg  \n",
            "  inflating: /content/Augmentations/train/images/81.jpg  \n",
            "  inflating: /content/Augmentations/train/images/81aug.jpg  \n",
            "  inflating: /content/Augmentations/train/images/82.jpg  \n",
            "  inflating: /content/Augmentations/train/images/82aug.jpg  \n",
            "  inflating: /content/Augmentations/train/images/84.jpg  \n",
            "  inflating: /content/Augmentations/train/images/84aug.jpg  \n",
            "  inflating: /content/Augmentations/train/images/85.jpg  \n",
            "  inflating: /content/Augmentations/train/images/85aug.jpg  \n",
            "  inflating: /content/Augmentations/train/images/8t.jpg  \n",
            "  inflating: /content/Augmentations/train/images/8taug.jpg  \n",
            "  inflating: /content/Augmentations/train/images/91.jpg  \n",
            "  inflating: /content/Augmentations/train/images/91aug.jpg  \n",
            "  inflating: /content/Augmentations/train/images/92.jpg  \n",
            "  inflating: /content/Augmentations/train/images/92aug.jpg  \n",
            "  inflating: /content/Augmentations/train/images/94.jpg  \n",
            "  inflating: /content/Augmentations/train/images/94aug.jpg  \n",
            "  inflating: /content/Augmentations/train/images/95.jpg  \n",
            "  inflating: /content/Augmentations/train/images/95aug.jpg  \n",
            "  inflating: /content/Augmentations/train/images/98.jpg  \n",
            "  inflating: /content/Augmentations/train/images/98aug.jpg  \n",
            "  inflating: /content/Augmentations/train/images/99.jpg  \n",
            "  inflating: /content/Augmentations/train/images/99aug.jpg  \n",
            "  inflating: /content/Augmentations/train/images/9t.jpg  \n",
            "  inflating: /content/Augmentations/train/images/9taug.jpg  \n",
            "  inflating: /content/Augmentations/train/images/sample_4.jpg  \n",
            "  inflating: /content/Augmentations/train/images/sample_5.jpg  \n",
            "  inflating: /content/Augmentations/train/images/sample_6.jpg  \n",
            "  inflating: /content/Augmentations/train/images/sample_7.jpg  \n",
            "  inflating: /content/Augmentations/train/images/sample_8.jpg  \n",
            "  inflating: /content/Augmentations/train/images/sample_9.jpg  \n",
            "  inflating: /content/Augmentations/train/images/WhatsApp Image 2024-09-24 at 17.22.29_24766e26ffo.jpg  \n",
            "  inflating: /content/Augmentations/train/images/WhatsApp Image 2024-09-24 at 17.22.29_24766e26ffoaug.jpg  \n",
            "  inflating: /content/Augmentations/train/images/WhatsApp-Image-2023-04-10-at-7-08-27-PM_jpeg.rf.5cdb7c209aa4f2a9386abf063ef7ff44imrffo.jpg  \n",
            "  inflating: /content/Augmentations/train/images/WhatsApp-Image-2023-04-10-at-7-08-27-PM_jpeg.rf.5cdb7c209aa4f2a9386abf063ef7ff44imrffoaug.jpg  \n",
            "  inflating: /content/Augmentations/train/images/WhatsApp-Image-2023-04-11-at-11-49-35-PM_jpeg.rf.c67a0d400d9fe8951e8e64f20be4ebf9imrffo.jpg  \n",
            "  inflating: /content/Augmentations/train/images/WhatsApp-Image-2023-04-11-at-11-49-35-PM_jpeg.rf.c67a0d400d9fe8951e8e64f20be4ebf9imrffoaug.jpg  \n",
            "  inflating: /content/Augmentations/train/images/WhatsApp-Image-2023-04-11-at-11-49-36-PM-1-_jpeg.rf.0a6f1a36713a147cd801ad9c9c869c63rutrffo.jpg  \n",
            "  inflating: /content/Augmentations/train/images/WhatsApp-Image-2023-04-11-at-11-49-36-PM-1-_jpeg.rf.0a6f1a36713a147cd801ad9c9c869c63rutrffoaug.jpg  \n",
            "  inflating: /content/Augmentations/train/images/WhatsApp-Image-2023-04-11-at-11-49-36-PM_jpeg.rf.e3cc182b888f689cbfc3ef9b3dc3afd4ffo.jpg  \n",
            "  inflating: /content/Augmentations/train/images/WhatsApp-Image-2023-04-11-at-11-49-36-PM_jpeg.rf.e3cc182b888f689cbfc3ef9b3dc3afd4ffoaug.jpg  \n",
            "  inflating: /content/Augmentations/train/images/WhatsApp-Image-2023-04-11-at-11-49-37-PM-1-_jpeg.rf.118d0d6f2db4c0ab7d3ecc21f88fae95ffo.jpg  \n",
            "  inflating: /content/Augmentations/train/images/WhatsApp-Image-2023-04-11-at-11-49-37-PM-1-_jpeg.rf.118d0d6f2db4c0ab7d3ecc21f88fae95ffoaug.jpg  \n",
            "  inflating: /content/Augmentations/train/images/WhatsApp-Image-2023-04-11-at-11-49-37-PM-2-_jpeg.rf.5aaba59f7c61db52976c53816ae0e841imrffo.jpg  \n",
            "  inflating: /content/Augmentations/train/images/WhatsApp-Image-2023-04-11-at-11-49-37-PM-2-_jpeg.rf.5aaba59f7c61db52976c53816ae0e841imrffoaug.jpg  \n",
            "  inflating: /content/Augmentations/train/images/WhatsApp-Image-2023-04-11-at-11-49-38-PM-1-_jpeg.rf.5cbd52bb43ebe25d6c7c2c73a32dd9a4praxffo.jpg  \n",
            "  inflating: /content/Augmentations/train/images/WhatsApp-Image-2023-04-11-at-11-49-38-PM-1-_jpeg.rf.5cbd52bb43ebe25d6c7c2c73a32dd9a4praxffoaug.jpg  \n",
            "  inflating: /content/Augmentations/train/images/WhatsApp-Image-2023-04-11-at-11-49-39-PM-1-_jpeg.rf.6b56a7ec9d901eb913085d3944054afepraxffo.jpg  \n",
            "  inflating: /content/Augmentations/train/images/WhatsApp-Image-2023-04-11-at-11-49-39-PM-1-_jpeg.rf.6b56a7ec9d901eb913085d3944054afepraxffoaug.jpg  \n",
            "  inflating: /content/Augmentations/train/images/WhatsApp-Image-2023-04-11-at-11-49-39-PM-2-_jpeg.rf.17d012db0810643f5e05235fb4e4c6f4praxffo.jpg  \n",
            "  inflating: /content/Augmentations/train/images/WhatsApp-Image-2023-04-11-at-11-49-39-PM-2-_jpeg.rf.17d012db0810643f5e05235fb4e4c6f4praxffoaug.jpg  \n",
            "  inflating: /content/Augmentations/train/images/WhatsApp-Image-2023-04-11-at-11-49-39-PM_jpeg.rf.6627c4f7e9f50d34fb18b21fad7ea881praxffo.jpg  \n",
            "  inflating: /content/Augmentations/train/images/WhatsApp-Image-2023-04-11-at-11-49-39-PM_jpeg.rf.6627c4f7e9f50d34fb18b21fad7ea881praxffoaug.jpg  \n",
            "  inflating: /content/Augmentations/train/images/WhatsApp-Image-2023-04-12-at-11-51-57-AM_jpeg.rf.bd952353a1d7a5edc44648c73845f26arutrffo.jpg  \n",
            "  inflating: /content/Augmentations/train/images/WhatsApp-Image-2023-04-12-at-11-51-57-AM_jpeg.rf.bd952353a1d7a5edc44648c73845f26arutrffoaug.jpg  \n",
            "  inflating: /content/Augmentations/train/images/WhatsApp-Image-2023-04-12-at-11-52-51-AM_jpeg.rf.3bb47cc2ddab576bd10c155aae3f4da8praxffo.jpg  \n",
            "  inflating: /content/Augmentations/train/images/WhatsApp-Image-2023-04-12-at-11-52-51-AM_jpeg.rf.3bb47cc2ddab576bd10c155aae3f4da8praxffoaug.jpg  \n",
            "  inflating: /content/Augmentations/train/images/WhatsApp-Image-2023-04-12-at-11-53-49-AM_jpeg.rf.988820da65266308f512ba33f6b93d8aimrffo.jpg  \n",
            "  inflating: /content/Augmentations/train/images/WhatsApp-Image-2023-04-12-at-11-53-49-AM_jpeg.rf.988820da65266308f512ba33f6b93d8aimrffoaug.jpg  \n",
            "  inflating: /content/Augmentations/train/images/WhatsApp-Image-2023-04-12-at-12-20-45-PM_jpeg.rf.3aceb78ed4eaffd9c16ea6ab7c38a922praxffo.jpg  \n",
            "  inflating: /content/Augmentations/train/images/WhatsApp-Image-2023-04-12-at-12-20-45-PM_jpeg.rf.3aceb78ed4eaffd9c16ea6ab7c38a922praxffoaug.jpg  \n",
            "  inflating: /content/Augmentations/train/images/WhatsApp-Image-2023-04-12-at-12-20-46-PM-1-_jpeg.rf.879e8047a2251d8d766c502c2745124apraxffo.jpg  \n",
            "  inflating: /content/Augmentations/train/images/WhatsApp-Image-2023-04-12-at-12-20-46-PM-1-_jpeg.rf.879e8047a2251d8d766c502c2745124apraxffoaug.jpg  \n",
            "  inflating: /content/Augmentations/train/images/WhatsApp-Image-2023-04-12-at-12-20-49-PM-1-_jpeg.rf.3ba884c2ac0e7df9b029bebd7c3d4743imrffo.jpg  \n",
            "  inflating: /content/Augmentations/train/images/WhatsApp-Image-2023-04-12-at-12-20-49-PM-1-_jpeg.rf.3ba884c2ac0e7df9b029bebd7c3d4743imrffoaug.jpg  \n",
            "  inflating: /content/Augmentations/train/images/WhatsApp-Image-2023-04-12-at-12-22-07-PM-1-_jpeg.rf.85e479d4c9d746de8f9df144d9a74062imrffo.jpg  \n",
            "  inflating: /content/Augmentations/train/images/WhatsApp-Image-2023-04-12-at-12-22-07-PM-1-_jpeg.rf.85e479d4c9d746de8f9df144d9a74062imrffoaug.jpg  \n",
            "  inflating: /content/Augmentations/train/images/WhatsApp-Image-2023-04-12-at-12-22-07-PM_jpeg.rf.f239a703c3ab9a5b27f8fc4a29f58a39praxffo.jpg  \n",
            "  inflating: /content/Augmentations/train/images/WhatsApp-Image-2023-04-12-at-12-22-07-PM_jpeg.rf.f239a703c3ab9a5b27f8fc4a29f58a39praxffoaug.jpg  \n",
            "  inflating: /content/Augmentations/train/images/WhatsApp-Image-2023-04-12-at-12-22-08-PM_jpeg.rf.6ba662f106ab61ee7f81986411f65c53ffo.jpg  \n",
            "  inflating: /content/Augmentations/train/images/WhatsApp-Image-2023-04-12-at-12-22-08-PM_jpeg.rf.6ba662f106ab61ee7f81986411f65c53ffoaug.jpg  \n",
            "  inflating: /content/Augmentations/train/images/WhatsApp-Image-2023-04-12-at-12-22-08-PM_jpeg.rf.6ba662f106ab61ee7f81986411f65c53imrffo.jpg  \n",
            "  inflating: /content/Augmentations/train/images/WhatsApp-Image-2023-04-12-at-12-22-08-PM_jpeg.rf.6ba662f106ab61ee7f81986411f65c53imrffoaug.jpg  \n",
            "  inflating: /content/Augmentations/train/images/WhatsApp-Image-2023-04-12-at-12-22-09-PM_jpeg.rf.c916f00eb64e2c64e2965319d5d7256bpraxffo.jpg  \n",
            "  inflating: /content/Augmentations/train/images/WhatsApp-Image-2023-04-12-at-12-22-09-PM_jpeg.rf.c916f00eb64e2c64e2965319d5d7256bpraxffoaug.jpg  \n",
            "  inflating: /content/Augmentations/train/images/WhatsApp-Image-2023-04-12-at-12-22-11-PM-1-_jpeg.rf.3adda35f463c7aa0c8f34cb53e0b8591praxffo.jpg  \n",
            "  inflating: /content/Augmentations/train/images/WhatsApp-Image-2023-04-12-at-12-22-11-PM-1-_jpeg.rf.3adda35f463c7aa0c8f34cb53e0b8591praxffoaug.jpg  \n",
            "  inflating: /content/Augmentations/train/images/WhatsApp-Image-2023-04-12-at-12-22-11-PM_jpeg.rf.90b7d7b18913d90a807dc766c7296119praxffo.jpg  \n",
            "  inflating: /content/Augmentations/train/images/WhatsApp-Image-2023-04-12-at-12-22-11-PM_jpeg.rf.90b7d7b18913d90a807dc766c7296119praxffoaug.jpg  \n",
            "  inflating: /content/Augmentations/train/images/WhatsApp-Image-2023-04-12-at-12-22-13-PM-1-_jpeg.rf.1e80042d621654eb3fc65a29ca125d84ffo.jpg  \n",
            "  inflating: /content/Augmentations/train/images/WhatsApp-Image-2023-04-12-at-12-22-13-PM-1-_jpeg.rf.1e80042d621654eb3fc65a29ca125d84ffoaug.jpg  \n",
            "  inflating: /content/Augmentations/train/images/WhatsApp-Image-2023-04-12-at-12-22-13-PM-1-_jpeg.rf.1e80042d621654eb3fc65a29ca125d84imrffo.jpg  \n",
            "  inflating: /content/Augmentations/train/images/WhatsApp-Image-2023-04-12-at-12-22-13-PM-1-_jpeg.rf.1e80042d621654eb3fc65a29ca125d84imrffoaug.jpg  \n",
            "  inflating: /content/Augmentations/train/images/WhatsApp-Image-2023-04-12-at-12-22-14-PM-1-_jpeg.rf.e4622d32132c988eefadbaa3fb8f32f4ffo.jpg  \n",
            "  inflating: /content/Augmentations/train/images/WhatsApp-Image-2023-04-12-at-12-22-14-PM-1-_jpeg.rf.e4622d32132c988eefadbaa3fb8f32f4ffoaug.jpg  \n",
            "  inflating: /content/Augmentations/train/images/WhatsApp-Image-2023-04-12-at-12-22-14-PM-1-_jpeg.rf.e4622d32132c988eefadbaa3fb8f32f4imrffo.jpg  \n",
            "  inflating: /content/Augmentations/train/images/WhatsApp-Image-2023-04-12-at-12-22-14-PM-1-_jpeg.rf.e4622d32132c988eefadbaa3fb8f32f4imrffoaug.jpg  \n",
            "  inflating: /content/Augmentations/train/images/WhatsApp-Image-2023-04-12-at-12-22-14-PM_jpeg.rf.7c3c780fb3bc5dd4cac487d30858f825praxffo.jpg  \n",
            "  inflating: /content/Augmentations/train/images/WhatsApp-Image-2023-04-12-at-12-22-14-PM_jpeg.rf.7c3c780fb3bc5dd4cac487d30858f825praxffoaug.jpg  \n",
            "  inflating: /content/Augmentations/train/images/WhatsApp-Image-2023-04-12-at-12-22-15-PM-1-_jpeg.rf.1a39c1aef0a466e77cf94ae2108cc623praxffo.jpg  \n",
            "  inflating: /content/Augmentations/train/images/WhatsApp-Image-2023-04-12-at-12-22-15-PM-1-_jpeg.rf.1a39c1aef0a466e77cf94ae2108cc623praxffoaug.jpg  \n",
            "  inflating: /content/Augmentations/train/images/WhatsApp-Image-2023-04-12-at-12-22-16-PM_jpeg.rf.941bc247e227b396fce5bcaf1c7a30c9imrffo.jpg  \n",
            "  inflating: /content/Augmentations/train/images/WhatsApp-Image-2023-04-12-at-12-22-16-PM_jpeg.rf.941bc247e227b396fce5bcaf1c7a30c9imrffoaug.jpg  \n",
            "  inflating: /content/Augmentations/train/images/WhatsApp-Image-2023-04-12-at-12-22-18-PM_jpeg.rf.df1c7aa1b28c5ad7ca1a0f592de41c85imrffo.jpg  \n",
            "  inflating: /content/Augmentations/train/images/WhatsApp-Image-2023-04-12-at-12-22-18-PM_jpeg.rf.df1c7aa1b28c5ad7ca1a0f592de41c85imrffoaug.jpg  \n",
            "  inflating: /content/Augmentations/train/images/WhatsApp-Image-2023-04-12-at-12-22-19-PM-1-_jpeg.rf.141e70bd0b4ff6e9fb5453c79331cd2brutrffo.jpg  \n",
            "  inflating: /content/Augmentations/train/images/WhatsApp-Image-2023-04-12-at-12-22-19-PM-1-_jpeg.rf.141e70bd0b4ff6e9fb5453c79331cd2brutrffoaug.jpg  \n",
            "  inflating: /content/Augmentations/train/images/WhatsApp-Image-2023-04-12-at-12-22-20-PM-1-_jpeg.rf.fb5b9aceef498307a19805d9bc0dfdbdpraxffo.jpg  \n",
            "  inflating: /content/Augmentations/train/images/WhatsApp-Image-2023-04-12-at-12-22-20-PM-1-_jpeg.rf.fb5b9aceef498307a19805d9bc0dfdbdpraxffoaug.jpg  \n",
            "  inflating: /content/Augmentations/train/images/WhatsApp-Image-2023-04-12-at-12-22-22-PM-1-_jpeg.rf.c77360151974bff1abbf0a6ba84d0ddbpraxffo.jpg  \n",
            "  inflating: /content/Augmentations/train/images/WhatsApp-Image-2023-04-12-at-12-22-22-PM-1-_jpeg.rf.c77360151974bff1abbf0a6ba84d0ddbpraxffoaug.jpg  \n",
            "  inflating: /content/Augmentations/train/images/WhatsApp-Image-2023-04-12-at-12-22-24-PM_jpeg.rf.261a8335f655b6019160cc6ac5c7e548ffo.jpg  \n",
            "  inflating: /content/Augmentations/train/images/WhatsApp-Image-2023-04-12-at-12-22-24-PM_jpeg.rf.261a8335f655b6019160cc6ac5c7e548ffoaug.jpg  \n",
            "  inflating: /content/Augmentations/train/images/WhatsApp-Image-2023-04-12-at-12-22-26-PM_jpeg.rf.d597e567bc273645bddb6dea488a4227praxffo.jpg  \n",
            "  inflating: /content/Augmentations/train/images/WhatsApp-Image-2023-04-12-at-12-22-26-PM_jpeg.rf.d597e567bc273645bddb6dea488a4227praxffoaug.jpg  \n",
            "  inflating: /content/Augmentations/train/images/WhatsApp-Image-2023-04-12-at-12-22-27-PM_jpeg.rf.0b44507724cc50c4251247a5f02d9479ffo.jpg  \n",
            "  inflating: /content/Augmentations/train/images/WhatsApp-Image-2023-04-12-at-12-22-27-PM_jpeg.rf.0b44507724cc50c4251247a5f02d9479ffoaug.jpg  \n",
            "  inflating: /content/Augmentations/train/images/WhatsApp-Image-2023-04-12-at-12-22-28-PM-1-_jpeg.rf.6c3c03caf066bd58f84e1ccfe90116dfffo.jpg  \n",
            "  inflating: /content/Augmentations/train/images/WhatsApp-Image-2023-04-12-at-12-22-28-PM-1-_jpeg.rf.6c3c03caf066bd58f84e1ccfe90116dfffoaug.jpg  \n",
            "  inflating: /content/Augmentations/train/images/WhatsApp-Image-2023-04-12-at-12-22-28-PM_jpeg.rf.7ae4c214f19ffab811227b7292343286ffo.jpg  \n",
            "  inflating: /content/Augmentations/train/images/WhatsApp-Image-2023-04-12-at-12-22-28-PM_jpeg.rf.7ae4c214f19ffab811227b7292343286ffoaug.jpg  \n",
            "  inflating: /content/Augmentations/train/images/WhatsApp-Image-2023-04-12-at-12-22-29-PM-1-_jpeg.rf.26a66d0d45c9e300157ff409bccde110ffo.jpg  \n",
            "  inflating: /content/Augmentations/train/images/WhatsApp-Image-2023-04-12-at-12-22-29-PM-1-_jpeg.rf.26a66d0d45c9e300157ff409bccde110ffoaug.jpg  \n",
            "  inflating: /content/Augmentations/train/images/WhatsApp-Image-2023-04-12-at-12-22-29-PM_jpeg.rf.58893f25a39d6c80845e9b51e27655abpraxffo.jpg  \n",
            "  inflating: /content/Augmentations/train/images/WhatsApp-Image-2023-04-12-at-12-22-29-PM_jpeg.rf.58893f25a39d6c80845e9b51e27655abpraxffoaug.jpg  \n",
            "  inflating: /content/Augmentations/train/images/WhatsApp-Image-2023-04-12-at-12-22-29-PM_jpeg.rf.5a91534a6978120bce545b6031cd6a9dffo.jpg  \n",
            "  inflating: /content/Augmentations/train/images/WhatsApp-Image-2023-04-12-at-12-22-29-PM_jpeg.rf.5a91534a6978120bce545b6031cd6a9dffoaug.jpg  \n",
            "  inflating: /content/Augmentations/train/images/WhatsApp-Image-2023-04-12-at-12-22-31-PM-1-_jpeg.rf.b7211fde4859ffbc635e52b34c409597ffo.jpg  \n",
            "  inflating: /content/Augmentations/train/images/WhatsApp-Image-2023-04-12-at-12-22-31-PM-1-_jpeg.rf.b7211fde4859ffbc635e52b34c409597ffoaug.jpg  \n",
            "  inflating: /content/Augmentations/train/images/WhatsApp-Image-2023-04-12-at-12-22-31-PM-1-_jpeg.rf.b7211fde4859ffbc635e52b34c409597imrffo.jpg  \n",
            "  inflating: /content/Augmentations/train/images/WhatsApp-Image-2023-04-12-at-12-22-31-PM-1-_jpeg.rf.b7211fde4859ffbc635e52b34c409597imrffoaug.jpg  \n",
            "  inflating: /content/Augmentations/train/images/WhatsApp-Image-2023-04-12-at-12-22-32-PM-1-_jpeg.rf.4b464b6ede3c94b70f41697ea4802384praxffo.jpg  \n",
            "  inflating: /content/Augmentations/train/images/WhatsApp-Image-2023-04-12-at-12-22-32-PM-1-_jpeg.rf.4b464b6ede3c94b70f41697ea4802384praxffoaug.jpg  \n",
            "  inflating: /content/Augmentations/train/images/WhatsApp-Image-2023-04-12-at-12-22-32-PM_jpeg.rf.7cd4508867af4d8385e4a1521bdf36a8praxffo.jpg  \n",
            "  inflating: /content/Augmentations/train/images/WhatsApp-Image-2023-04-12-at-12-22-32-PM_jpeg.rf.7cd4508867af4d8385e4a1521bdf36a8praxffoaug.jpg  \n",
            "  inflating: /content/Augmentations/train/images/WhatsApp-Image-2023-04-12-at-12-22-32-PM_jpeg.rf.e973e6cbfac70aaa48b448bb46db3308ffo.jpg  \n",
            "  inflating: /content/Augmentations/train/images/WhatsApp-Image-2023-04-12-at-12-22-32-PM_jpeg.rf.e973e6cbfac70aaa48b448bb46db3308ffoaug.jpg  \n",
            "  inflating: /content/Augmentations/train/images/WhatsApp-Image-2023-04-12-at-12-22-33-PM-1-_jpeg.rf.6aea0a32760baef85688fdc2fd4c38bapraxffo.jpg  \n",
            "  inflating: /content/Augmentations/train/images/WhatsApp-Image-2023-04-12-at-12-22-33-PM-1-_jpeg.rf.6aea0a32760baef85688fdc2fd4c38bapraxffoaug.jpg  \n",
            "  inflating: /content/Augmentations/train/images/WhatsApp-Image-2023-04-12-at-12-22-35-PM-1-_jpeg.rf.7c0f8688eff68933f2f482851830026apraxffo.jpg  \n",
            "  inflating: /content/Augmentations/train/images/WhatsApp-Image-2023-04-12-at-12-22-35-PM-1-_jpeg.rf.7c0f8688eff68933f2f482851830026apraxffoaug.jpg  \n",
            "  inflating: /content/Augmentations/train/images/WhatsApp-Image-2023-04-12-at-12-22-35-PM_jpeg.rf.8d145e14bb9587a9005600b2c0f2e8c6ffo.jpg  \n",
            "  inflating: /content/Augmentations/train/images/WhatsApp-Image-2023-04-12-at-12-22-35-PM_jpeg.rf.8d145e14bb9587a9005600b2c0f2e8c6ffoaug.jpg  \n",
            "  inflating: /content/Augmentations/train/images/WhatsApp-Image-2023-04-12-at-12-22-35-PM_jpeg.rf.8d145e14bb9587a9005600b2c0f2e8c6imrffo.jpg  \n",
            "  inflating: /content/Augmentations/train/images/WhatsApp-Image-2023-04-12-at-12-22-35-PM_jpeg.rf.8d145e14bb9587a9005600b2c0f2e8c6imrffoaug.jpg  \n",
            "  inflating: /content/Augmentations/train/images/WhatsApp-Image-2023-04-12-at-12-22-36-PM_jpeg.rf.a009525bddda60907e46e4348b1f2e93praxffo.jpg  \n",
            "  inflating: /content/Augmentations/train/images/WhatsApp-Image-2023-04-12-at-12-22-36-PM_jpeg.rf.a009525bddda60907e46e4348b1f2e93praxffoaug.jpg  \n",
            "  inflating: /content/Augmentations/train/images/WhatsApp-Image-2023-04-12-at-12-23-16-PM-1-_jpeg.rf.05c11358f4605ae28450968b2048a5b6imrffo.jpg  \n",
            "  inflating: /content/Augmentations/train/images/WhatsApp-Image-2023-04-12-at-12-23-16-PM-1-_jpeg.rf.05c11358f4605ae28450968b2048a5b6imrffoaug.jpg  \n",
            "  inflating: /content/Augmentations/train/images/WhatsApp-Image-2023-04-12-at-12-23-17-PM_jpeg.rf.d9c6509beb6c875e6ad8355e0de5b3a2praxffo.jpg  \n",
            "  inflating: /content/Augmentations/train/images/WhatsApp-Image-2023-04-12-at-12-23-17-PM_jpeg.rf.d9c6509beb6c875e6ad8355e0de5b3a2praxffoaug.jpg  \n",
            "  inflating: /content/Augmentations/train/images/WhatsApp-Image-2023-04-12-at-12-23-19-PM-1-_jpeg.rf.a83bf17ee9306e6ba0e169487f8e5de4ffo.jpg  \n",
            "  inflating: /content/Augmentations/train/images/WhatsApp-Image-2023-04-12-at-12-23-19-PM-1-_jpeg.rf.a83bf17ee9306e6ba0e169487f8e5de4ffoaug.jpg  \n",
            "  inflating: /content/Augmentations/train/images/WhatsApp-Image-2023-04-12-at-12-23-19-PM_jpeg.rf.eb03875e708d6dcadc047497757866a6imrffo.jpg  \n",
            "  inflating: /content/Augmentations/train/images/WhatsApp-Image-2023-04-12-at-12-23-19-PM_jpeg.rf.eb03875e708d6dcadc047497757866a6imrffoaug.jpg  \n",
            "  inflating: /content/Augmentations/train/images/WhatsApp-Image-2023-04-12-at-12-23-21-PM-1-_jpeg.rf.5263f384b16358300d03e0676cf5687apraxffo.jpg  \n",
            "  inflating: /content/Augmentations/train/images/WhatsApp-Image-2023-04-12-at-12-23-21-PM-1-_jpeg.rf.5263f384b16358300d03e0676cf5687apraxffoaug.jpg  \n",
            "  inflating: /content/Augmentations/train/images/WhatsApp-Image-2023-04-12-at-12-23-21-PM_jpeg.rf.4a330c92cdc94690dcbcf92b57fdd576praxffo.jpg  \n",
            "  inflating: /content/Augmentations/train/images/WhatsApp-Image-2023-04-12-at-12-23-21-PM_jpeg.rf.4a330c92cdc94690dcbcf92b57fdd576praxffoaug.jpg  \n",
            "  inflating: /content/Augmentations/train/images/WhatsApp-Image-2023-04-12-at-12-23-21-PM_jpeg.rf.8f86816dac70f167475124d9f6449b2epraxffo.jpg  \n",
            "  inflating: /content/Augmentations/train/images/WhatsApp-Image-2023-04-12-at-12-23-21-PM_jpeg.rf.8f86816dac70f167475124d9f6449b2epraxffoaug.jpg  \n",
            "  inflating: /content/Augmentations/train/images/WhatsApp-Image-2023-04-12-at-12-23-22-PM-1-_jpeg.rf.d592aeb31e18492f05c04f59a26895b6praxffo.jpg  \n",
            "  inflating: /content/Augmentations/train/images/WhatsApp-Image-2023-04-12-at-12-23-22-PM-1-_jpeg.rf.d592aeb31e18492f05c04f59a26895b6praxffoaug.jpg  \n",
            "  inflating: /content/Augmentations/train/images/WhatsApp-Image-2023-04-12-at-12-23-22-PM_jpeg.rf.e90a480bfbc4c0e3683fd62d7c50fb70ffo.jpg  \n",
            "  inflating: /content/Augmentations/train/images/WhatsApp-Image-2023-04-12-at-12-23-22-PM_jpeg.rf.e90a480bfbc4c0e3683fd62d7c50fb70ffoaug.jpg  \n",
            "  inflating: /content/Augmentations/train/images/WhatsApp-Image-2023-04-12-at-12-23-24-PM-1-_jpeg.rf.c223b0ea52082e90c2bce7daee0e1725imrffo.jpg  \n",
            "  inflating: /content/Augmentations/train/images/WhatsApp-Image-2023-04-12-at-12-23-24-PM-1-_jpeg.rf.c223b0ea52082e90c2bce7daee0e1725imrffoaug.jpg  \n",
            "  inflating: /content/Augmentations/train/images/WhatsApp-Image-2023-04-12-at-12-23-25-PM-1-_jpeg.rf.963ab90ccd5501f7a853f118f46cfb2effo.jpg  \n",
            "  inflating: /content/Augmentations/train/images/WhatsApp-Image-2023-04-12-at-12-23-25-PM-1-_jpeg.rf.963ab90ccd5501f7a853f118f46cfb2effoaug.jpg  \n",
            "  inflating: /content/Augmentations/train/images/WhatsApp-Image-2023-04-12-at-12-23-25-PM_jpeg.rf.1c788c86d9f182b22e4ab3147f55929apraxffo.jpg  \n",
            "  inflating: /content/Augmentations/train/images/WhatsApp-Image-2023-04-12-at-12-23-25-PM_jpeg.rf.1c788c86d9f182b22e4ab3147f55929apraxffoaug.jpg  \n",
            "  inflating: /content/Augmentations/train/images/WhatsApp-Image-2023-04-12-at-12-23-26-PM_jpeg.rf.ba21a215256135501323fb6ad1efc84fpraxffo.jpg  \n",
            "  inflating: /content/Augmentations/train/images/WhatsApp-Image-2023-04-12-at-12-23-26-PM_jpeg.rf.ba21a215256135501323fb6ad1efc84fpraxffoaug.jpg  \n",
            "  inflating: /content/Augmentations/train/images/WhatsApp-Image-2023-04-12-at-12-23-28-PM_jpeg.rf.b1bbfdc739ff9a09ed51f43bbf24ebd8imrffo.jpg  \n",
            "  inflating: /content/Augmentations/train/images/WhatsApp-Image-2023-04-12-at-12-23-28-PM_jpeg.rf.b1bbfdc739ff9a09ed51f43bbf24ebd8imrffoaug.jpg  \n",
            "  inflating: /content/Augmentations/train/images/WhatsApp-Image-2023-04-12-at-12-23-34-PM_jpeg.rf.6809074de546ca28478ef068cb848da6praxffo.jpg  \n",
            "  inflating: /content/Augmentations/train/images/WhatsApp-Image-2023-04-12-at-12-23-34-PM_jpeg.rf.6809074de546ca28478ef068cb848da6praxffoaug.jpg  \n",
            "  inflating: /content/Augmentations/train/images/WhatsApp-Image-2023-04-12-at-12-23-36-PM-1-_jpeg.rf.3b4d252f8304ea4476aa08cde56c9fbcpraxffo.jpg  \n",
            "  inflating: /content/Augmentations/train/images/WhatsApp-Image-2023-04-12-at-12-23-36-PM-1-_jpeg.rf.3b4d252f8304ea4476aa08cde56c9fbcpraxffoaug.jpg  \n",
            "  inflating: /content/Augmentations/train/images/WhatsApp-Image-2023-04-12-at-12-23-36-PM-1-_jpeg.rf.fff6044619102335ef856823c4eb809fpraxffo.jpg  \n",
            "  inflating: /content/Augmentations/train/images/WhatsApp-Image-2023-04-12-at-12-23-36-PM-1-_jpeg.rf.fff6044619102335ef856823c4eb809fpraxffoaug.jpg  \n",
            "  inflating: /content/Augmentations/train/images/WhatsApp-Image-2023-04-12-at-12-23-37-PM-1-_jpeg.rf.5aeac505c7074b8c418409dcc48ac809ffo.jpg  \n",
            "  inflating: /content/Augmentations/train/images/WhatsApp-Image-2023-04-12-at-12-23-37-PM-1-_jpeg.rf.5aeac505c7074b8c418409dcc48ac809ffoaug.jpg  \n",
            "  inflating: /content/Augmentations/train/images/WhatsApp-Image-2023-04-12-at-12-23-37-PM-1-_jpeg.rf.5aeac505c7074b8c418409dcc48ac809imrffo.jpg  \n",
            "  inflating: /content/Augmentations/train/images/WhatsApp-Image-2023-04-12-at-12-23-37-PM-1-_jpeg.rf.5aeac505c7074b8c418409dcc48ac809imrffoaug.jpg  \n",
            "  inflating: /content/Augmentations/train/images/WhatsApp-Image-2023-04-12-at-12-23-37-PM_jpeg.rf.d6ccda57cc81ee2250e8a9962aec4a75imrffo.jpg  \n",
            "  inflating: /content/Augmentations/train/images/WhatsApp-Image-2023-04-12-at-12-23-37-PM_jpeg.rf.d6ccda57cc81ee2250e8a9962aec4a75imrffoaug.jpg  \n",
            "  inflating: /content/Augmentations/train/images/WhatsApp-Image-2023-04-12-at-12-23-38-PM_jpeg.rf.2f495a9af7541bc1be1348965fbd5af8praxffo.jpg  \n",
            "  inflating: /content/Augmentations/train/images/WhatsApp-Image-2023-04-12-at-12-23-38-PM_jpeg.rf.2f495a9af7541bc1be1348965fbd5af8praxffoaug.jpg  \n",
            "  inflating: /content/Augmentations/train/images/WhatsApp-Image-2023-04-12-at-12-23-39-PM-1-_jpeg.rf.3795d07c633bf6695b129c3ef4ff28ebimrffo.jpg  \n",
            "  inflating: /content/Augmentations/train/images/WhatsApp-Image-2023-04-12-at-12-23-39-PM-1-_jpeg.rf.3795d07c633bf6695b129c3ef4ff28ebimrffoaug.jpg  \n",
            "  inflating: /content/Augmentations/train/images/WhatsApp-Image-2023-04-12-at-12-23-40-PM-1-_jpeg.rf.ddc7f013a09cbe9f4f09dea41780a96epraxffo.jpg  \n",
            "  inflating: /content/Augmentations/train/images/WhatsApp-Image-2023-04-12-at-12-23-40-PM-1-_jpeg.rf.ddc7f013a09cbe9f4f09dea41780a96epraxffoaug.jpg  \n",
            "  inflating: /content/Augmentations/train/images/WhatsApp-Image-2023-04-12-at-12-23-43-PM_jpeg.rf.c1d9fd9e88eaf81e127cbf8b3b46cfe5imrffo.jpg  \n",
            "  inflating: /content/Augmentations/train/images/WhatsApp-Image-2023-04-12-at-12-23-43-PM_jpeg.rf.c1d9fd9e88eaf81e127cbf8b3b46cfe5imrffoaug.jpg  \n",
            "  inflating: /content/Augmentations/train/images/WhatsApp-Image-2023-04-12-at-12-23-44-PM-1-_jpeg.rf.42e9ee2d9f4e06bbc14a37f513a5c998praxffo.jpg  \n",
            "  inflating: /content/Augmentations/train/images/WhatsApp-Image-2023-04-12-at-12-23-44-PM-1-_jpeg.rf.42e9ee2d9f4e06bbc14a37f513a5c998praxffoaug.jpg  \n",
            "  inflating: /content/Augmentations/train/images/WhatsApp-Image-2023-04-12-at-12-23-45-PM_jpeg.rf.102bc9e490f0712190155cf43b914b92praxffo.jpg  \n",
            "  inflating: /content/Augmentations/train/images/WhatsApp-Image-2023-04-12-at-12-23-45-PM_jpeg.rf.102bc9e490f0712190155cf43b914b92praxffoaug.jpg  \n",
            "  inflating: /content/Augmentations/train/images/WhatsApp-Image-2023-04-12-at-12-23-46-PM-1-_jpeg.rf.ac825b90ef97366b94dc73790e1dd60arutrffo.jpg  \n",
            "  inflating: /content/Augmentations/train/images/WhatsApp-Image-2023-04-12-at-12-23-46-PM-1-_jpeg.rf.ac825b90ef97366b94dc73790e1dd60arutrffoaug.jpg  \n",
            "  inflating: /content/Augmentations/train/images/WhatsApp-Image-2023-04-12-at-12-23-47-PM_jpeg.rf.970d4871945492dda309cb8da3831fdepraxffo.jpg  \n",
            "  inflating: /content/Augmentations/train/images/WhatsApp-Image-2023-04-12-at-12-23-47-PM_jpeg.rf.970d4871945492dda309cb8da3831fdepraxffoaug.jpg  \n",
            "  inflating: /content/Augmentations/train/images/WhatsApp-Image-2023-04-12-at-12-46-12-AM-1-_jpeg.rf.bdfeb8a8e8362888b2506e6df535ccdbpraxffo.jpg  \n",
            "  inflating: /content/Augmentations/train/images/WhatsApp-Image-2023-04-12-at-12-46-12-AM-1-_jpeg.rf.bdfeb8a8e8362888b2506e6df535ccdbpraxffoaug.jpg  \n",
            "  inflating: /content/Augmentations/train/images/WhatsApp-Image-2023-04-12-at-12-46-13-AM-1-_jpeg.rf.e22b444b104a28c91b21fde78d968175praxffo.jpg  \n",
            "  inflating: /content/Augmentations/train/images/WhatsApp-Image-2023-04-12-at-12-46-13-AM-1-_jpeg.rf.e22b444b104a28c91b21fde78d968175praxffoaug.jpg  \n",
            "  inflating: /content/Augmentations/train/images/WhatsApp-Image-2023-04-12-at-12-46-13-AM-1-_jpeg.rf.e7049b21eabb19f17936643a21971621praxffo.jpg  \n",
            "  inflating: /content/Augmentations/train/images/WhatsApp-Image-2023-04-12-at-12-46-13-AM-1-_jpeg.rf.e7049b21eabb19f17936643a21971621praxffoaug.jpg  \n",
            "  inflating: /content/Augmentations/train/images/WhatsApp-Image-2023-04-12-at-12-46-14-AM_jpeg.rf.475c344e91905ffc2f46baa0fee06cf3imrffo.jpg  \n",
            "  inflating: /content/Augmentations/train/images/WhatsApp-Image-2023-04-12-at-12-46-14-AM_jpeg.rf.475c344e91905ffc2f46baa0fee06cf3imrffoaug.jpg  \n",
            "  inflating: /content/Augmentations/train/images/WhatsApp-Image-2023-04-12-at-12-46-14-AM_jpeg.rf.475c344e91905ffc2f46baa0fee06cf3rutrffo.jpg  \n",
            "  inflating: /content/Augmentations/train/images/WhatsApp-Image-2023-04-12-at-12-46-14-AM_jpeg.rf.475c344e91905ffc2f46baa0fee06cf3rutrffoaug.jpg  \n",
            "  inflating: /content/Augmentations/train/images/WhatsApp-Image-2023-04-12-at-12-46-15-AM_jpeg.rf.286b58b11b6274d63fafd6b599e96459praxffo.jpg  \n",
            "  inflating: /content/Augmentations/train/images/WhatsApp-Image-2023-04-12-at-12-46-15-AM_jpeg.rf.286b58b11b6274d63fafd6b599e96459praxffoaug.jpg  \n",
            "  inflating: /content/Augmentations/train/images/WhatsApp-Image-2023-04-12-at-12-46-16-AM-1-_jpeg.rf.9236bc2d8cc5c98930d267c04642a801praxffo.jpg  \n",
            "  inflating: /content/Augmentations/train/images/WhatsApp-Image-2023-04-12-at-12-46-16-AM-1-_jpeg.rf.9236bc2d8cc5c98930d267c04642a801praxffoaug.jpg  \n",
            "  inflating: /content/Augmentations/train/images/WhatsApp-Image-2023-04-12-at-12-46-17-AM_jpeg.rf.3ae2704a5a066378d7cf4122e382dfd6praxffo.jpg  \n",
            "  inflating: /content/Augmentations/train/images/WhatsApp-Image-2023-04-12-at-12-46-17-AM_jpeg.rf.3ae2704a5a066378d7cf4122e382dfd6praxffoaug.jpg  \n",
            "  inflating: /content/Augmentations/train/images/WhatsApp-Image-2023-04-12-at-12-46-18-AM_jpeg.rf.2555221ee8471b98b5c1ca0fb4127ebepraxffo.jpg  \n",
            "  inflating: /content/Augmentations/train/images/WhatsApp-Image-2023-04-12-at-12-46-18-AM_jpeg.rf.2555221ee8471b98b5c1ca0fb4127ebepraxffoaug.jpg  \n",
            "  inflating: /content/Augmentations/train/images/WhatsApp-Image-2023-04-12-at-12-46-19-AM-1-_jpeg.rf.43f0173ca02242ffcd7892a3f540ba3bimrffo.jpg  \n",
            "  inflating: /content/Augmentations/train/images/WhatsApp-Image-2023-04-12-at-12-46-19-AM-1-_jpeg.rf.43f0173ca02242ffcd7892a3f540ba3bimrffoaug.jpg  \n",
            "  inflating: /content/Augmentations/train/images/WhatsApp-Image-2023-04-12-at-12-46-19-AM_jpeg.rf.59a8edf9474ee698192a3f93ec415b1fpraxffo.jpg  \n",
            "  inflating: /content/Augmentations/train/images/WhatsApp-Image-2023-04-12-at-12-46-19-AM_jpeg.rf.59a8edf9474ee698192a3f93ec415b1fpraxffoaug.jpg  \n",
            "  inflating: /content/Augmentations/train/images/WhatsApp-Image-2023-04-12-at-12-46-21-AM_jpeg.rf.bfdf7928546d4416d06b36ea64efa3b0imrffo.jpg  \n",
            "  inflating: /content/Augmentations/train/images/WhatsApp-Image-2023-04-12-at-12-46-21-AM_jpeg.rf.bfdf7928546d4416d06b36ea64efa3b0imrffoaug.jpg  \n",
            "  inflating: /content/Augmentations/train/images/WhatsApp-Image-2023-04-12-at-12-46-21-AM_jpeg.rf.bfdf7928546d4416d06b36ea64efa3b0rutrffo.jpg  \n",
            "  inflating: /content/Augmentations/train/images/WhatsApp-Image-2023-04-12-at-12-46-21-AM_jpeg.rf.bfdf7928546d4416d06b36ea64efa3b0rutrffoaug.jpg  \n",
            "  inflating: /content/Augmentations/train/images/WhatsApp-Image-2023-04-12-at-12-46-22-AM-1-_jpeg.rf.c03ef6ce7ce0c23946478a7b231de32brutrffo.jpg  \n",
            "  inflating: /content/Augmentations/train/images/WhatsApp-Image-2023-04-12-at-12-46-22-AM-1-_jpeg.rf.c03ef6ce7ce0c23946478a7b231de32brutrffoaug.jpg  \n",
            "  inflating: /content/Augmentations/train/images/WhatsApp-Image-2023-04-12-at-12-46-22-AM_jpeg.rf.026956ae4a07616e022825dbeae3160apraxffo.jpg  \n",
            "  inflating: /content/Augmentations/train/images/WhatsApp-Image-2023-04-12-at-12-46-22-AM_jpeg.rf.026956ae4a07616e022825dbeae3160apraxffoaug.jpg  \n",
            "  inflating: /content/Augmentations/train/images/WhatsApp-Image-2023-04-12-at-12-46-22-AM_jpeg.rf.18556755541695d43594aaff7eababdbpraxffo.jpg  \n",
            "  inflating: /content/Augmentations/train/images/WhatsApp-Image-2023-04-12-at-12-46-22-AM_jpeg.rf.18556755541695d43594aaff7eababdbpraxffoaug.jpg  \n",
            "  inflating: /content/Augmentations/train/images/WhatsApp-Image-2023-04-12-at-12-46-23-AM-1-_jpeg.rf.daa3084687d4b44a4d1f9c36968f76c9ffo.jpg  \n",
            "  inflating: /content/Augmentations/train/images/WhatsApp-Image-2023-04-12-at-12-46-23-AM-1-_jpeg.rf.daa3084687d4b44a4d1f9c36968f76c9ffoaug.jpg  \n",
            "  inflating: /content/Augmentations/train/images/WhatsApp-Image-2023-04-12-at-12-46-23-AM-1-_jpeg.rf.daa3084687d4b44a4d1f9c36968f76c9rutrffo.jpg  \n",
            "  inflating: /content/Augmentations/train/images/WhatsApp-Image-2023-04-12-at-12-46-23-AM-1-_jpeg.rf.daa3084687d4b44a4d1f9c36968f76c9rutrffoaug.jpg  \n",
            "  inflating: /content/Augmentations/train/images/WhatsApp-Image-2023-04-12-at-12-46-23-AM_jpeg.rf.e1c41e40882931ea10369e7191018879ffo.jpg  \n",
            "  inflating: /content/Augmentations/train/images/WhatsApp-Image-2023-04-12-at-12-46-23-AM_jpeg.rf.e1c41e40882931ea10369e7191018879ffoaug.jpg  \n",
            "  inflating: /content/Augmentations/train/images/WhatsApp-Image-2023-04-12-at-12-46-23-AM_jpeg.rf.e1c41e40882931ea10369e7191018879rutrffo.jpg  \n",
            "  inflating: /content/Augmentations/train/images/WhatsApp-Image-2023-04-12-at-12-46-23-AM_jpeg.rf.e1c41e40882931ea10369e7191018879rutrffoaug.jpg  \n",
            "  inflating: /content/Augmentations/train/images/WhatsApp-Image-2023-04-12-at-12-46-25-AM_jpeg.rf.609cfdd5238d248cb134337bd9286e6dimrffo.jpg  \n",
            "  inflating: /content/Augmentations/train/images/WhatsApp-Image-2023-04-12-at-12-46-25-AM_jpeg.rf.609cfdd5238d248cb134337bd9286e6dimrffoaug.jpg  \n",
            "  inflating: /content/Augmentations/train/images/WhatsApp-Image-2023-04-12-at-12-46-25-AM_jpeg.rf.609cfdd5238d248cb134337bd9286e6drutrffo.jpg  \n",
            "  inflating: /content/Augmentations/train/images/WhatsApp-Image-2023-04-12-at-12-46-25-AM_jpeg.rf.609cfdd5238d248cb134337bd9286e6drutrffoaug.jpg  \n",
            "  inflating: /content/Augmentations/train/images/WhatsApp-Image-2023-04-12-at-12-46-29-AM_jpeg.rf.8f913b1389361b42976a5802b0a8dc1bimrffo.jpg  \n",
            "  inflating: /content/Augmentations/train/images/WhatsApp-Image-2023-04-12-at-12-46-29-AM_jpeg.rf.8f913b1389361b42976a5802b0a8dc1bimrffoaug.jpg  \n",
            "  inflating: /content/Augmentations/train/images/WhatsApp-Image-2023-04-12-at-12-46-29-AM_jpeg.rf.8f913b1389361b42976a5802b0a8dc1brutrffo.jpg  \n",
            "  inflating: /content/Augmentations/train/images/WhatsApp-Image-2023-04-12-at-12-46-29-AM_jpeg.rf.8f913b1389361b42976a5802b0a8dc1brutrffoaug.jpg  \n",
            "  inflating: /content/Augmentations/train/images/WhatsApp-Image-2023-04-12-at-12-46-32-AM_jpeg.rf.efd19c3e189ecd6bd17e3ae0cd5a23a5ffo.jpg  \n",
            "  inflating: /content/Augmentations/train/images/WhatsApp-Image-2023-04-12-at-12-46-32-AM_jpeg.rf.efd19c3e189ecd6bd17e3ae0cd5a23a5ffoaug.jpg  \n",
            "  inflating: /content/Augmentations/train/images/WhatsApp-Image-2023-04-12-at-12-46-33-AM-2-_jpeg.rf.8aff171c034e3db7b993697fe936edb6imrffo.jpg  \n",
            "  inflating: /content/Augmentations/train/images/WhatsApp-Image-2023-04-12-at-12-46-33-AM-2-_jpeg.rf.8aff171c034e3db7b993697fe936edb6imrffoaug.jpg  \n",
            "  inflating: /content/Augmentations/train/images/WhatsApp-Image-2023-04-12-at-12-46-36-AM-2-_jpeg.rf.567955ef512697c5c2d1747549781b4dffo.jpg  \n",
            "  inflating: /content/Augmentations/train/images/WhatsApp-Image-2023-04-12-at-12-46-36-AM-2-_jpeg.rf.567955ef512697c5c2d1747549781b4dffoaug.jpg  \n",
            "  inflating: /content/Augmentations/train/images/WhatsApp-Image-2023-04-12-at-12-46-37-AM_jpeg.rf.18377dd2412b5bdd6a9ac4348e82c5b0imrffo.jpg  \n",
            "  inflating: /content/Augmentations/train/images/WhatsApp-Image-2023-04-12-at-12-46-37-AM_jpeg.rf.18377dd2412b5bdd6a9ac4348e82c5b0imrffoaug.jpg  \n",
            "  inflating: /content/Augmentations/train/images/WhatsApp-Image-2023-04-12-at-12-46-38-AM_jpeg.rf.ad1ed7f6d6419f6505553c96c9eb957drutruplffo.jpg  \n",
            "  inflating: /content/Augmentations/train/images/WhatsApp-Image-2023-04-12-at-12-46-38-AM_jpeg.rf.ad1ed7f6d6419f6505553c96c9eb957drutruplffoaug.jpg  \n",
            "  inflating: /content/Augmentations/train/images/WhatsApp-Image-2023-04-12-at-12-46-39-AM-1-_jpeg.rf.4a4548b75fd9a312fe0d450d1d302783imrffo.jpg  \n",
            "  inflating: /content/Augmentations/train/images/WhatsApp-Image-2023-04-12-at-12-46-39-AM-1-_jpeg.rf.4a4548b75fd9a312fe0d450d1d302783imrffoaug.jpg  \n",
            "  inflating: /content/Augmentations/train/images/WhatsApp-Image-2023-04-12-at-12-46-40-AM_jpeg.rf.f42560b62a44fd2ed5a8216762544fc9rutruplffo.jpg  \n",
            "  inflating: /content/Augmentations/train/images/WhatsApp-Image-2023-04-12-at-12-46-40-AM_jpeg.rf.f42560b62a44fd2ed5a8216762544fc9rutruplffoaug.jpg  \n",
            "  inflating: /content/Augmentations/train/images/WhatsApp-Image-2023-04-12-at-12-47-58-AM_jpeg.rf.55026b2d74bef3579daada7b3d3b7b73rutruplffo.jpg  \n",
            "  inflating: /content/Augmentations/train/images/WhatsApp-Image-2023-04-12-at-12-47-58-AM_jpeg.rf.55026b2d74bef3579daada7b3d3b7b73rutruplffoaug.jpg  \n",
            "  inflating: /content/Augmentations/train/images/WhatsApp-Image-2023-04-12-at-12-47-58-AM_jpeg.rf.a919ced975a1aaf07f34b1d6bad27e41rutruplffo.jpg  \n",
            "  inflating: /content/Augmentations/train/images/WhatsApp-Image-2023-04-12-at-12-47-58-AM_jpeg.rf.a919ced975a1aaf07f34b1d6bad27e41rutruplffoaug.jpg  \n",
            "  inflating: /content/Augmentations/train/images/WhatsApp-Image-2023-04-12-at-12-47-59-AM_jpeg.rf.77214baaf6942d36d06131c257c1ea40imrffo.jpg  \n",
            "  inflating: /content/Augmentations/train/images/WhatsApp-Image-2023-04-12-at-12-47-59-AM_jpeg.rf.77214baaf6942d36d06131c257c1ea40imrffoaug.jpg  \n",
            "  inflating: /content/Augmentations/train/images/WhatsApp-Image-2023-04-12-at-12-48-00-AM-1-_jpeg.rf.6cee27125bd0bbd4011650479973a761rutruplffo.jpg  \n",
            "  inflating: /content/Augmentations/train/images/WhatsApp-Image-2023-04-12-at-12-48-00-AM-1-_jpeg.rf.6cee27125bd0bbd4011650479973a761rutruplffoaug.jpg  \n",
            "  inflating: /content/Augmentations/train/images/WhatsApp-Image-2023-04-12-at-12-48-00-AM-1-_jpeg.rf.776aa570e11c69e1b3464d672785d19frutruplffo.jpg  \n",
            "  inflating: /content/Augmentations/train/images/WhatsApp-Image-2023-04-12-at-12-48-00-AM-1-_jpeg.rf.776aa570e11c69e1b3464d672785d19frutruplffoaug.jpg  \n",
            "  inflating: /content/Augmentations/train/images/WhatsApp-Image-2023-04-12-at-12-48-00-AM-2-_jpeg.rf.a5d68d9aa52b53536daed7f26a26cb54rutruplffo.jpg  \n",
            "  inflating: /content/Augmentations/train/images/WhatsApp-Image-2023-04-12-at-12-48-00-AM-2-_jpeg.rf.a5d68d9aa52b53536daed7f26a26cb54rutruplffoaug.jpg  \n",
            "  inflating: /content/Augmentations/train/images/WhatsApp-Image-2023-04-12-at-12-48-00-AM_jpeg.rf.f45d68113159886acabe637b72a99ae6rutruplffo.jpg  \n",
            "  inflating: /content/Augmentations/train/images/WhatsApp-Image-2023-04-12-at-12-48-00-AM_jpeg.rf.f45d68113159886acabe637b72a99ae6rutruplffoaug.jpg  \n",
            "  inflating: /content/Augmentations/train/images/WhatsApp-Image-2023-04-12-at-12-48-01-AM-1-_jpeg.rf.ce7556170a35c783d9712e2ea769d39bimrffo.jpg  \n",
            "  inflating: /content/Augmentations/train/images/WhatsApp-Image-2023-04-12-at-12-48-01-AM-1-_jpeg.rf.ce7556170a35c783d9712e2ea769d39bimrffoaug.jpg  \n",
            "  inflating: /content/Augmentations/train/images/WhatsApp-Image-2023-04-12-at-12-48-01-AM_jpeg.rf.983f76b8ccb158b49775cdd8b9d9f434rutruplffo.jpg  \n",
            "  inflating: /content/Augmentations/train/images/WhatsApp-Image-2023-04-12-at-12-48-01-AM_jpeg.rf.983f76b8ccb158b49775cdd8b9d9f434rutruplffoaug.jpg  \n",
            "  inflating: /content/Augmentations/train/images/WhatsApp-Image-2023-04-12-at-12-48-02-AM_jpeg.rf.6017bdb4e11a86a1d0aae8c028cf0fe2rutruplffo.jpg  \n",
            "  inflating: /content/Augmentations/train/images/WhatsApp-Image-2023-04-12-at-12-48-02-AM_jpeg.rf.6017bdb4e11a86a1d0aae8c028cf0fe2rutruplffoaug.jpg  \n",
            "  inflating: /content/Augmentations/train/images/WhatsApp-Image-2023-04-12-at-12-48-03-AM-1-_jpeg.rf.4f49bc13f865e35d26a93ad35ab57dd2rutruplffo.jpg  \n",
            "  inflating: /content/Augmentations/train/images/WhatsApp-Image-2023-04-12-at-12-48-03-AM-1-_jpeg.rf.4f49bc13f865e35d26a93ad35ab57dd2rutruplffoaug.jpg  \n",
            "  inflating: /content/Augmentations/train/images/WhatsApp-Image-2023-04-12-at-12-48-03-AM-1-_jpeg.rf.f46b660d72e32729d77cf4c97764a0berutruplffo.jpg  \n",
            "  inflating: /content/Augmentations/train/images/WhatsApp-Image-2023-04-12-at-12-48-03-AM-1-_jpeg.rf.f46b660d72e32729d77cf4c97764a0berutruplffoaug.jpg  \n",
            "  inflating: /content/Augmentations/train/images/WhatsApp-Image-2023-04-12-at-12-48-03-AM-2-_jpeg.rf.71d632a642caf943a760cb35674a5dbarutruplffo.jpg  \n",
            "  inflating: /content/Augmentations/train/images/WhatsApp-Image-2023-04-12-at-12-48-03-AM-2-_jpeg.rf.71d632a642caf943a760cb35674a5dbarutruplffoaug.jpg  \n",
            "  inflating: /content/Augmentations/train/images/WhatsApp-Image-2023-04-12-at-12-48-03-AM-2-_jpeg.rf.a86d5ea7eec4eb72f06fc4649a61b7e3rutruplffo.jpg  \n",
            "  inflating: /content/Augmentations/train/images/WhatsApp-Image-2023-04-12-at-12-48-03-AM-2-_jpeg.rf.a86d5ea7eec4eb72f06fc4649a61b7e3rutruplffoaug.jpg  \n",
            "  inflating: /content/Augmentations/train/images/WhatsApp-Image-2023-04-12-at-12-48-03-AM_jpeg.rf.30f8885b0f6ce2d88ff600b7a9c47b01rutruplffo.jpg  \n",
            "  inflating: /content/Augmentations/train/images/WhatsApp-Image-2023-04-12-at-12-48-03-AM_jpeg.rf.30f8885b0f6ce2d88ff600b7a9c47b01rutruplffoaug.jpg  \n",
            "  inflating: /content/Augmentations/train/images/WhatsApp-Image-2023-04-12-at-12-48-04-AM-1-_jpeg.rf.5fe95fa62d2c1ddb50ea83121a485b0arutruplffo.jpg  \n",
            "  inflating: /content/Augmentations/train/images/WhatsApp-Image-2023-04-12-at-12-48-04-AM-1-_jpeg.rf.5fe95fa62d2c1ddb50ea83121a485b0arutruplffoaug.jpg  \n",
            "  inflating: /content/Augmentations/train/images/WhatsApp-Image-2023-04-12-at-12-48-04-AM_jpeg.rf.1f92c70cc5d1c669b1a5d67ad133c8ecrutruplffo.jpg  \n",
            "  inflating: /content/Augmentations/train/images/WhatsApp-Image-2023-04-12-at-12-48-04-AM_jpeg.rf.1f92c70cc5d1c669b1a5d67ad133c8ecrutruplffoaug.jpg  \n",
            "  inflating: /content/Augmentations/train/images/WhatsApp-Image-2023-04-12-at-12-48-05-AM-1-_jpeg.rf.2a7bf2e9078184ed68162c5dd6e67a50imrffo.jpg  \n",
            "  inflating: /content/Augmentations/train/images/WhatsApp-Image-2023-04-12-at-12-48-05-AM-1-_jpeg.rf.2a7bf2e9078184ed68162c5dd6e67a50imrffoaug.jpg  \n",
            "  inflating: /content/Augmentations/train/images/WhatsApp-Image-2023-04-12-at-12-48-05-AM_jpeg.rf.7ca8768c3c2afc356c1e398660d87e94imrffo.jpg  \n",
            "  inflating: /content/Augmentations/train/images/WhatsApp-Image-2023-04-12-at-12-48-05-AM_jpeg.rf.7ca8768c3c2afc356c1e398660d87e94imrffoaug.jpg  \n",
            "  inflating: /content/Augmentations/train/images/WhatsApp-Image-2023-04-12-at-12-48-05-AM_jpeg.rf.7ca8768c3c2afc356c1e398660d87e94rutrffo.jpg  \n",
            "  inflating: /content/Augmentations/train/images/WhatsApp-Image-2023-04-12-at-12-48-05-AM_jpeg.rf.7ca8768c3c2afc356c1e398660d87e94rutrffoaug.jpg  \n",
            "  inflating: /content/Augmentations/train/images/WhatsApp-Image-2023-04-12-at-12-48-06-AM-1-_jpeg.rf.1773920ae7053a5f7650b00487695061rutruplffo.jpg  \n",
            "  inflating: /content/Augmentations/train/images/WhatsApp-Image-2023-04-12-at-12-48-06-AM-1-_jpeg.rf.1773920ae7053a5f7650b00487695061rutruplffoaug.jpg  \n",
            "  inflating: /content/Augmentations/train/images/WhatsApp-Image-2023-04-12-at-12-48-06-AM_jpeg.rf.6ed16dfe4408f6e8642a54509bf17483rutruplffo.jpg  \n",
            "  inflating: /content/Augmentations/train/images/WhatsApp-Image-2023-04-12-at-12-48-06-AM_jpeg.rf.6ed16dfe4408f6e8642a54509bf17483rutruplffoaug.jpg  \n",
            "  inflating: /content/Augmentations/train/images/WhatsApp-Image-2023-04-12-at-12-48-06-AM_jpeg.rf.f0d991013acb5a09f41b9e6d5865d65brutruplffo.jpg  \n",
            "  inflating: /content/Augmentations/train/images/WhatsApp-Image-2023-04-12-at-12-48-06-AM_jpeg.rf.f0d991013acb5a09f41b9e6d5865d65brutruplffoaug.jpg  \n",
            "  inflating: /content/Augmentations/train/images/WhatsApp-Image-2023-04-12-at-12-48-07-AM-1-_jpeg.rf.d31c19bbfdfacb26d9cd27d4d05baf32ffo.jpg  \n",
            "  inflating: /content/Augmentations/train/images/WhatsApp-Image-2023-04-12-at-12-48-07-AM-1-_jpeg.rf.d31c19bbfdfacb26d9cd27d4d05baf32ffoaug.jpg  \n",
            "  inflating: /content/Augmentations/train/images/WhatsApp-Image-2023-04-12-at-12-48-07-AM-1-_jpeg.rf.d31c19bbfdfacb26d9cd27d4d05baf32rutrffo.jpg  \n",
            "  inflating: /content/Augmentations/train/images/WhatsApp-Image-2023-04-12-at-12-48-07-AM-1-_jpeg.rf.d31c19bbfdfacb26d9cd27d4d05baf32rutrffoaug.jpg  \n",
            "  inflating: /content/Augmentations/train/images/WhatsApp-Image-2023-04-12-at-12-48-07-AM_jpeg.rf.4c83e94267395f903a82a9f13066aaa7rutruplffo.jpg  \n",
            "  inflating: /content/Augmentations/train/images/WhatsApp-Image-2023-04-12-at-12-48-07-AM_jpeg.rf.4c83e94267395f903a82a9f13066aaa7rutruplffoaug.jpg  \n",
            "  inflating: /content/Augmentations/train/images/WhatsApp-Image-2023-04-12-at-12-48-08-AM_jpeg.rf.2e9830fc88e9cab7e78be6ff87354ae5rutruplffo.jpg  \n",
            "  inflating: /content/Augmentations/train/images/WhatsApp-Image-2023-04-12-at-12-48-08-AM_jpeg.rf.2e9830fc88e9cab7e78be6ff87354ae5rutruplffoaug.jpg  \n",
            "  inflating: /content/Augmentations/train/images/WhatsApp-Image-2023-04-12-at-12-48-09-AM_jpeg.rf.720d34d01d5741f7efbd63401179a7dfrutruplffo.jpg  \n",
            "  inflating: /content/Augmentations/train/images/WhatsApp-Image-2023-04-12-at-12-48-09-AM_jpeg.rf.720d34d01d5741f7efbd63401179a7dfrutruplffoaug.jpg  \n",
            "  inflating: /content/Augmentations/train/images/WhatsApp-Image-2023-04-12-at-12-48-10-AM-1-_jpeg.rf.801a1eeaca4c52cf92310f0cb8dd31afffo.jpg  \n",
            "  inflating: /content/Augmentations/train/images/WhatsApp-Image-2023-04-12-at-12-48-10-AM-1-_jpeg.rf.801a1eeaca4c52cf92310f0cb8dd31afffoaug.jpg  \n",
            "  inflating: /content/Augmentations/train/images/WhatsApp-Image-2023-04-12-at-12-48-10-AM-1-_jpeg.rf.801a1eeaca4c52cf92310f0cb8dd31afrutrffo.jpg  \n",
            "  inflating: /content/Augmentations/train/images/WhatsApp-Image-2023-04-12-at-12-48-10-AM-1-_jpeg.rf.801a1eeaca4c52cf92310f0cb8dd31afrutrffoaug.jpg  \n",
            "  inflating: /content/Augmentations/train/images/WhatsApp-Image-2023-04-12-at-12-48-10-AM_jpeg.rf.35b08a45c9323dd50f73ac09060f9bb9rutruplffo.jpg  \n",
            "  inflating: /content/Augmentations/train/images/WhatsApp-Image-2023-04-12-at-12-48-10-AM_jpeg.rf.35b08a45c9323dd50f73ac09060f9bb9rutruplffoaug.jpg  \n",
            "  inflating: /content/Augmentations/train/images/WhatsApp-Image-2023-04-12-at-12-48-11-AM-1-_jpeg.rf.ba5cf70242621b885f0c767e4d18fe00imrffo.jpg  \n",
            "  inflating: /content/Augmentations/train/images/WhatsApp-Image-2023-04-12-at-12-48-11-AM-1-_jpeg.rf.ba5cf70242621b885f0c767e4d18fe00imrffoaug.jpg  \n",
            "  inflating: /content/Augmentations/train/images/WhatsApp-Image-2023-04-12-at-12-48-11-AM-1-_jpeg.rf.ba5cf70242621b885f0c767e4d18fe00rutrffo.jpg  \n",
            "  inflating: /content/Augmentations/train/images/WhatsApp-Image-2023-04-12-at-12-48-11-AM-1-_jpeg.rf.ba5cf70242621b885f0c767e4d18fe00rutrffoaug.jpg  \n",
            "  inflating: /content/Augmentations/train/images/WhatsApp-Image-2023-04-12-at-12-48-11-AM_jpeg.rf.df3aa557b83e518450448b9e3ddcd8d8imrffo.jpg  \n",
            "  inflating: /content/Augmentations/train/images/WhatsApp-Image-2023-04-12-at-12-48-11-AM_jpeg.rf.df3aa557b83e518450448b9e3ddcd8d8imrffoaug.jpg  \n",
            "  inflating: /content/Augmentations/train/images/WhatsApp-Image-2023-04-12-at-12-48-11-AM_jpeg.rf.df3aa557b83e518450448b9e3ddcd8d8rutrffo.jpg  \n",
            "  inflating: /content/Augmentations/train/images/WhatsApp-Image-2023-04-12-at-12-48-11-AM_jpeg.rf.df3aa557b83e518450448b9e3ddcd8d8rutrffoaug.jpg  \n",
            "  inflating: /content/Augmentations/train/images/WhatsApp-Image-2023-04-12-at-12-48-12-AM-1-_jpeg.rf.1044ac2d0b60d7c40d16fe683a8981a3rutruplffo.jpg  \n",
            "  inflating: /content/Augmentations/train/images/WhatsApp-Image-2023-04-12-at-12-48-12-AM-1-_jpeg.rf.1044ac2d0b60d7c40d16fe683a8981a3rutruplffoaug.jpg  \n",
            "  inflating: /content/Augmentations/train/images/WhatsApp-Image-2023-04-12-at-12-48-12-AM-1-_jpeg.rf.edede6a8a081c37aea8fec26555220d9rutruplffo.jpg  \n",
            "  inflating: /content/Augmentations/train/images/WhatsApp-Image-2023-04-12-at-12-48-12-AM-1-_jpeg.rf.edede6a8a081c37aea8fec26555220d9rutruplffoaug.jpg  \n",
            "  inflating: /content/Augmentations/train/images/WhatsApp-Image-2023-04-12-at-12-48-12-AM_jpeg.rf.f77427ae6f57366bc3e88194aaba72beffo.jpg  \n",
            "  inflating: /content/Augmentations/train/images/WhatsApp-Image-2023-04-12-at-12-48-12-AM_jpeg.rf.f77427ae6f57366bc3e88194aaba72beffoaug.jpg  \n",
            "  inflating: /content/Augmentations/train/images/WhatsApp-Image-2023-04-12-at-5-11-24-PM_jpeg.rf.25c1b3ed168c3806c0555cf0db4bd84dimrffo.jpg  \n",
            "  inflating: /content/Augmentations/train/images/WhatsApp-Image-2023-04-12-at-5-11-24-PM_jpeg.rf.25c1b3ed168c3806c0555cf0db4bd84dimrffoaug.jpg  \n",
            "  inflating: /content/Augmentations/train/images/WhatsApp-Image-2023-04-12-at-5-11-24-PM_jpeg.rf.25c1b3ed168c3806c0555cf0db4bd84drutrffo.jpg  \n",
            "  inflating: /content/Augmentations/train/images/WhatsApp-Image-2023-04-12-at-5-11-24-PM_jpeg.rf.25c1b3ed168c3806c0555cf0db4bd84drutrffoaug.jpg  \n",
            "   creating: /content/Augmentations/train/labels/\n",
            "  inflating: /content/Augmentations/train/labels/10.txt  \n",
            "  inflating: /content/Augmentations/train/labels/104.txt  \n",
            "  inflating: /content/Augmentations/train/labels/104aug.txt  \n",
            "  inflating: /content/Augmentations/train/labels/105.txt  \n",
            "  inflating: /content/Augmentations/train/labels/105aug.txt  \n",
            "  inflating: /content/Augmentations/train/labels/108.txt  \n",
            "  inflating: /content/Augmentations/train/labels/108aug.txt  \n",
            "  inflating: /content/Augmentations/train/labels/10aug.txt  \n",
            "  inflating: /content/Augmentations/train/labels/10t.txt  \n",
            "  inflating: /content/Augmentations/train/labels/10taug.txt  \n",
            "  inflating: /content/Augmentations/train/labels/115.txt  \n",
            "  inflating: /content/Augmentations/train/labels/115aug.txt  \n",
            "  inflating: /content/Augmentations/train/labels/116.txt  \n",
            "  inflating: /content/Augmentations/train/labels/116aug.txt  \n",
            "  inflating: /content/Augmentations/train/labels/118.txt  \n",
            "  inflating: /content/Augmentations/train/labels/118aug.txt  \n",
            "  inflating: /content/Augmentations/train/labels/11t.txt  \n",
            "  inflating: /content/Augmentations/train/labels/11taug.txt  \n",
            "  inflating: /content/Augmentations/train/labels/124.txt  \n",
            "  inflating: /content/Augmentations/train/labels/124aug.txt  \n",
            "  inflating: /content/Augmentations/train/labels/125.txt  \n",
            "  inflating: /content/Augmentations/train/labels/125aug.txt  \n",
            "  inflating: /content/Augmentations/train/labels/12t.txt  \n",
            "  inflating: /content/Augmentations/train/labels/12taug.txt  \n",
            "  inflating: /content/Augmentations/train/labels/13t.txt  \n",
            "  inflating: /content/Augmentations/train/labels/13taug.txt  \n",
            "  inflating: /content/Augmentations/train/labels/14.txt  \n",
            "  inflating: /content/Augmentations/train/labels/14aug.txt  \n",
            "  inflating: /content/Augmentations/train/labels/14t.txt  \n",
            "  inflating: /content/Augmentations/train/labels/14taug.txt  \n",
            "  inflating: /content/Augmentations/train/labels/15t.txt  \n",
            "  inflating: /content/Augmentations/train/labels/15taug.txt  \n",
            "  inflating: /content/Augmentations/train/labels/16t.txt  \n",
            "  inflating: /content/Augmentations/train/labels/16taug.txt  \n",
            "  inflating: /content/Augmentations/train/labels/17.txt  \n",
            "  inflating: /content/Augmentations/train/labels/17aug.txt  \n",
            "  inflating: /content/Augmentations/train/labels/19t.txt  \n",
            "  inflating: /content/Augmentations/train/labels/19taug.txt  \n",
            "  inflating: /content/Augmentations/train/labels/1t.txt  \n",
            "  inflating: /content/Augmentations/train/labels/1taug.txt  \n",
            "  inflating: /content/Augmentations/train/labels/2.txt  \n",
            "  inflating: /content/Augmentations/train/labels/20t.txt  \n",
            "  inflating: /content/Augmentations/train/labels/20taug.txt  \n",
            "  inflating: /content/Augmentations/train/labels/21t.txt  \n",
            "  inflating: /content/Augmentations/train/labels/21taug.txt  \n",
            "  inflating: /content/Augmentations/train/labels/22t.txt  \n",
            "  inflating: /content/Augmentations/train/labels/22taug.txt  \n",
            "  inflating: /content/Augmentations/train/labels/23t.txt  \n",
            "  inflating: /content/Augmentations/train/labels/23taug.txt  \n",
            "  inflating: /content/Augmentations/train/labels/24t.txt  \n",
            "  inflating: /content/Augmentations/train/labels/24taug.txt  \n",
            "  inflating: /content/Augmentations/train/labels/25t.txt  \n",
            "  inflating: /content/Augmentations/train/labels/25taug.txt  \n",
            "  inflating: /content/Augmentations/train/labels/26t.txt  \n",
            "  inflating: /content/Augmentations/train/labels/26taug.txt  \n",
            "  inflating: /content/Augmentations/train/labels/27t.txt  \n",
            "  inflating: /content/Augmentations/train/labels/27taug.txt  \n",
            "  inflating: /content/Augmentations/train/labels/28.txt  \n",
            "  inflating: /content/Augmentations/train/labels/28aug.txt  \n",
            "  inflating: /content/Augmentations/train/labels/28t.txt  \n",
            "  inflating: /content/Augmentations/train/labels/28taug.txt  \n",
            "  inflating: /content/Augmentations/train/labels/29t.txt  \n",
            "  inflating: /content/Augmentations/train/labels/29taug.txt  \n",
            "  inflating: /content/Augmentations/train/labels/2aug.txt  \n",
            "  inflating: /content/Augmentations/train/labels/2t.txt  \n",
            "  inflating: /content/Augmentations/train/labels/2taug.txt  \n",
            "  inflating: /content/Augmentations/train/labels/30.txt  \n",
            "  inflating: /content/Augmentations/train/labels/30aug.txt  \n",
            "  inflating: /content/Augmentations/train/labels/30t.txt  \n",
            "  inflating: /content/Augmentations/train/labels/30taug.txt  \n",
            "  inflating: /content/Augmentations/train/labels/31t.txt  \n",
            "  inflating: /content/Augmentations/train/labels/31taug.txt  \n",
            "  inflating: /content/Augmentations/train/labels/32t.txt  \n",
            "  inflating: /content/Augmentations/train/labels/32taug.txt  \n",
            "  inflating: /content/Augmentations/train/labels/33.txt  \n",
            "  inflating: /content/Augmentations/train/labels/330308224_252082427236774_668868519928491881_n_jpg.rf.3fdc42c75d94f959cd34e95659731bbfrutrffo.txt  \n",
            "  inflating: /content/Augmentations/train/labels/330308224_252082427236774_668868519928491881_n_jpg.rf.3fdc42c75d94f959cd34e95659731bbfrutrffoaug.txt  \n",
            "  inflating: /content/Augmentations/train/labels/336520816_771665631343508_8303909770867850050_n_jpg.rf.01b5c700f7fd40c550ef8d0c1eeb5689ffo.txt  \n",
            "  inflating: /content/Augmentations/train/labels/336520816_771665631343508_8303909770867850050_n_jpg.rf.01b5c700f7fd40c550ef8d0c1eeb5689ffoaug.txt  \n",
            "  inflating: /content/Augmentations/train/labels/336520816_771665631343508_8303909770867850050_n_jpg.rf.01b5c700f7fd40c550ef8d0c1eeb5689imrffo.txt  \n",
            "  inflating: /content/Augmentations/train/labels/336520816_771665631343508_8303909770867850050_n_jpg.rf.01b5c700f7fd40c550ef8d0c1eeb5689imrffoaug.txt  \n",
            "  inflating: /content/Augmentations/train/labels/336628741_146755798049305_2393290656942527363_n_jpg.rf.8b36db09afdd41ae1714f01b637962d7imrffo.txt  \n",
            "  inflating: /content/Augmentations/train/labels/336628741_146755798049305_2393290656942527363_n_jpg.rf.8b36db09afdd41ae1714f01b637962d7imrffoaug.txt  \n",
            "  inflating: /content/Augmentations/train/labels/33aug.txt  \n",
            "  inflating: /content/Augmentations/train/labels/33t.txt  \n",
            "  inflating: /content/Augmentations/train/labels/33taug.txt  \n",
            "  inflating: /content/Augmentations/train/labels/340440944_1242322123037899_1708206670901782940_n_jpg.rf.759edbebf2cfc2a361b3c482e199acb3rutrffo.txt  \n",
            "  inflating: /content/Augmentations/train/labels/340440944_1242322123037899_1708206670901782940_n_jpg.rf.759edbebf2cfc2a361b3c482e199acb3rutrffoaug.txt  \n",
            "  inflating: /content/Augmentations/train/labels/340655568_233335945905892_6523382994465496147_n_jpg.rf.8eb9b220b9bfb572bcf5c79173693c76ffo.txt  \n",
            "  inflating: /content/Augmentations/train/labels/340655568_233335945905892_6523382994465496147_n_jpg.rf.8eb9b220b9bfb572bcf5c79173693c76ffoaug.txt  \n",
            "  inflating: /content/Augmentations/train/labels/340666213_1276125626635169_1781727769616472807_n_jpg.rf.9ae8cc1d9c3a8e81c39c7108e6555986imrffo.txt  \n",
            "  inflating: /content/Augmentations/train/labels/340666213_1276125626635169_1781727769616472807_n_jpg.rf.9ae8cc1d9c3a8e81c39c7108e6555986imrffoaug.txt  \n",
            "  inflating: /content/Augmentations/train/labels/340666217_174763828836240_7607030003544342380_n_jpg.rf.bd07d4aeb2a3d7dd3719157f5ceb555eimrffo.txt  \n",
            "  inflating: /content/Augmentations/train/labels/340666217_174763828836240_7607030003544342380_n_jpg.rf.bd07d4aeb2a3d7dd3719157f5ceb555eimrffoaug.txt  \n",
            "  inflating: /content/Augmentations/train/labels/340683106_1284180999122986_4198180811974188221_n_jpg.rf.9eb102f4c9dd5182704c1c3dec9736e7rutrffo.txt  \n",
            "  inflating: /content/Augmentations/train/labels/340683106_1284180999122986_4198180811974188221_n_jpg.rf.9eb102f4c9dd5182704c1c3dec9736e7rutrffoaug.txt  \n",
            "  inflating: /content/Augmentations/train/labels/340688363_623170819190922_6921385813964451029_n_jpg.rf.1698c31cc906657e4eaa1775c4825712imrffo.txt  \n",
            "  inflating: /content/Augmentations/train/labels/340688363_623170819190922_6921385813964451029_n_jpg.rf.1698c31cc906657e4eaa1775c4825712imrffoaug.txt  \n",
            "  inflating: /content/Augmentations/train/labels/340688370_1368138737367286_142861896250244192_n_jpg.rf.cff7339b933e21cc34b2790677b9f213ffo.txt  \n",
            "  inflating: /content/Augmentations/train/labels/340688370_1368138737367286_142861896250244192_n_jpg.rf.cff7339b933e21cc34b2790677b9f213ffoaug.txt  \n",
            "  inflating: /content/Augmentations/train/labels/340690233_616158103384605_5527178605125453229_n_jpg.rf.1df4a737e86b6f1bb5b28f5643ca9f9dimrffo.txt  \n",
            "  inflating: /content/Augmentations/train/labels/340690233_616158103384605_5527178605125453229_n_jpg.rf.1df4a737e86b6f1bb5b28f5643ca9f9dimrffoaug.txt  \n",
            "  inflating: /content/Augmentations/train/labels/340698438_643327210953683_1953326738123649125_n_jpg.rf.c239e505653db713c4710ec66fedae4fimrffo.txt  \n",
            "  inflating: /content/Augmentations/train/labels/340698438_643327210953683_1953326738123649125_n_jpg.rf.c239e505653db713c4710ec66fedae4fimrffoaug.txt  \n",
            "  inflating: /content/Augmentations/train/labels/340704069_147140514754304_1448443480964463025_n_jpg.rf.8937ac70eccafaa0c0f4c9164393139effo.txt  \n",
            "  inflating: /content/Augmentations/train/labels/340704069_147140514754304_1448443480964463025_n_jpg.rf.8937ac70eccafaa0c0f4c9164393139effoaug.txt  \n",
            "  inflating: /content/Augmentations/train/labels/340709271_765415248555007_6840589780320065024_n_jpg.rf.5987061c29ddea32995c3713a390ecb8rutrffo.txt  \n",
            "  inflating: /content/Augmentations/train/labels/340709271_765415248555007_6840589780320065024_n_jpg.rf.5987061c29ddea32995c3713a390ecb8rutrffoaug.txt  \n",
            "  inflating: /content/Augmentations/train/labels/340720729_1931093727237355_8410250639715113073_n_jpg.rf.85401aa8d6bb9c7e72e239c8baf23992rutrffo.txt  \n",
            "  inflating: /content/Augmentations/train/labels/340720729_1931093727237355_8410250639715113073_n_jpg.rf.85401aa8d6bb9c7e72e239c8baf23992rutrffoaug.txt  \n",
            "  inflating: /content/Augmentations/train/labels/340759557_225433246802909_7121010699413196600_n_jpg.rf.e2ba3216cd61e094a83e6f88cdb4a466ffo.txt  \n",
            "  inflating: /content/Augmentations/train/labels/340759557_225433246802909_7121010699413196600_n_jpg.rf.e2ba3216cd61e094a83e6f88cdb4a466ffoaug.txt  \n",
            "  inflating: /content/Augmentations/train/labels/340763194_1972687183087953_1230068764890745184_n_jpg.rf.2ee5005c5febfc1078e3ec16517a10cerutrffo.txt  \n",
            "  inflating: /content/Augmentations/train/labels/340763194_1972687183087953_1230068764890745184_n_jpg.rf.2ee5005c5febfc1078e3ec16517a10cerutrffoaug.txt  \n",
            "  inflating: /content/Augmentations/train/labels/340777454_955549885643442_6911699415914995565_n_jpg.rf.43f2ef8fe002a547d6bfa972f74adb12ffo.txt  \n",
            "  inflating: /content/Augmentations/train/labels/340777454_955549885643442_6911699415914995565_n_jpg.rf.43f2ef8fe002a547d6bfa972f74adb12ffoaug.txt  \n",
            "  inflating: /content/Augmentations/train/labels/340777454_955549885643442_6911699415914995565_n_jpg.rf.43f2ef8fe002a547d6bfa972f74adb12imrffo.txt  \n",
            "  inflating: /content/Augmentations/train/labels/340777454_955549885643442_6911699415914995565_n_jpg.rf.43f2ef8fe002a547d6bfa972f74adb12imrffoaug.txt  \n",
            "  inflating: /content/Augmentations/train/labels/340808690_741437164152231_3430438982657964687_n_jpg.rf.8b2095ffd227c3cb1b18873605ac0f1dimrffo.txt  \n",
            "  inflating: /content/Augmentations/train/labels/340808690_741437164152231_3430438982657964687_n_jpg.rf.8b2095ffd227c3cb1b18873605ac0f1dimrffoaug.txt  \n",
            "  inflating: /content/Augmentations/train/labels/340816573_1538586360001098_7881525004913769061_n_jpg.rf.5888d0c923426b0d79291ded5bada33dimrffo.txt  \n",
            "  inflating: /content/Augmentations/train/labels/340816573_1538586360001098_7881525004913769061_n_jpg.rf.5888d0c923426b0d79291ded5bada33dimrffoaug.txt  \n",
            "  inflating: /content/Augmentations/train/labels/340998018_773003377774869_7974950968883172243_n_jpg.rf.fdb4ca06af99a3796092f3df853772e9ffo.txt  \n",
            "  inflating: /content/Augmentations/train/labels/340998018_773003377774869_7974950968883172243_n_jpg.rf.fdb4ca06af99a3796092f3df853772e9ffoaug.txt  \n",
            "  inflating: /content/Augmentations/train/labels/340998018_773003377774869_7974950968883172243_n_jpg.rf.fdb4ca06af99a3796092f3df853772e9imrffo.txt  \n",
            "  inflating: /content/Augmentations/train/labels/340998018_773003377774869_7974950968883172243_n_jpg.rf.fdb4ca06af99a3796092f3df853772e9imrffoaug.txt  \n",
            "  inflating: /content/Augmentations/train/labels/34t.txt  \n",
            "  inflating: /content/Augmentations/train/labels/34taug.txt  \n",
            "  inflating: /content/Augmentations/train/labels/35t.txt  \n",
            "  inflating: /content/Augmentations/train/labels/35taug.txt  \n",
            "  inflating: /content/Augmentations/train/labels/36.txt  \n",
            "  inflating: /content/Augmentations/train/labels/36aug.txt  \n",
            "  inflating: /content/Augmentations/train/labels/36t.txt  \n",
            "  inflating: /content/Augmentations/train/labels/36taug.txt  \n",
            "  inflating: /content/Augmentations/train/labels/37.txt  \n",
            "  inflating: /content/Augmentations/train/labels/37aug.txt  \n",
            "  inflating: /content/Augmentations/train/labels/37t.txt  \n",
            "  inflating: /content/Augmentations/train/labels/37taug.txt  \n",
            "  inflating: /content/Augmentations/train/labels/38.txt  \n",
            "  inflating: /content/Augmentations/train/labels/38aug.txt  \n",
            "  inflating: /content/Augmentations/train/labels/38t.txt  \n",
            "  inflating: /content/Augmentations/train/labels/38taug.txt  \n",
            "  inflating: /content/Augmentations/train/labels/39t.txt  \n",
            "  inflating: /content/Augmentations/train/labels/39taug.txt  \n",
            "  inflating: /content/Augmentations/train/labels/3t.txt  \n",
            "  inflating: /content/Augmentations/train/labels/3taug.txt  \n",
            "  inflating: /content/Augmentations/train/labels/40t.txt  \n",
            "  inflating: /content/Augmentations/train/labels/40taug.txt  \n",
            "  inflating: /content/Augmentations/train/labels/41t.txt  \n",
            "  inflating: /content/Augmentations/train/labels/41taug.txt  \n",
            "  inflating: /content/Augmentations/train/labels/42t.txt  \n",
            "  inflating: /content/Augmentations/train/labels/42taug.txt  \n",
            "  inflating: /content/Augmentations/train/labels/43t.txt  \n",
            "  inflating: /content/Augmentations/train/labels/43taug.txt  \n",
            "  inflating: /content/Augmentations/train/labels/44t.txt  \n",
            "  inflating: /content/Augmentations/train/labels/44taug.txt  \n",
            "  inflating: /content/Augmentations/train/labels/45.txt  \n",
            "  inflating: /content/Augmentations/train/labels/45aug.txt  \n",
            "  inflating: /content/Augmentations/train/labels/45t.txt  \n",
            "  inflating: /content/Augmentations/train/labels/45taug.txt  \n",
            "  inflating: /content/Augmentations/train/labels/46.txt  \n",
            "  inflating: /content/Augmentations/train/labels/46aug.txt  \n",
            "  inflating: /content/Augmentations/train/labels/46t.txt  \n",
            "  inflating: /content/Augmentations/train/labels/46taug.txt  \n",
            "  inflating: /content/Augmentations/train/labels/47t.txt  \n",
            "  inflating: /content/Augmentations/train/labels/47taug.txt  \n",
            "  inflating: /content/Augmentations/train/labels/48t.txt  \n",
            "  inflating: /content/Augmentations/train/labels/48taug.txt  \n",
            "  inflating: /content/Augmentations/train/labels/49t.txt  \n",
            "  inflating: /content/Augmentations/train/labels/49taug.txt  \n",
            "  inflating: /content/Augmentations/train/labels/4t.txt  \n",
            "  inflating: /content/Augmentations/train/labels/4taug.txt  \n",
            "  inflating: /content/Augmentations/train/labels/50.txt  \n",
            "  inflating: /content/Augmentations/train/labels/50aug.txt  \n",
            "  inflating: /content/Augmentations/train/labels/50t.txt  \n",
            "  inflating: /content/Augmentations/train/labels/50taug.txt  \n",
            "  inflating: /content/Augmentations/train/labels/51.txt  \n",
            "  inflating: /content/Augmentations/train/labels/51aug.txt  \n",
            "  inflating: /content/Augmentations/train/labels/51t.txt  \n",
            "  inflating: /content/Augmentations/train/labels/51taug.txt  \n",
            "  inflating: /content/Augmentations/train/labels/52t.txt  \n",
            "  inflating: /content/Augmentations/train/labels/52taug.txt  \n",
            "  inflating: /content/Augmentations/train/labels/53.txt  \n",
            "  inflating: /content/Augmentations/train/labels/53aug.txt  \n",
            "  inflating: /content/Augmentations/train/labels/53t.txt  \n",
            "  inflating: /content/Augmentations/train/labels/53taug.txt  \n",
            "  inflating: /content/Augmentations/train/labels/54t.txt  \n",
            "  inflating: /content/Augmentations/train/labels/54taug.txt  \n",
            "  inflating: /content/Augmentations/train/labels/55.txt  \n",
            "  inflating: /content/Augmentations/train/labels/55aug.txt  \n",
            "  inflating: /content/Augmentations/train/labels/59.txt  \n",
            "  inflating: /content/Augmentations/train/labels/59aug.txt  \n",
            "  inflating: /content/Augmentations/train/labels/5t.txt  \n",
            "  inflating: /content/Augmentations/train/labels/5taug.txt  \n",
            "  inflating: /content/Augmentations/train/labels/6.txt  \n",
            "  inflating: /content/Augmentations/train/labels/60.txt  \n",
            "  inflating: /content/Augmentations/train/labels/60aug.txt  \n",
            "  inflating: /content/Augmentations/train/labels/61.txt  \n",
            "  inflating: /content/Augmentations/train/labels/61aug.txt  \n",
            "  inflating: /content/Augmentations/train/labels/62.txt  \n",
            "  inflating: /content/Augmentations/train/labels/62aug.txt  \n",
            "  inflating: /content/Augmentations/train/labels/66.txt  \n",
            "  inflating: /content/Augmentations/train/labels/66aug.txt  \n",
            "  inflating: /content/Augmentations/train/labels/6aug.txt  \n",
            "  inflating: /content/Augmentations/train/labels/6t.txt  \n",
            "  inflating: /content/Augmentations/train/labels/6taug.txt  \n",
            "  inflating: /content/Augmentations/train/labels/74.txt  \n",
            "  inflating: /content/Augmentations/train/labels/74aug.txt  \n",
            "  inflating: /content/Augmentations/train/labels/78.txt  \n",
            "  inflating: /content/Augmentations/train/labels/78aug.txt  \n",
            "  inflating: /content/Augmentations/train/labels/7t.txt  \n",
            "  inflating: /content/Augmentations/train/labels/7taug.txt  \n",
            "  inflating: /content/Augmentations/train/labels/80.txt  \n",
            "  inflating: /content/Augmentations/train/labels/80aug.txt  \n",
            "  inflating: /content/Augmentations/train/labels/81.txt  \n",
            "  inflating: /content/Augmentations/train/labels/81aug.txt  \n",
            "  inflating: /content/Augmentations/train/labels/82.txt  \n",
            "  inflating: /content/Augmentations/train/labels/82aug.txt  \n",
            "  inflating: /content/Augmentations/train/labels/84.txt  \n",
            "  inflating: /content/Augmentations/train/labels/84aug.txt  \n",
            "  inflating: /content/Augmentations/train/labels/85.txt  \n",
            "  inflating: /content/Augmentations/train/labels/85aug.txt  \n",
            "  inflating: /content/Augmentations/train/labels/8t.txt  \n",
            "  inflating: /content/Augmentations/train/labels/8taug.txt  \n",
            "  inflating: /content/Augmentations/train/labels/91.txt  \n",
            "  inflating: /content/Augmentations/train/labels/91aug.txt  \n",
            "  inflating: /content/Augmentations/train/labels/92.txt  \n",
            "  inflating: /content/Augmentations/train/labels/92aug.txt  \n",
            "  inflating: /content/Augmentations/train/labels/94.txt  \n",
            "  inflating: /content/Augmentations/train/labels/94aug.txt  \n",
            "  inflating: /content/Augmentations/train/labels/95.txt  \n",
            "  inflating: /content/Augmentations/train/labels/95aug.txt  \n",
            "  inflating: /content/Augmentations/train/labels/98.txt  \n",
            "  inflating: /content/Augmentations/train/labels/98aug.txt  \n",
            "  inflating: /content/Augmentations/train/labels/99.txt  \n",
            "  inflating: /content/Augmentations/train/labels/99aug.txt  \n",
            "  inflating: /content/Augmentations/train/labels/9t.txt  \n",
            "  inflating: /content/Augmentations/train/labels/9taug.txt  \n",
            "  inflating: /content/Augmentations/train/labels/sample_4.txt  \n",
            "  inflating: /content/Augmentations/train/labels/sample_5.txt  \n",
            "  inflating: /content/Augmentations/train/labels/sample_6.txt  \n",
            "  inflating: /content/Augmentations/train/labels/sample_7.txt  \n",
            "  inflating: /content/Augmentations/train/labels/sample_8.txt  \n",
            "  inflating: /content/Augmentations/train/labels/sample_9.txt  \n",
            "  inflating: /content/Augmentations/train/labels/WhatsApp Image 2024-09-24 at 17.22.29_24766e26ffo.txt  \n",
            "  inflating: /content/Augmentations/train/labels/WhatsApp Image 2024-09-24 at 17.22.29_24766e26ffoaug.txt  \n",
            "  inflating: /content/Augmentations/train/labels/WhatsApp-Image-2023-04-10-at-7-08-27-PM_jpeg.rf.5cdb7c209aa4f2a9386abf063ef7ff44imrffo.txt  \n",
            "  inflating: /content/Augmentations/train/labels/WhatsApp-Image-2023-04-10-at-7-08-27-PM_jpeg.rf.5cdb7c209aa4f2a9386abf063ef7ff44imrffoaug.txt  \n",
            "  inflating: /content/Augmentations/train/labels/WhatsApp-Image-2023-04-11-at-11-49-35-PM_jpeg.rf.c67a0d400d9fe8951e8e64f20be4ebf9imrffo.txt  \n",
            "  inflating: /content/Augmentations/train/labels/WhatsApp-Image-2023-04-11-at-11-49-35-PM_jpeg.rf.c67a0d400d9fe8951e8e64f20be4ebf9imrffoaug.txt  \n",
            "  inflating: /content/Augmentations/train/labels/WhatsApp-Image-2023-04-11-at-11-49-36-PM-1-_jpeg.rf.0a6f1a36713a147cd801ad9c9c869c63rutrffo.txt  \n",
            "  inflating: /content/Augmentations/train/labels/WhatsApp-Image-2023-04-11-at-11-49-36-PM-1-_jpeg.rf.0a6f1a36713a147cd801ad9c9c869c63rutrffoaug.txt  \n",
            "  inflating: /content/Augmentations/train/labels/WhatsApp-Image-2023-04-11-at-11-49-36-PM_jpeg.rf.e3cc182b888f689cbfc3ef9b3dc3afd4ffo.txt  \n",
            "  inflating: /content/Augmentations/train/labels/WhatsApp-Image-2023-04-11-at-11-49-36-PM_jpeg.rf.e3cc182b888f689cbfc3ef9b3dc3afd4ffoaug.txt  \n",
            "  inflating: /content/Augmentations/train/labels/WhatsApp-Image-2023-04-11-at-11-49-37-PM-1-_jpeg.rf.118d0d6f2db4c0ab7d3ecc21f88fae95ffo.txt  \n",
            "  inflating: /content/Augmentations/train/labels/WhatsApp-Image-2023-04-11-at-11-49-37-PM-1-_jpeg.rf.118d0d6f2db4c0ab7d3ecc21f88fae95ffoaug.txt  \n",
            "  inflating: /content/Augmentations/train/labels/WhatsApp-Image-2023-04-11-at-11-49-37-PM-2-_jpeg.rf.5aaba59f7c61db52976c53816ae0e841imrffo.txt  \n",
            "  inflating: /content/Augmentations/train/labels/WhatsApp-Image-2023-04-11-at-11-49-37-PM-2-_jpeg.rf.5aaba59f7c61db52976c53816ae0e841imrffoaug.txt  \n",
            "  inflating: /content/Augmentations/train/labels/WhatsApp-Image-2023-04-11-at-11-49-38-PM-1-_jpeg.rf.5cbd52bb43ebe25d6c7c2c73a32dd9a4praxffo.txt  \n",
            "  inflating: /content/Augmentations/train/labels/WhatsApp-Image-2023-04-11-at-11-49-38-PM-1-_jpeg.rf.5cbd52bb43ebe25d6c7c2c73a32dd9a4praxffoaug.txt  \n",
            "  inflating: /content/Augmentations/train/labels/WhatsApp-Image-2023-04-11-at-11-49-39-PM-1-_jpeg.rf.6b56a7ec9d901eb913085d3944054afepraxffo.txt  \n",
            "  inflating: /content/Augmentations/train/labels/WhatsApp-Image-2023-04-11-at-11-49-39-PM-1-_jpeg.rf.6b56a7ec9d901eb913085d3944054afepraxffoaug.txt  \n",
            "  inflating: /content/Augmentations/train/labels/WhatsApp-Image-2023-04-11-at-11-49-39-PM-2-_jpeg.rf.17d012db0810643f5e05235fb4e4c6f4praxffo.txt  \n",
            "  inflating: /content/Augmentations/train/labels/WhatsApp-Image-2023-04-11-at-11-49-39-PM-2-_jpeg.rf.17d012db0810643f5e05235fb4e4c6f4praxffoaug.txt  \n",
            "  inflating: /content/Augmentations/train/labels/WhatsApp-Image-2023-04-11-at-11-49-39-PM_jpeg.rf.6627c4f7e9f50d34fb18b21fad7ea881praxffo.txt  \n",
            "  inflating: /content/Augmentations/train/labels/WhatsApp-Image-2023-04-11-at-11-49-39-PM_jpeg.rf.6627c4f7e9f50d34fb18b21fad7ea881praxffoaug.txt  \n",
            "  inflating: /content/Augmentations/train/labels/WhatsApp-Image-2023-04-12-at-11-51-57-AM_jpeg.rf.bd952353a1d7a5edc44648c73845f26arutrffo.txt  \n",
            "  inflating: /content/Augmentations/train/labels/WhatsApp-Image-2023-04-12-at-11-51-57-AM_jpeg.rf.bd952353a1d7a5edc44648c73845f26arutrffoaug.txt  \n",
            "  inflating: /content/Augmentations/train/labels/WhatsApp-Image-2023-04-12-at-11-52-51-AM_jpeg.rf.3bb47cc2ddab576bd10c155aae3f4da8praxffo.txt  \n",
            "  inflating: /content/Augmentations/train/labels/WhatsApp-Image-2023-04-12-at-11-52-51-AM_jpeg.rf.3bb47cc2ddab576bd10c155aae3f4da8praxffoaug.txt  \n",
            "  inflating: /content/Augmentations/train/labels/WhatsApp-Image-2023-04-12-at-11-53-49-AM_jpeg.rf.988820da65266308f512ba33f6b93d8aimrffo.txt  \n",
            "  inflating: /content/Augmentations/train/labels/WhatsApp-Image-2023-04-12-at-11-53-49-AM_jpeg.rf.988820da65266308f512ba33f6b93d8aimrffoaug.txt  \n",
            "  inflating: /content/Augmentations/train/labels/WhatsApp-Image-2023-04-12-at-12-20-45-PM_jpeg.rf.3aceb78ed4eaffd9c16ea6ab7c38a922praxffo.txt  \n",
            "  inflating: /content/Augmentations/train/labels/WhatsApp-Image-2023-04-12-at-12-20-45-PM_jpeg.rf.3aceb78ed4eaffd9c16ea6ab7c38a922praxffoaug.txt  \n",
            "  inflating: /content/Augmentations/train/labels/WhatsApp-Image-2023-04-12-at-12-20-46-PM-1-_jpeg.rf.879e8047a2251d8d766c502c2745124apraxffo.txt  \n",
            "  inflating: /content/Augmentations/train/labels/WhatsApp-Image-2023-04-12-at-12-20-46-PM-1-_jpeg.rf.879e8047a2251d8d766c502c2745124apraxffoaug.txt  \n",
            "  inflating: /content/Augmentations/train/labels/WhatsApp-Image-2023-04-12-at-12-20-49-PM-1-_jpeg.rf.3ba884c2ac0e7df9b029bebd7c3d4743imrffo.txt  \n",
            "  inflating: /content/Augmentations/train/labels/WhatsApp-Image-2023-04-12-at-12-20-49-PM-1-_jpeg.rf.3ba884c2ac0e7df9b029bebd7c3d4743imrffoaug.txt  \n",
            "  inflating: /content/Augmentations/train/labels/WhatsApp-Image-2023-04-12-at-12-22-07-PM-1-_jpeg.rf.85e479d4c9d746de8f9df144d9a74062imrffo.txt  \n",
            "  inflating: /content/Augmentations/train/labels/WhatsApp-Image-2023-04-12-at-12-22-07-PM-1-_jpeg.rf.85e479d4c9d746de8f9df144d9a74062imrffoaug.txt  \n",
            "  inflating: /content/Augmentations/train/labels/WhatsApp-Image-2023-04-12-at-12-22-07-PM_jpeg.rf.f239a703c3ab9a5b27f8fc4a29f58a39praxffo.txt  \n",
            "  inflating: /content/Augmentations/train/labels/WhatsApp-Image-2023-04-12-at-12-22-07-PM_jpeg.rf.f239a703c3ab9a5b27f8fc4a29f58a39praxffoaug.txt  \n",
            "  inflating: /content/Augmentations/train/labels/WhatsApp-Image-2023-04-12-at-12-22-08-PM_jpeg.rf.6ba662f106ab61ee7f81986411f65c53ffo.txt  \n",
            "  inflating: /content/Augmentations/train/labels/WhatsApp-Image-2023-04-12-at-12-22-08-PM_jpeg.rf.6ba662f106ab61ee7f81986411f65c53ffoaug.txt  \n",
            "  inflating: /content/Augmentations/train/labels/WhatsApp-Image-2023-04-12-at-12-22-08-PM_jpeg.rf.6ba662f106ab61ee7f81986411f65c53imrffo.txt  \n",
            "  inflating: /content/Augmentations/train/labels/WhatsApp-Image-2023-04-12-at-12-22-08-PM_jpeg.rf.6ba662f106ab61ee7f81986411f65c53imrffoaug.txt  \n",
            "  inflating: /content/Augmentations/train/labels/WhatsApp-Image-2023-04-12-at-12-22-09-PM_jpeg.rf.c916f00eb64e2c64e2965319d5d7256bpraxffo.txt  \n",
            "  inflating: /content/Augmentations/train/labels/WhatsApp-Image-2023-04-12-at-12-22-09-PM_jpeg.rf.c916f00eb64e2c64e2965319d5d7256bpraxffoaug.txt  \n",
            "  inflating: /content/Augmentations/train/labels/WhatsApp-Image-2023-04-12-at-12-22-11-PM-1-_jpeg.rf.3adda35f463c7aa0c8f34cb53e0b8591praxffo.txt  \n",
            "  inflating: /content/Augmentations/train/labels/WhatsApp-Image-2023-04-12-at-12-22-11-PM-1-_jpeg.rf.3adda35f463c7aa0c8f34cb53e0b8591praxffoaug.txt  \n",
            "  inflating: /content/Augmentations/train/labels/WhatsApp-Image-2023-04-12-at-12-22-11-PM_jpeg.rf.90b7d7b18913d90a807dc766c7296119praxffo.txt  \n",
            "  inflating: /content/Augmentations/train/labels/WhatsApp-Image-2023-04-12-at-12-22-11-PM_jpeg.rf.90b7d7b18913d90a807dc766c7296119praxffoaug.txt  \n",
            "  inflating: /content/Augmentations/train/labels/WhatsApp-Image-2023-04-12-at-12-22-13-PM-1-_jpeg.rf.1e80042d621654eb3fc65a29ca125d84ffo.txt  \n",
            "  inflating: /content/Augmentations/train/labels/WhatsApp-Image-2023-04-12-at-12-22-13-PM-1-_jpeg.rf.1e80042d621654eb3fc65a29ca125d84ffoaug.txt  \n",
            "  inflating: /content/Augmentations/train/labels/WhatsApp-Image-2023-04-12-at-12-22-13-PM-1-_jpeg.rf.1e80042d621654eb3fc65a29ca125d84imrffo.txt  \n",
            "  inflating: /content/Augmentations/train/labels/WhatsApp-Image-2023-04-12-at-12-22-13-PM-1-_jpeg.rf.1e80042d621654eb3fc65a29ca125d84imrffoaug.txt  \n",
            "  inflating: /content/Augmentations/train/labels/WhatsApp-Image-2023-04-12-at-12-22-14-PM-1-_jpeg.rf.e4622d32132c988eefadbaa3fb8f32f4ffo.txt  \n",
            "  inflating: /content/Augmentations/train/labels/WhatsApp-Image-2023-04-12-at-12-22-14-PM-1-_jpeg.rf.e4622d32132c988eefadbaa3fb8f32f4ffoaug.txt  \n",
            "  inflating: /content/Augmentations/train/labels/WhatsApp-Image-2023-04-12-at-12-22-14-PM-1-_jpeg.rf.e4622d32132c988eefadbaa3fb8f32f4imrffo.txt  \n",
            "  inflating: /content/Augmentations/train/labels/WhatsApp-Image-2023-04-12-at-12-22-14-PM-1-_jpeg.rf.e4622d32132c988eefadbaa3fb8f32f4imrffoaug.txt  \n",
            "  inflating: /content/Augmentations/train/labels/WhatsApp-Image-2023-04-12-at-12-22-14-PM_jpeg.rf.7c3c780fb3bc5dd4cac487d30858f825praxffo.txt  \n",
            "  inflating: /content/Augmentations/train/labels/WhatsApp-Image-2023-04-12-at-12-22-14-PM_jpeg.rf.7c3c780fb3bc5dd4cac487d30858f825praxffoaug.txt  \n",
            "  inflating: /content/Augmentations/train/labels/WhatsApp-Image-2023-04-12-at-12-22-15-PM-1-_jpeg.rf.1a39c1aef0a466e77cf94ae2108cc623praxffo.txt  \n",
            "  inflating: /content/Augmentations/train/labels/WhatsApp-Image-2023-04-12-at-12-22-15-PM-1-_jpeg.rf.1a39c1aef0a466e77cf94ae2108cc623praxffoaug.txt  \n",
            "  inflating: /content/Augmentations/train/labels/WhatsApp-Image-2023-04-12-at-12-22-16-PM_jpeg.rf.941bc247e227b396fce5bcaf1c7a30c9imrffo.txt  \n",
            "  inflating: /content/Augmentations/train/labels/WhatsApp-Image-2023-04-12-at-12-22-16-PM_jpeg.rf.941bc247e227b396fce5bcaf1c7a30c9imrffoaug.txt  \n",
            "  inflating: /content/Augmentations/train/labels/WhatsApp-Image-2023-04-12-at-12-22-18-PM_jpeg.rf.df1c7aa1b28c5ad7ca1a0f592de41c85imrffo.txt  \n",
            "  inflating: /content/Augmentations/train/labels/WhatsApp-Image-2023-04-12-at-12-22-18-PM_jpeg.rf.df1c7aa1b28c5ad7ca1a0f592de41c85imrffoaug.txt  \n",
            "  inflating: /content/Augmentations/train/labels/WhatsApp-Image-2023-04-12-at-12-22-19-PM-1-_jpeg.rf.141e70bd0b4ff6e9fb5453c79331cd2brutrffo.txt  \n",
            "  inflating: /content/Augmentations/train/labels/WhatsApp-Image-2023-04-12-at-12-22-19-PM-1-_jpeg.rf.141e70bd0b4ff6e9fb5453c79331cd2brutrffoaug.txt  \n",
            "  inflating: /content/Augmentations/train/labels/WhatsApp-Image-2023-04-12-at-12-22-20-PM-1-_jpeg.rf.fb5b9aceef498307a19805d9bc0dfdbdpraxffo.txt  \n",
            "  inflating: /content/Augmentations/train/labels/WhatsApp-Image-2023-04-12-at-12-22-20-PM-1-_jpeg.rf.fb5b9aceef498307a19805d9bc0dfdbdpraxffoaug.txt  \n",
            "  inflating: /content/Augmentations/train/labels/WhatsApp-Image-2023-04-12-at-12-22-22-PM-1-_jpeg.rf.c77360151974bff1abbf0a6ba84d0ddbpraxffo.txt  \n",
            "  inflating: /content/Augmentations/train/labels/WhatsApp-Image-2023-04-12-at-12-22-22-PM-1-_jpeg.rf.c77360151974bff1abbf0a6ba84d0ddbpraxffoaug.txt  \n",
            "  inflating: /content/Augmentations/train/labels/WhatsApp-Image-2023-04-12-at-12-22-24-PM_jpeg.rf.261a8335f655b6019160cc6ac5c7e548ffo.txt  \n",
            "  inflating: /content/Augmentations/train/labels/WhatsApp-Image-2023-04-12-at-12-22-24-PM_jpeg.rf.261a8335f655b6019160cc6ac5c7e548ffoaug.txt  \n",
            "  inflating: /content/Augmentations/train/labels/WhatsApp-Image-2023-04-12-at-12-22-26-PM_jpeg.rf.d597e567bc273645bddb6dea488a4227praxffo.txt  \n",
            "  inflating: /content/Augmentations/train/labels/WhatsApp-Image-2023-04-12-at-12-22-26-PM_jpeg.rf.d597e567bc273645bddb6dea488a4227praxffoaug.txt  \n",
            "  inflating: /content/Augmentations/train/labels/WhatsApp-Image-2023-04-12-at-12-22-27-PM_jpeg.rf.0b44507724cc50c4251247a5f02d9479ffo.txt  \n",
            "  inflating: /content/Augmentations/train/labels/WhatsApp-Image-2023-04-12-at-12-22-27-PM_jpeg.rf.0b44507724cc50c4251247a5f02d9479ffoaug.txt  \n",
            "  inflating: /content/Augmentations/train/labels/WhatsApp-Image-2023-04-12-at-12-22-28-PM-1-_jpeg.rf.6c3c03caf066bd58f84e1ccfe90116dfffo.txt  \n",
            "  inflating: /content/Augmentations/train/labels/WhatsApp-Image-2023-04-12-at-12-22-28-PM-1-_jpeg.rf.6c3c03caf066bd58f84e1ccfe90116dfffoaug.txt  \n",
            "  inflating: /content/Augmentations/train/labels/WhatsApp-Image-2023-04-12-at-12-22-28-PM_jpeg.rf.7ae4c214f19ffab811227b7292343286ffo.txt  \n",
            "  inflating: /content/Augmentations/train/labels/WhatsApp-Image-2023-04-12-at-12-22-28-PM_jpeg.rf.7ae4c214f19ffab811227b7292343286ffoaug.txt  \n",
            "  inflating: /content/Augmentations/train/labels/WhatsApp-Image-2023-04-12-at-12-22-29-PM-1-_jpeg.rf.26a66d0d45c9e300157ff409bccde110ffo.txt  \n",
            "  inflating: /content/Augmentations/train/labels/WhatsApp-Image-2023-04-12-at-12-22-29-PM-1-_jpeg.rf.26a66d0d45c9e300157ff409bccde110ffoaug.txt  \n",
            "  inflating: /content/Augmentations/train/labels/WhatsApp-Image-2023-04-12-at-12-22-29-PM_jpeg.rf.58893f25a39d6c80845e9b51e27655abpraxffo.txt  \n",
            "  inflating: /content/Augmentations/train/labels/WhatsApp-Image-2023-04-12-at-12-22-29-PM_jpeg.rf.58893f25a39d6c80845e9b51e27655abpraxffoaug.txt  \n",
            "  inflating: /content/Augmentations/train/labels/WhatsApp-Image-2023-04-12-at-12-22-29-PM_jpeg.rf.5a91534a6978120bce545b6031cd6a9dffo.txt  \n",
            "  inflating: /content/Augmentations/train/labels/WhatsApp-Image-2023-04-12-at-12-22-29-PM_jpeg.rf.5a91534a6978120bce545b6031cd6a9dffoaug.txt  \n",
            "  inflating: /content/Augmentations/train/labels/WhatsApp-Image-2023-04-12-at-12-22-31-PM-1-_jpeg.rf.b7211fde4859ffbc635e52b34c409597ffo.txt  \n",
            "  inflating: /content/Augmentations/train/labels/WhatsApp-Image-2023-04-12-at-12-22-31-PM-1-_jpeg.rf.b7211fde4859ffbc635e52b34c409597ffoaug.txt  \n",
            "  inflating: /content/Augmentations/train/labels/WhatsApp-Image-2023-04-12-at-12-22-31-PM-1-_jpeg.rf.b7211fde4859ffbc635e52b34c409597imrffo.txt  \n",
            "  inflating: /content/Augmentations/train/labels/WhatsApp-Image-2023-04-12-at-12-22-31-PM-1-_jpeg.rf.b7211fde4859ffbc635e52b34c409597imrffoaug.txt  \n",
            "  inflating: /content/Augmentations/train/labels/WhatsApp-Image-2023-04-12-at-12-22-32-PM-1-_jpeg.rf.4b464b6ede3c94b70f41697ea4802384praxffo.txt  \n",
            "  inflating: /content/Augmentations/train/labels/WhatsApp-Image-2023-04-12-at-12-22-32-PM-1-_jpeg.rf.4b464b6ede3c94b70f41697ea4802384praxffoaug.txt  \n",
            "  inflating: /content/Augmentations/train/labels/WhatsApp-Image-2023-04-12-at-12-22-32-PM_jpeg.rf.7cd4508867af4d8385e4a1521bdf36a8praxffo.txt  \n",
            "  inflating: /content/Augmentations/train/labels/WhatsApp-Image-2023-04-12-at-12-22-32-PM_jpeg.rf.7cd4508867af4d8385e4a1521bdf36a8praxffoaug.txt  \n",
            "  inflating: /content/Augmentations/train/labels/WhatsApp-Image-2023-04-12-at-12-22-32-PM_jpeg.rf.e973e6cbfac70aaa48b448bb46db3308ffo.txt  \n",
            "  inflating: /content/Augmentations/train/labels/WhatsApp-Image-2023-04-12-at-12-22-32-PM_jpeg.rf.e973e6cbfac70aaa48b448bb46db3308ffoaug.txt  \n",
            "  inflating: /content/Augmentations/train/labels/WhatsApp-Image-2023-04-12-at-12-22-33-PM-1-_jpeg.rf.6aea0a32760baef85688fdc2fd4c38bapraxffo.txt  \n",
            "  inflating: /content/Augmentations/train/labels/WhatsApp-Image-2023-04-12-at-12-22-33-PM-1-_jpeg.rf.6aea0a32760baef85688fdc2fd4c38bapraxffoaug.txt  \n",
            "  inflating: /content/Augmentations/train/labels/WhatsApp-Image-2023-04-12-at-12-22-35-PM-1-_jpeg.rf.7c0f8688eff68933f2f482851830026apraxffo.txt  \n",
            "  inflating: /content/Augmentations/train/labels/WhatsApp-Image-2023-04-12-at-12-22-35-PM-1-_jpeg.rf.7c0f8688eff68933f2f482851830026apraxffoaug.txt  \n",
            "  inflating: /content/Augmentations/train/labels/WhatsApp-Image-2023-04-12-at-12-22-35-PM_jpeg.rf.8d145e14bb9587a9005600b2c0f2e8c6ffo.txt  \n",
            "  inflating: /content/Augmentations/train/labels/WhatsApp-Image-2023-04-12-at-12-22-35-PM_jpeg.rf.8d145e14bb9587a9005600b2c0f2e8c6ffoaug.txt  \n",
            "  inflating: /content/Augmentations/train/labels/WhatsApp-Image-2023-04-12-at-12-22-35-PM_jpeg.rf.8d145e14bb9587a9005600b2c0f2e8c6imrffo.txt  \n",
            "  inflating: /content/Augmentations/train/labels/WhatsApp-Image-2023-04-12-at-12-22-35-PM_jpeg.rf.8d145e14bb9587a9005600b2c0f2e8c6imrffoaug.txt  \n",
            "  inflating: /content/Augmentations/train/labels/WhatsApp-Image-2023-04-12-at-12-22-36-PM_jpeg.rf.a009525bddda60907e46e4348b1f2e93praxffo.txt  \n",
            "  inflating: /content/Augmentations/train/labels/WhatsApp-Image-2023-04-12-at-12-22-36-PM_jpeg.rf.a009525bddda60907e46e4348b1f2e93praxffoaug.txt  \n",
            "  inflating: /content/Augmentations/train/labels/WhatsApp-Image-2023-04-12-at-12-23-16-PM-1-_jpeg.rf.05c11358f4605ae28450968b2048a5b6imrffo.txt  \n",
            "  inflating: /content/Augmentations/train/labels/WhatsApp-Image-2023-04-12-at-12-23-16-PM-1-_jpeg.rf.05c11358f4605ae28450968b2048a5b6imrffoaug.txt  \n",
            "  inflating: /content/Augmentations/train/labels/WhatsApp-Image-2023-04-12-at-12-23-17-PM_jpeg.rf.d9c6509beb6c875e6ad8355e0de5b3a2praxffo.txt  \n",
            "  inflating: /content/Augmentations/train/labels/WhatsApp-Image-2023-04-12-at-12-23-17-PM_jpeg.rf.d9c6509beb6c875e6ad8355e0de5b3a2praxffoaug.txt  \n",
            "  inflating: /content/Augmentations/train/labels/WhatsApp-Image-2023-04-12-at-12-23-19-PM-1-_jpeg.rf.a83bf17ee9306e6ba0e169487f8e5de4ffo.txt  \n",
            "  inflating: /content/Augmentations/train/labels/WhatsApp-Image-2023-04-12-at-12-23-19-PM-1-_jpeg.rf.a83bf17ee9306e6ba0e169487f8e5de4ffoaug.txt  \n",
            "  inflating: /content/Augmentations/train/labels/WhatsApp-Image-2023-04-12-at-12-23-19-PM_jpeg.rf.eb03875e708d6dcadc047497757866a6imrffo.txt  \n",
            "  inflating: /content/Augmentations/train/labels/WhatsApp-Image-2023-04-12-at-12-23-19-PM_jpeg.rf.eb03875e708d6dcadc047497757866a6imrffoaug.txt  \n",
            "  inflating: /content/Augmentations/train/labels/WhatsApp-Image-2023-04-12-at-12-23-21-PM-1-_jpeg.rf.5263f384b16358300d03e0676cf5687apraxffo.txt  \n",
            "  inflating: /content/Augmentations/train/labels/WhatsApp-Image-2023-04-12-at-12-23-21-PM-1-_jpeg.rf.5263f384b16358300d03e0676cf5687apraxffoaug.txt  \n",
            "  inflating: /content/Augmentations/train/labels/WhatsApp-Image-2023-04-12-at-12-23-21-PM_jpeg.rf.4a330c92cdc94690dcbcf92b57fdd576praxffo.txt  \n",
            "  inflating: /content/Augmentations/train/labels/WhatsApp-Image-2023-04-12-at-12-23-21-PM_jpeg.rf.4a330c92cdc94690dcbcf92b57fdd576praxffoaug.txt  \n",
            "  inflating: /content/Augmentations/train/labels/WhatsApp-Image-2023-04-12-at-12-23-21-PM_jpeg.rf.8f86816dac70f167475124d9f6449b2epraxffo.txt  \n",
            "  inflating: /content/Augmentations/train/labels/WhatsApp-Image-2023-04-12-at-12-23-21-PM_jpeg.rf.8f86816dac70f167475124d9f6449b2epraxffoaug.txt  \n",
            "  inflating: /content/Augmentations/train/labels/WhatsApp-Image-2023-04-12-at-12-23-22-PM-1-_jpeg.rf.d592aeb31e18492f05c04f59a26895b6praxffo.txt  \n",
            "  inflating: /content/Augmentations/train/labels/WhatsApp-Image-2023-04-12-at-12-23-22-PM-1-_jpeg.rf.d592aeb31e18492f05c04f59a26895b6praxffoaug.txt  \n",
            "  inflating: /content/Augmentations/train/labels/WhatsApp-Image-2023-04-12-at-12-23-22-PM_jpeg.rf.e90a480bfbc4c0e3683fd62d7c50fb70ffo.txt  \n",
            "  inflating: /content/Augmentations/train/labels/WhatsApp-Image-2023-04-12-at-12-23-22-PM_jpeg.rf.e90a480bfbc4c0e3683fd62d7c50fb70ffoaug.txt  \n",
            "  inflating: /content/Augmentations/train/labels/WhatsApp-Image-2023-04-12-at-12-23-24-PM-1-_jpeg.rf.c223b0ea52082e90c2bce7daee0e1725imrffo.txt  \n",
            "  inflating: /content/Augmentations/train/labels/WhatsApp-Image-2023-04-12-at-12-23-24-PM-1-_jpeg.rf.c223b0ea52082e90c2bce7daee0e1725imrffoaug.txt  \n",
            "  inflating: /content/Augmentations/train/labels/WhatsApp-Image-2023-04-12-at-12-23-25-PM-1-_jpeg.rf.963ab90ccd5501f7a853f118f46cfb2effo.txt  \n",
            "  inflating: /content/Augmentations/train/labels/WhatsApp-Image-2023-04-12-at-12-23-25-PM-1-_jpeg.rf.963ab90ccd5501f7a853f118f46cfb2effoaug.txt  \n",
            "  inflating: /content/Augmentations/train/labels/WhatsApp-Image-2023-04-12-at-12-23-25-PM_jpeg.rf.1c788c86d9f182b22e4ab3147f55929apraxffo.txt  \n",
            "  inflating: /content/Augmentations/train/labels/WhatsApp-Image-2023-04-12-at-12-23-25-PM_jpeg.rf.1c788c86d9f182b22e4ab3147f55929apraxffoaug.txt  \n",
            "  inflating: /content/Augmentations/train/labels/WhatsApp-Image-2023-04-12-at-12-23-26-PM_jpeg.rf.ba21a215256135501323fb6ad1efc84fpraxffo.txt  \n",
            "  inflating: /content/Augmentations/train/labels/WhatsApp-Image-2023-04-12-at-12-23-26-PM_jpeg.rf.ba21a215256135501323fb6ad1efc84fpraxffoaug.txt  \n",
            "  inflating: /content/Augmentations/train/labels/WhatsApp-Image-2023-04-12-at-12-23-28-PM_jpeg.rf.b1bbfdc739ff9a09ed51f43bbf24ebd8imrffo.txt  \n",
            "  inflating: /content/Augmentations/train/labels/WhatsApp-Image-2023-04-12-at-12-23-28-PM_jpeg.rf.b1bbfdc739ff9a09ed51f43bbf24ebd8imrffoaug.txt  \n",
            "  inflating: /content/Augmentations/train/labels/WhatsApp-Image-2023-04-12-at-12-23-34-PM_jpeg.rf.6809074de546ca28478ef068cb848da6praxffo.txt  \n",
            "  inflating: /content/Augmentations/train/labels/WhatsApp-Image-2023-04-12-at-12-23-34-PM_jpeg.rf.6809074de546ca28478ef068cb848da6praxffoaug.txt  \n",
            "  inflating: /content/Augmentations/train/labels/WhatsApp-Image-2023-04-12-at-12-23-36-PM-1-_jpeg.rf.3b4d252f8304ea4476aa08cde56c9fbcpraxffo.txt  \n",
            "  inflating: /content/Augmentations/train/labels/WhatsApp-Image-2023-04-12-at-12-23-36-PM-1-_jpeg.rf.3b4d252f8304ea4476aa08cde56c9fbcpraxffoaug.txt  \n",
            "  inflating: /content/Augmentations/train/labels/WhatsApp-Image-2023-04-12-at-12-23-36-PM-1-_jpeg.rf.fff6044619102335ef856823c4eb809fpraxffo.txt  \n",
            "  inflating: /content/Augmentations/train/labels/WhatsApp-Image-2023-04-12-at-12-23-36-PM-1-_jpeg.rf.fff6044619102335ef856823c4eb809fpraxffoaug.txt  \n",
            "  inflating: /content/Augmentations/train/labels/WhatsApp-Image-2023-04-12-at-12-23-37-PM-1-_jpeg.rf.5aeac505c7074b8c418409dcc48ac809ffo.txt  \n",
            "  inflating: /content/Augmentations/train/labels/WhatsApp-Image-2023-04-12-at-12-23-37-PM-1-_jpeg.rf.5aeac505c7074b8c418409dcc48ac809ffoaug.txt  \n",
            "  inflating: /content/Augmentations/train/labels/WhatsApp-Image-2023-04-12-at-12-23-37-PM-1-_jpeg.rf.5aeac505c7074b8c418409dcc48ac809imrffo.txt  \n",
            "  inflating: /content/Augmentations/train/labels/WhatsApp-Image-2023-04-12-at-12-23-37-PM-1-_jpeg.rf.5aeac505c7074b8c418409dcc48ac809imrffoaug.txt  \n",
            "  inflating: /content/Augmentations/train/labels/WhatsApp-Image-2023-04-12-at-12-23-37-PM_jpeg.rf.d6ccda57cc81ee2250e8a9962aec4a75imrffo.txt  \n",
            "  inflating: /content/Augmentations/train/labels/WhatsApp-Image-2023-04-12-at-12-23-37-PM_jpeg.rf.d6ccda57cc81ee2250e8a9962aec4a75imrffoaug.txt  \n",
            "  inflating: /content/Augmentations/train/labels/WhatsApp-Image-2023-04-12-at-12-23-38-PM_jpeg.rf.2f495a9af7541bc1be1348965fbd5af8praxffo.txt  \n",
            "  inflating: /content/Augmentations/train/labels/WhatsApp-Image-2023-04-12-at-12-23-38-PM_jpeg.rf.2f495a9af7541bc1be1348965fbd5af8praxffoaug.txt  \n",
            "  inflating: /content/Augmentations/train/labels/WhatsApp-Image-2023-04-12-at-12-23-39-PM-1-_jpeg.rf.3795d07c633bf6695b129c3ef4ff28ebimrffo.txt  \n",
            "  inflating: /content/Augmentations/train/labels/WhatsApp-Image-2023-04-12-at-12-23-39-PM-1-_jpeg.rf.3795d07c633bf6695b129c3ef4ff28ebimrffoaug.txt  \n",
            "  inflating: /content/Augmentations/train/labels/WhatsApp-Image-2023-04-12-at-12-23-40-PM-1-_jpeg.rf.ddc7f013a09cbe9f4f09dea41780a96epraxffo.txt  \n",
            "  inflating: /content/Augmentations/train/labels/WhatsApp-Image-2023-04-12-at-12-23-40-PM-1-_jpeg.rf.ddc7f013a09cbe9f4f09dea41780a96epraxffoaug.txt  \n",
            "  inflating: /content/Augmentations/train/labels/WhatsApp-Image-2023-04-12-at-12-23-43-PM_jpeg.rf.c1d9fd9e88eaf81e127cbf8b3b46cfe5imrffo.txt  \n",
            "  inflating: /content/Augmentations/train/labels/WhatsApp-Image-2023-04-12-at-12-23-43-PM_jpeg.rf.c1d9fd9e88eaf81e127cbf8b3b46cfe5imrffoaug.txt  \n",
            "  inflating: /content/Augmentations/train/labels/WhatsApp-Image-2023-04-12-at-12-23-44-PM-1-_jpeg.rf.42e9ee2d9f4e06bbc14a37f513a5c998praxffo.txt  \n",
            "  inflating: /content/Augmentations/train/labels/WhatsApp-Image-2023-04-12-at-12-23-44-PM-1-_jpeg.rf.42e9ee2d9f4e06bbc14a37f513a5c998praxffoaug.txt  \n",
            "  inflating: /content/Augmentations/train/labels/WhatsApp-Image-2023-04-12-at-12-23-45-PM_jpeg.rf.102bc9e490f0712190155cf43b914b92praxffo.txt  \n",
            "  inflating: /content/Augmentations/train/labels/WhatsApp-Image-2023-04-12-at-12-23-45-PM_jpeg.rf.102bc9e490f0712190155cf43b914b92praxffoaug.txt  \n",
            "  inflating: /content/Augmentations/train/labels/WhatsApp-Image-2023-04-12-at-12-23-46-PM-1-_jpeg.rf.ac825b90ef97366b94dc73790e1dd60arutrffo.txt  \n",
            "  inflating: /content/Augmentations/train/labels/WhatsApp-Image-2023-04-12-at-12-23-46-PM-1-_jpeg.rf.ac825b90ef97366b94dc73790e1dd60arutrffoaug.txt  \n",
            "  inflating: /content/Augmentations/train/labels/WhatsApp-Image-2023-04-12-at-12-23-47-PM_jpeg.rf.970d4871945492dda309cb8da3831fdepraxffo.txt  \n",
            "  inflating: /content/Augmentations/train/labels/WhatsApp-Image-2023-04-12-at-12-23-47-PM_jpeg.rf.970d4871945492dda309cb8da3831fdepraxffoaug.txt  \n",
            "  inflating: /content/Augmentations/train/labels/WhatsApp-Image-2023-04-12-at-12-46-12-AM-1-_jpeg.rf.bdfeb8a8e8362888b2506e6df535ccdbpraxffo.txt  \n",
            "  inflating: /content/Augmentations/train/labels/WhatsApp-Image-2023-04-12-at-12-46-12-AM-1-_jpeg.rf.bdfeb8a8e8362888b2506e6df535ccdbpraxffoaug.txt  \n",
            "  inflating: /content/Augmentations/train/labels/WhatsApp-Image-2023-04-12-at-12-46-13-AM-1-_jpeg.rf.e22b444b104a28c91b21fde78d968175praxffo.txt  \n",
            "  inflating: /content/Augmentations/train/labels/WhatsApp-Image-2023-04-12-at-12-46-13-AM-1-_jpeg.rf.e22b444b104a28c91b21fde78d968175praxffoaug.txt  \n",
            "  inflating: /content/Augmentations/train/labels/WhatsApp-Image-2023-04-12-at-12-46-13-AM-1-_jpeg.rf.e7049b21eabb19f17936643a21971621praxffo.txt  \n",
            "  inflating: /content/Augmentations/train/labels/WhatsApp-Image-2023-04-12-at-12-46-13-AM-1-_jpeg.rf.e7049b21eabb19f17936643a21971621praxffoaug.txt  \n",
            "  inflating: /content/Augmentations/train/labels/WhatsApp-Image-2023-04-12-at-12-46-14-AM_jpeg.rf.475c344e91905ffc2f46baa0fee06cf3imrffo.txt  \n",
            "  inflating: /content/Augmentations/train/labels/WhatsApp-Image-2023-04-12-at-12-46-14-AM_jpeg.rf.475c344e91905ffc2f46baa0fee06cf3imrffoaug.txt  \n",
            "  inflating: /content/Augmentations/train/labels/WhatsApp-Image-2023-04-12-at-12-46-14-AM_jpeg.rf.475c344e91905ffc2f46baa0fee06cf3rutrffo.txt  \n",
            "  inflating: /content/Augmentations/train/labels/WhatsApp-Image-2023-04-12-at-12-46-14-AM_jpeg.rf.475c344e91905ffc2f46baa0fee06cf3rutrffoaug.txt  \n",
            "  inflating: /content/Augmentations/train/labels/WhatsApp-Image-2023-04-12-at-12-46-15-AM_jpeg.rf.286b58b11b6274d63fafd6b599e96459praxffo.txt  \n",
            "  inflating: /content/Augmentations/train/labels/WhatsApp-Image-2023-04-12-at-12-46-15-AM_jpeg.rf.286b58b11b6274d63fafd6b599e96459praxffoaug.txt  \n",
            "  inflating: /content/Augmentations/train/labels/WhatsApp-Image-2023-04-12-at-12-46-16-AM-1-_jpeg.rf.9236bc2d8cc5c98930d267c04642a801praxffo.txt  \n",
            "  inflating: /content/Augmentations/train/labels/WhatsApp-Image-2023-04-12-at-12-46-16-AM-1-_jpeg.rf.9236bc2d8cc5c98930d267c04642a801praxffoaug.txt  \n",
            "  inflating: /content/Augmentations/train/labels/WhatsApp-Image-2023-04-12-at-12-46-17-AM_jpeg.rf.3ae2704a5a066378d7cf4122e382dfd6praxffo.txt  \n",
            "  inflating: /content/Augmentations/train/labels/WhatsApp-Image-2023-04-12-at-12-46-17-AM_jpeg.rf.3ae2704a5a066378d7cf4122e382dfd6praxffoaug.txt  \n",
            "  inflating: /content/Augmentations/train/labels/WhatsApp-Image-2023-04-12-at-12-46-18-AM_jpeg.rf.2555221ee8471b98b5c1ca0fb4127ebepraxffo.txt  \n",
            "  inflating: /content/Augmentations/train/labels/WhatsApp-Image-2023-04-12-at-12-46-18-AM_jpeg.rf.2555221ee8471b98b5c1ca0fb4127ebepraxffoaug.txt  \n",
            "  inflating: /content/Augmentations/train/labels/WhatsApp-Image-2023-04-12-at-12-46-19-AM-1-_jpeg.rf.43f0173ca02242ffcd7892a3f540ba3bimrffo.txt  \n",
            "  inflating: /content/Augmentations/train/labels/WhatsApp-Image-2023-04-12-at-12-46-19-AM-1-_jpeg.rf.43f0173ca02242ffcd7892a3f540ba3bimrffoaug.txt  \n",
            "  inflating: /content/Augmentations/train/labels/WhatsApp-Image-2023-04-12-at-12-46-19-AM_jpeg.rf.59a8edf9474ee698192a3f93ec415b1fpraxffo.txt  \n",
            "  inflating: /content/Augmentations/train/labels/WhatsApp-Image-2023-04-12-at-12-46-19-AM_jpeg.rf.59a8edf9474ee698192a3f93ec415b1fpraxffoaug.txt  \n",
            "  inflating: /content/Augmentations/train/labels/WhatsApp-Image-2023-04-12-at-12-46-21-AM_jpeg.rf.bfdf7928546d4416d06b36ea64efa3b0imrffo.txt  \n",
            "  inflating: /content/Augmentations/train/labels/WhatsApp-Image-2023-04-12-at-12-46-21-AM_jpeg.rf.bfdf7928546d4416d06b36ea64efa3b0imrffoaug.txt  \n",
            "  inflating: /content/Augmentations/train/labels/WhatsApp-Image-2023-04-12-at-12-46-21-AM_jpeg.rf.bfdf7928546d4416d06b36ea64efa3b0rutrffo.txt  \n",
            "  inflating: /content/Augmentations/train/labels/WhatsApp-Image-2023-04-12-at-12-46-21-AM_jpeg.rf.bfdf7928546d4416d06b36ea64efa3b0rutrffoaug.txt  \n",
            "  inflating: /content/Augmentations/train/labels/WhatsApp-Image-2023-04-12-at-12-46-22-AM-1-_jpeg.rf.c03ef6ce7ce0c23946478a7b231de32brutrffo.txt  \n",
            "  inflating: /content/Augmentations/train/labels/WhatsApp-Image-2023-04-12-at-12-46-22-AM-1-_jpeg.rf.c03ef6ce7ce0c23946478a7b231de32brutrffoaug.txt  \n",
            "  inflating: /content/Augmentations/train/labels/WhatsApp-Image-2023-04-12-at-12-46-22-AM_jpeg.rf.026956ae4a07616e022825dbeae3160apraxffo.txt  \n",
            "  inflating: /content/Augmentations/train/labels/WhatsApp-Image-2023-04-12-at-12-46-22-AM_jpeg.rf.026956ae4a07616e022825dbeae3160apraxffoaug.txt  \n",
            "  inflating: /content/Augmentations/train/labels/WhatsApp-Image-2023-04-12-at-12-46-22-AM_jpeg.rf.18556755541695d43594aaff7eababdbpraxffo.txt  \n",
            "  inflating: /content/Augmentations/train/labels/WhatsApp-Image-2023-04-12-at-12-46-22-AM_jpeg.rf.18556755541695d43594aaff7eababdbpraxffoaug.txt  \n",
            "  inflating: /content/Augmentations/train/labels/WhatsApp-Image-2023-04-12-at-12-46-23-AM-1-_jpeg.rf.daa3084687d4b44a4d1f9c36968f76c9ffo.txt  \n",
            "  inflating: /content/Augmentations/train/labels/WhatsApp-Image-2023-04-12-at-12-46-23-AM-1-_jpeg.rf.daa3084687d4b44a4d1f9c36968f76c9ffoaug.txt  \n",
            "  inflating: /content/Augmentations/train/labels/WhatsApp-Image-2023-04-12-at-12-46-23-AM-1-_jpeg.rf.daa3084687d4b44a4d1f9c36968f76c9rutrffo.txt  \n",
            "  inflating: /content/Augmentations/train/labels/WhatsApp-Image-2023-04-12-at-12-46-23-AM-1-_jpeg.rf.daa3084687d4b44a4d1f9c36968f76c9rutrffoaug.txt  \n",
            "  inflating: /content/Augmentations/train/labels/WhatsApp-Image-2023-04-12-at-12-46-23-AM_jpeg.rf.e1c41e40882931ea10369e7191018879ffo.txt  \n",
            "  inflating: /content/Augmentations/train/labels/WhatsApp-Image-2023-04-12-at-12-46-23-AM_jpeg.rf.e1c41e40882931ea10369e7191018879ffoaug.txt  \n",
            "  inflating: /content/Augmentations/train/labels/WhatsApp-Image-2023-04-12-at-12-46-23-AM_jpeg.rf.e1c41e40882931ea10369e7191018879rutrffo.txt  \n",
            "  inflating: /content/Augmentations/train/labels/WhatsApp-Image-2023-04-12-at-12-46-23-AM_jpeg.rf.e1c41e40882931ea10369e7191018879rutrffoaug.txt  \n",
            "  inflating: /content/Augmentations/train/labels/WhatsApp-Image-2023-04-12-at-12-46-25-AM_jpeg.rf.609cfdd5238d248cb134337bd9286e6dimrffo.txt  \n",
            "  inflating: /content/Augmentations/train/labels/WhatsApp-Image-2023-04-12-at-12-46-25-AM_jpeg.rf.609cfdd5238d248cb134337bd9286e6dimrffoaug.txt  \n",
            "  inflating: /content/Augmentations/train/labels/WhatsApp-Image-2023-04-12-at-12-46-25-AM_jpeg.rf.609cfdd5238d248cb134337bd9286e6drutrffo.txt  \n",
            "  inflating: /content/Augmentations/train/labels/WhatsApp-Image-2023-04-12-at-12-46-25-AM_jpeg.rf.609cfdd5238d248cb134337bd9286e6drutrffoaug.txt  \n",
            "  inflating: /content/Augmentations/train/labels/WhatsApp-Image-2023-04-12-at-12-46-29-AM_jpeg.rf.8f913b1389361b42976a5802b0a8dc1bimrffo.txt  \n",
            "  inflating: /content/Augmentations/train/labels/WhatsApp-Image-2023-04-12-at-12-46-29-AM_jpeg.rf.8f913b1389361b42976a5802b0a8dc1bimrffoaug.txt  \n",
            "  inflating: /content/Augmentations/train/labels/WhatsApp-Image-2023-04-12-at-12-46-29-AM_jpeg.rf.8f913b1389361b42976a5802b0a8dc1brutrffo.txt  \n",
            "  inflating: /content/Augmentations/train/labels/WhatsApp-Image-2023-04-12-at-12-46-29-AM_jpeg.rf.8f913b1389361b42976a5802b0a8dc1brutrffoaug.txt  \n",
            "  inflating: /content/Augmentations/train/labels/WhatsApp-Image-2023-04-12-at-12-46-32-AM_jpeg.rf.efd19c3e189ecd6bd17e3ae0cd5a23a5ffo.txt  \n",
            "  inflating: /content/Augmentations/train/labels/WhatsApp-Image-2023-04-12-at-12-46-32-AM_jpeg.rf.efd19c3e189ecd6bd17e3ae0cd5a23a5ffoaug.txt  \n",
            "  inflating: /content/Augmentations/train/labels/WhatsApp-Image-2023-04-12-at-12-46-33-AM-2-_jpeg.rf.8aff171c034e3db7b993697fe936edb6imrffo.txt  \n",
            "  inflating: /content/Augmentations/train/labels/WhatsApp-Image-2023-04-12-at-12-46-33-AM-2-_jpeg.rf.8aff171c034e3db7b993697fe936edb6imrffoaug.txt  \n",
            "  inflating: /content/Augmentations/train/labels/WhatsApp-Image-2023-04-12-at-12-46-36-AM-2-_jpeg.rf.567955ef512697c5c2d1747549781b4dffo.txt  \n",
            "  inflating: /content/Augmentations/train/labels/WhatsApp-Image-2023-04-12-at-12-46-36-AM-2-_jpeg.rf.567955ef512697c5c2d1747549781b4dffoaug.txt  \n",
            "  inflating: /content/Augmentations/train/labels/WhatsApp-Image-2023-04-12-at-12-46-37-AM_jpeg.rf.18377dd2412b5bdd6a9ac4348e82c5b0imrffo.txt  \n",
            "  inflating: /content/Augmentations/train/labels/WhatsApp-Image-2023-04-12-at-12-46-37-AM_jpeg.rf.18377dd2412b5bdd6a9ac4348e82c5b0imrffoaug.txt  \n",
            "  inflating: /content/Augmentations/train/labels/WhatsApp-Image-2023-04-12-at-12-46-38-AM_jpeg.rf.ad1ed7f6d6419f6505553c96c9eb957drutruplffo.txt  \n",
            "  inflating: /content/Augmentations/train/labels/WhatsApp-Image-2023-04-12-at-12-46-38-AM_jpeg.rf.ad1ed7f6d6419f6505553c96c9eb957drutruplffoaug.txt  \n",
            "  inflating: /content/Augmentations/train/labels/WhatsApp-Image-2023-04-12-at-12-46-39-AM-1-_jpeg.rf.4a4548b75fd9a312fe0d450d1d302783imrffo.txt  \n",
            "  inflating: /content/Augmentations/train/labels/WhatsApp-Image-2023-04-12-at-12-46-39-AM-1-_jpeg.rf.4a4548b75fd9a312fe0d450d1d302783imrffoaug.txt  \n",
            "  inflating: /content/Augmentations/train/labels/WhatsApp-Image-2023-04-12-at-12-46-40-AM_jpeg.rf.f42560b62a44fd2ed5a8216762544fc9rutruplffo.txt  \n",
            "  inflating: /content/Augmentations/train/labels/WhatsApp-Image-2023-04-12-at-12-46-40-AM_jpeg.rf.f42560b62a44fd2ed5a8216762544fc9rutruplffoaug.txt  \n",
            "  inflating: /content/Augmentations/train/labels/WhatsApp-Image-2023-04-12-at-12-47-58-AM_jpeg.rf.55026b2d74bef3579daada7b3d3b7b73rutruplffo.txt  \n",
            "  inflating: /content/Augmentations/train/labels/WhatsApp-Image-2023-04-12-at-12-47-58-AM_jpeg.rf.55026b2d74bef3579daada7b3d3b7b73rutruplffoaug.txt  \n",
            "  inflating: /content/Augmentations/train/labels/WhatsApp-Image-2023-04-12-at-12-47-58-AM_jpeg.rf.a919ced975a1aaf07f34b1d6bad27e41rutruplffo.txt  \n",
            "  inflating: /content/Augmentations/train/labels/WhatsApp-Image-2023-04-12-at-12-47-58-AM_jpeg.rf.a919ced975a1aaf07f34b1d6bad27e41rutruplffoaug.txt  \n",
            "  inflating: /content/Augmentations/train/labels/WhatsApp-Image-2023-04-12-at-12-47-59-AM_jpeg.rf.77214baaf6942d36d06131c257c1ea40imrffo.txt  \n",
            "  inflating: /content/Augmentations/train/labels/WhatsApp-Image-2023-04-12-at-12-47-59-AM_jpeg.rf.77214baaf6942d36d06131c257c1ea40imrffoaug.txt  \n",
            "  inflating: /content/Augmentations/train/labels/WhatsApp-Image-2023-04-12-at-12-48-00-AM-1-_jpeg.rf.6cee27125bd0bbd4011650479973a761rutruplffo.txt  \n",
            "  inflating: /content/Augmentations/train/labels/WhatsApp-Image-2023-04-12-at-12-48-00-AM-1-_jpeg.rf.6cee27125bd0bbd4011650479973a761rutruplffoaug.txt  \n",
            "  inflating: /content/Augmentations/train/labels/WhatsApp-Image-2023-04-12-at-12-48-00-AM-1-_jpeg.rf.776aa570e11c69e1b3464d672785d19frutruplffo.txt  \n",
            "  inflating: /content/Augmentations/train/labels/WhatsApp-Image-2023-04-12-at-12-48-00-AM-1-_jpeg.rf.776aa570e11c69e1b3464d672785d19frutruplffoaug.txt  \n",
            "  inflating: /content/Augmentations/train/labels/WhatsApp-Image-2023-04-12-at-12-48-00-AM-2-_jpeg.rf.a5d68d9aa52b53536daed7f26a26cb54rutruplffo.txt  \n",
            "  inflating: /content/Augmentations/train/labels/WhatsApp-Image-2023-04-12-at-12-48-00-AM-2-_jpeg.rf.a5d68d9aa52b53536daed7f26a26cb54rutruplffoaug.txt  \n",
            "  inflating: /content/Augmentations/train/labels/WhatsApp-Image-2023-04-12-at-12-48-00-AM_jpeg.rf.f45d68113159886acabe637b72a99ae6rutruplffo.txt  \n",
            "  inflating: /content/Augmentations/train/labels/WhatsApp-Image-2023-04-12-at-12-48-00-AM_jpeg.rf.f45d68113159886acabe637b72a99ae6rutruplffoaug.txt  \n",
            "  inflating: /content/Augmentations/train/labels/WhatsApp-Image-2023-04-12-at-12-48-01-AM-1-_jpeg.rf.ce7556170a35c783d9712e2ea769d39bimrffo.txt  \n",
            "  inflating: /content/Augmentations/train/labels/WhatsApp-Image-2023-04-12-at-12-48-01-AM-1-_jpeg.rf.ce7556170a35c783d9712e2ea769d39bimrffoaug.txt  \n",
            "  inflating: /content/Augmentations/train/labels/WhatsApp-Image-2023-04-12-at-12-48-01-AM_jpeg.rf.983f76b8ccb158b49775cdd8b9d9f434rutruplffo.txt  \n",
            "  inflating: /content/Augmentations/train/labels/WhatsApp-Image-2023-04-12-at-12-48-01-AM_jpeg.rf.983f76b8ccb158b49775cdd8b9d9f434rutruplffoaug.txt  \n",
            "  inflating: /content/Augmentations/train/labels/WhatsApp-Image-2023-04-12-at-12-48-02-AM_jpeg.rf.6017bdb4e11a86a1d0aae8c028cf0fe2rutruplffo.txt  \n",
            "  inflating: /content/Augmentations/train/labels/WhatsApp-Image-2023-04-12-at-12-48-02-AM_jpeg.rf.6017bdb4e11a86a1d0aae8c028cf0fe2rutruplffoaug.txt  \n",
            "  inflating: /content/Augmentations/train/labels/WhatsApp-Image-2023-04-12-at-12-48-03-AM-1-_jpeg.rf.4f49bc13f865e35d26a93ad35ab57dd2rutruplffo.txt  \n",
            "  inflating: /content/Augmentations/train/labels/WhatsApp-Image-2023-04-12-at-12-48-03-AM-1-_jpeg.rf.4f49bc13f865e35d26a93ad35ab57dd2rutruplffoaug.txt  \n",
            "  inflating: /content/Augmentations/train/labels/WhatsApp-Image-2023-04-12-at-12-48-03-AM-1-_jpeg.rf.f46b660d72e32729d77cf4c97764a0berutruplffo.txt  \n",
            "  inflating: /content/Augmentations/train/labels/WhatsApp-Image-2023-04-12-at-12-48-03-AM-1-_jpeg.rf.f46b660d72e32729d77cf4c97764a0berutruplffoaug.txt  \n",
            "  inflating: /content/Augmentations/train/labels/WhatsApp-Image-2023-04-12-at-12-48-03-AM-2-_jpeg.rf.71d632a642caf943a760cb35674a5dbarutruplffo.txt  \n",
            "  inflating: /content/Augmentations/train/labels/WhatsApp-Image-2023-04-12-at-12-48-03-AM-2-_jpeg.rf.71d632a642caf943a760cb35674a5dbarutruplffoaug.txt  \n",
            "  inflating: /content/Augmentations/train/labels/WhatsApp-Image-2023-04-12-at-12-48-03-AM-2-_jpeg.rf.a86d5ea7eec4eb72f06fc4649a61b7e3rutruplffo.txt  \n",
            "  inflating: /content/Augmentations/train/labels/WhatsApp-Image-2023-04-12-at-12-48-03-AM-2-_jpeg.rf.a86d5ea7eec4eb72f06fc4649a61b7e3rutruplffoaug.txt  \n",
            "  inflating: /content/Augmentations/train/labels/WhatsApp-Image-2023-04-12-at-12-48-03-AM_jpeg.rf.30f8885b0f6ce2d88ff600b7a9c47b01rutruplffo.txt  \n",
            "  inflating: /content/Augmentations/train/labels/WhatsApp-Image-2023-04-12-at-12-48-03-AM_jpeg.rf.30f8885b0f6ce2d88ff600b7a9c47b01rutruplffoaug.txt  \n",
            "  inflating: /content/Augmentations/train/labels/WhatsApp-Image-2023-04-12-at-12-48-04-AM-1-_jpeg.rf.5fe95fa62d2c1ddb50ea83121a485b0arutruplffo.txt  \n",
            "  inflating: /content/Augmentations/train/labels/WhatsApp-Image-2023-04-12-at-12-48-04-AM-1-_jpeg.rf.5fe95fa62d2c1ddb50ea83121a485b0arutruplffoaug.txt  \n",
            "  inflating: /content/Augmentations/train/labels/WhatsApp-Image-2023-04-12-at-12-48-04-AM_jpeg.rf.1f92c70cc5d1c669b1a5d67ad133c8ecrutruplffo.txt  \n",
            "  inflating: /content/Augmentations/train/labels/WhatsApp-Image-2023-04-12-at-12-48-04-AM_jpeg.rf.1f92c70cc5d1c669b1a5d67ad133c8ecrutruplffoaug.txt  \n",
            "  inflating: /content/Augmentations/train/labels/WhatsApp-Image-2023-04-12-at-12-48-05-AM-1-_jpeg.rf.2a7bf2e9078184ed68162c5dd6e67a50imrffo.txt  \n",
            "  inflating: /content/Augmentations/train/labels/WhatsApp-Image-2023-04-12-at-12-48-05-AM-1-_jpeg.rf.2a7bf2e9078184ed68162c5dd6e67a50imrffoaug.txt  \n",
            "  inflating: /content/Augmentations/train/labels/WhatsApp-Image-2023-04-12-at-12-48-05-AM_jpeg.rf.7ca8768c3c2afc356c1e398660d87e94imrffo.txt  \n",
            "  inflating: /content/Augmentations/train/labels/WhatsApp-Image-2023-04-12-at-12-48-05-AM_jpeg.rf.7ca8768c3c2afc356c1e398660d87e94imrffoaug.txt  \n",
            "  inflating: /content/Augmentations/train/labels/WhatsApp-Image-2023-04-12-at-12-48-05-AM_jpeg.rf.7ca8768c3c2afc356c1e398660d87e94rutrffo.txt  \n",
            "  inflating: /content/Augmentations/train/labels/WhatsApp-Image-2023-04-12-at-12-48-05-AM_jpeg.rf.7ca8768c3c2afc356c1e398660d87e94rutrffoaug.txt  \n",
            "  inflating: /content/Augmentations/train/labels/WhatsApp-Image-2023-04-12-at-12-48-06-AM-1-_jpeg.rf.1773920ae7053a5f7650b00487695061rutruplffo.txt  \n",
            "  inflating: /content/Augmentations/train/labels/WhatsApp-Image-2023-04-12-at-12-48-06-AM-1-_jpeg.rf.1773920ae7053a5f7650b00487695061rutruplffoaug.txt  \n",
            "  inflating: /content/Augmentations/train/labels/WhatsApp-Image-2023-04-12-at-12-48-06-AM_jpeg.rf.6ed16dfe4408f6e8642a54509bf17483rutruplffo.txt  \n",
            "  inflating: /content/Augmentations/train/labels/WhatsApp-Image-2023-04-12-at-12-48-06-AM_jpeg.rf.6ed16dfe4408f6e8642a54509bf17483rutruplffoaug.txt  \n",
            "  inflating: /content/Augmentations/train/labels/WhatsApp-Image-2023-04-12-at-12-48-06-AM_jpeg.rf.f0d991013acb5a09f41b9e6d5865d65brutruplffo.txt  \n",
            "  inflating: /content/Augmentations/train/labels/WhatsApp-Image-2023-04-12-at-12-48-06-AM_jpeg.rf.f0d991013acb5a09f41b9e6d5865d65brutruplffoaug.txt  \n",
            "  inflating: /content/Augmentations/train/labels/WhatsApp-Image-2023-04-12-at-12-48-07-AM-1-_jpeg.rf.d31c19bbfdfacb26d9cd27d4d05baf32ffo.txt  \n",
            "  inflating: /content/Augmentations/train/labels/WhatsApp-Image-2023-04-12-at-12-48-07-AM-1-_jpeg.rf.d31c19bbfdfacb26d9cd27d4d05baf32ffoaug.txt  \n",
            "  inflating: /content/Augmentations/train/labels/WhatsApp-Image-2023-04-12-at-12-48-07-AM-1-_jpeg.rf.d31c19bbfdfacb26d9cd27d4d05baf32rutrffo.txt  \n",
            "  inflating: /content/Augmentations/train/labels/WhatsApp-Image-2023-04-12-at-12-48-07-AM-1-_jpeg.rf.d31c19bbfdfacb26d9cd27d4d05baf32rutrffoaug.txt  \n",
            "  inflating: /content/Augmentations/train/labels/WhatsApp-Image-2023-04-12-at-12-48-07-AM_jpeg.rf.4c83e94267395f903a82a9f13066aaa7rutruplffo.txt  \n",
            "  inflating: /content/Augmentations/train/labels/WhatsApp-Image-2023-04-12-at-12-48-07-AM_jpeg.rf.4c83e94267395f903a82a9f13066aaa7rutruplffoaug.txt  \n",
            "  inflating: /content/Augmentations/train/labels/WhatsApp-Image-2023-04-12-at-12-48-08-AM_jpeg.rf.2e9830fc88e9cab7e78be6ff87354ae5rutruplffo.txt  \n",
            "  inflating: /content/Augmentations/train/labels/WhatsApp-Image-2023-04-12-at-12-48-08-AM_jpeg.rf.2e9830fc88e9cab7e78be6ff87354ae5rutruplffoaug.txt  \n",
            "  inflating: /content/Augmentations/train/labels/WhatsApp-Image-2023-04-12-at-12-48-09-AM_jpeg.rf.720d34d01d5741f7efbd63401179a7dfrutruplffo.txt  \n",
            "  inflating: /content/Augmentations/train/labels/WhatsApp-Image-2023-04-12-at-12-48-09-AM_jpeg.rf.720d34d01d5741f7efbd63401179a7dfrutruplffoaug.txt  \n",
            "  inflating: /content/Augmentations/train/labels/WhatsApp-Image-2023-04-12-at-12-48-10-AM-1-_jpeg.rf.801a1eeaca4c52cf92310f0cb8dd31afffo.txt  \n",
            "  inflating: /content/Augmentations/train/labels/WhatsApp-Image-2023-04-12-at-12-48-10-AM-1-_jpeg.rf.801a1eeaca4c52cf92310f0cb8dd31afffoaug.txt  \n",
            "  inflating: /content/Augmentations/train/labels/WhatsApp-Image-2023-04-12-at-12-48-10-AM-1-_jpeg.rf.801a1eeaca4c52cf92310f0cb8dd31afrutrffo.txt  \n",
            "  inflating: /content/Augmentations/train/labels/WhatsApp-Image-2023-04-12-at-12-48-10-AM-1-_jpeg.rf.801a1eeaca4c52cf92310f0cb8dd31afrutrffoaug.txt  \n",
            "  inflating: /content/Augmentations/train/labels/WhatsApp-Image-2023-04-12-at-12-48-10-AM_jpeg.rf.35b08a45c9323dd50f73ac09060f9bb9rutruplffo.txt  \n",
            "  inflating: /content/Augmentations/train/labels/WhatsApp-Image-2023-04-12-at-12-48-10-AM_jpeg.rf.35b08a45c9323dd50f73ac09060f9bb9rutruplffoaug.txt  \n",
            "  inflating: /content/Augmentations/train/labels/WhatsApp-Image-2023-04-12-at-12-48-11-AM-1-_jpeg.rf.ba5cf70242621b885f0c767e4d18fe00imrffo.txt  \n",
            "  inflating: /content/Augmentations/train/labels/WhatsApp-Image-2023-04-12-at-12-48-11-AM-1-_jpeg.rf.ba5cf70242621b885f0c767e4d18fe00imrffoaug.txt  \n",
            "  inflating: /content/Augmentations/train/labels/WhatsApp-Image-2023-04-12-at-12-48-11-AM-1-_jpeg.rf.ba5cf70242621b885f0c767e4d18fe00rutrffo.txt  \n",
            "  inflating: /content/Augmentations/train/labels/WhatsApp-Image-2023-04-12-at-12-48-11-AM-1-_jpeg.rf.ba5cf70242621b885f0c767e4d18fe00rutrffoaug.txt  \n",
            "  inflating: /content/Augmentations/train/labels/WhatsApp-Image-2023-04-12-at-12-48-11-AM_jpeg.rf.df3aa557b83e518450448b9e3ddcd8d8imrffo.txt  \n",
            "  inflating: /content/Augmentations/train/labels/WhatsApp-Image-2023-04-12-at-12-48-11-AM_jpeg.rf.df3aa557b83e518450448b9e3ddcd8d8imrffoaug.txt  \n",
            "  inflating: /content/Augmentations/train/labels/WhatsApp-Image-2023-04-12-at-12-48-11-AM_jpeg.rf.df3aa557b83e518450448b9e3ddcd8d8rutrffo.txt  \n",
            "  inflating: /content/Augmentations/train/labels/WhatsApp-Image-2023-04-12-at-12-48-11-AM_jpeg.rf.df3aa557b83e518450448b9e3ddcd8d8rutrffoaug.txt  \n",
            "  inflating: /content/Augmentations/train/labels/WhatsApp-Image-2023-04-12-at-12-48-12-AM-1-_jpeg.rf.1044ac2d0b60d7c40d16fe683a8981a3rutruplffo.txt  \n",
            "  inflating: /content/Augmentations/train/labels/WhatsApp-Image-2023-04-12-at-12-48-12-AM-1-_jpeg.rf.1044ac2d0b60d7c40d16fe683a8981a3rutruplffoaug.txt  \n",
            "  inflating: /content/Augmentations/train/labels/WhatsApp-Image-2023-04-12-at-12-48-12-AM-1-_jpeg.rf.edede6a8a081c37aea8fec26555220d9rutruplffo.txt  \n",
            "  inflating: /content/Augmentations/train/labels/WhatsApp-Image-2023-04-12-at-12-48-12-AM-1-_jpeg.rf.edede6a8a081c37aea8fec26555220d9rutruplffoaug.txt  \n",
            "  inflating: /content/Augmentations/train/labels/WhatsApp-Image-2023-04-12-at-12-48-12-AM_jpeg.rf.f77427ae6f57366bc3e88194aaba72beffo.txt  \n",
            "  inflating: /content/Augmentations/train/labels/WhatsApp-Image-2023-04-12-at-12-48-12-AM_jpeg.rf.f77427ae6f57366bc3e88194aaba72beffoaug.txt  \n",
            "  inflating: /content/Augmentations/train/labels/WhatsApp-Image-2023-04-12-at-5-11-24-PM_jpeg.rf.25c1b3ed168c3806c0555cf0db4bd84dimrffo.txt  \n",
            "  inflating: /content/Augmentations/train/labels/WhatsApp-Image-2023-04-12-at-5-11-24-PM_jpeg.rf.25c1b3ed168c3806c0555cf0db4bd84dimrffoaug.txt  \n",
            "  inflating: /content/Augmentations/train/labels/WhatsApp-Image-2023-04-12-at-5-11-24-PM_jpeg.rf.25c1b3ed168c3806c0555cf0db4bd84drutrffo.txt  \n",
            "  inflating: /content/Augmentations/train/labels/WhatsApp-Image-2023-04-12-at-5-11-24-PM_jpeg.rf.25c1b3ed168c3806c0555cf0db4bd84drutrffoaug.txt  \n",
            "  inflating: /content/Augmentations/train/labels.cache  \n",
            "   creating: /content/Augmentations/val/\n",
            "   creating: /content/Augmentations/val/images/\n",
            "  inflating: /content/Augmentations/val/images/WhatsApp-Image-2023-04-12-at-12-48-13-AM_jpeg.rf.6dce3f16b0c39cd6c6538b56612aed42rutruplffo.jpg  \n",
            "  inflating: /content/Augmentations/val/images/WhatsApp-Image-2023-04-12-at-12-48-13-AM_jpeg.rf.6dce3f16b0c39cd6c6538b56612aed42rutruplffoaug.jpg  \n",
            "  inflating: /content/Augmentations/val/images/WhatsApp-Image-2023-04-12-at-12-48-13-AM_jpeg.rf.73cde42135bf15186a1287d4f5d5356brutruplffo.jpg  \n",
            "  inflating: /content/Augmentations/val/images/WhatsApp-Image-2023-04-12-at-12-48-13-AM_jpeg.rf.73cde42135bf15186a1287d4f5d5356brutruplffoaug.jpg  \n",
            "  inflating: /content/Augmentations/val/images/WhatsApp-Image-2023-04-12-at-12-48-14-AM-1-_jpeg.rf.3ad908b973d8800d48884989661ad1abffo.jpg  \n",
            "  inflating: /content/Augmentations/val/images/WhatsApp-Image-2023-04-12-at-12-48-14-AM-1-_jpeg.rf.3ad908b973d8800d48884989661ad1abffoaug.jpg  \n",
            "  inflating: /content/Augmentations/val/images/WhatsApp-Image-2023-04-12-at-12-48-14-AM-1-_jpeg.rf.3ad908b973d8800d48884989661ad1abrutrffo.jpg  \n",
            "  inflating: /content/Augmentations/val/images/WhatsApp-Image-2023-04-12-at-12-48-14-AM-1-_jpeg.rf.3ad908b973d8800d48884989661ad1abrutrffoaug.jpg  \n",
            "  inflating: /content/Augmentations/val/images/WhatsApp-Image-2023-04-12-at-12-48-14-AM_jpeg.rf.6763873def0f0b28873dd2af5b25200crutruplffo.jpg  \n",
            "  inflating: /content/Augmentations/val/images/WhatsApp-Image-2023-04-12-at-12-48-14-AM_jpeg.rf.6763873def0f0b28873dd2af5b25200crutruplffoaug.jpg  \n",
            "  inflating: /content/Augmentations/val/images/WhatsApp-Image-2023-04-12-at-12-48-15-AM-1-_jpeg.rf.b1dfdb654ef8434076689355c49a14f9rutruplffo.jpg  \n",
            "  inflating: /content/Augmentations/val/images/WhatsApp-Image-2023-04-12-at-12-48-15-AM-1-_jpeg.rf.b1dfdb654ef8434076689355c49a14f9rutruplffoaug.jpg  \n",
            "  inflating: /content/Augmentations/val/images/WhatsApp-Image-2023-04-12-at-12-48-15-AM-1-_jpeg.rf.d3c911135d38e205c28163aa05409116rutruplffo.jpg  \n",
            "  inflating: /content/Augmentations/val/images/WhatsApp-Image-2023-04-12-at-12-48-15-AM-1-_jpeg.rf.d3c911135d38e205c28163aa05409116rutruplffoaug.jpg  \n",
            "  inflating: /content/Augmentations/val/images/WhatsApp-Image-2023-04-12-at-12-48-15-AM_jpeg.rf.109caaacefd5b9dccca681f60a58d4cerutruplffo.jpg  \n",
            "  inflating: /content/Augmentations/val/images/WhatsApp-Image-2023-04-12-at-12-48-15-AM_jpeg.rf.109caaacefd5b9dccca681f60a58d4cerutruplffoaug.jpg  \n",
            "  inflating: /content/Augmentations/val/images/WhatsApp-Image-2023-04-12-at-12-48-15-AM_jpeg.rf.806ace38ac841fa7a765496fc96e46bcrutruplffo.jpg  \n",
            "  inflating: /content/Augmentations/val/images/WhatsApp-Image-2023-04-12-at-12-48-15-AM_jpeg.rf.806ace38ac841fa7a765496fc96e46bcrutruplffoaug.jpg  \n",
            "  inflating: /content/Augmentations/val/images/WhatsApp-Image-2023-04-12-at-12-48-16-AM_jpeg.rf.5b0e3e13516ee1511945c100dc6993d1rutruplffo.jpg  \n",
            "  inflating: /content/Augmentations/val/images/WhatsApp-Image-2023-04-12-at-12-48-16-AM_jpeg.rf.5b0e3e13516ee1511945c100dc6993d1rutruplffoaug.jpg  \n",
            "  inflating: /content/Augmentations/val/images/WhatsApp-Image-2023-04-12-at-12-48-17-AM-1-_jpeg.rf.c0c2889e0ffa1d64dffd4c77a77a032crutruplffo.jpg  \n",
            "  inflating: /content/Augmentations/val/images/WhatsApp-Image-2023-04-12-at-12-48-17-AM-1-_jpeg.rf.c0c2889e0ffa1d64dffd4c77a77a032crutruplffoaug.jpg  \n",
            "  inflating: /content/Augmentations/val/images/WhatsApp-Image-2023-04-12-at-12-48-17-AM-1-_jpeg.rf.e05173662f2d83e95db1fc44785206c0rutruplffo.jpg  \n",
            "  inflating: /content/Augmentations/val/images/WhatsApp-Image-2023-04-12-at-12-48-17-AM-1-_jpeg.rf.e05173662f2d83e95db1fc44785206c0rutruplffoaug.jpg  \n",
            "  inflating: /content/Augmentations/val/images/WhatsApp-Image-2023-04-12-at-12-48-17-AM_jpeg.rf.816c6cec1b2787e024b79f5cb959bd7arutruplffo.jpg  \n",
            "  inflating: /content/Augmentations/val/images/WhatsApp-Image-2023-04-12-at-12-48-17-AM_jpeg.rf.816c6cec1b2787e024b79f5cb959bd7arutruplffoaug.jpg  \n",
            "  inflating: /content/Augmentations/val/images/WhatsApp-Image-2023-04-12-at-12-48-20-AM-1-_jpeg.rf.d5a3915b140d7648a451980208147fc1rutruplffo.jpg  \n",
            "  inflating: /content/Augmentations/val/images/WhatsApp-Image-2023-04-12-at-12-48-20-AM-1-_jpeg.rf.d5a3915b140d7648a451980208147fc1rutruplffoaug.jpg  \n",
            "  inflating: /content/Augmentations/val/images/WhatsApp-Image-2023-04-12-at-12-48-20-AM_jpeg.rf.ef302f1296ceb00bcf0b3b0072bbef22rutruplffo.jpg  \n",
            "  inflating: /content/Augmentations/val/images/WhatsApp-Image-2023-04-12-at-12-48-20-AM_jpeg.rf.ef302f1296ceb00bcf0b3b0072bbef22rutruplffoaug.jpg  \n",
            "  inflating: /content/Augmentations/val/images/WhatsApp-Image-2023-04-13-at-1-56-02-PM-1-_jpeg.rf.12282de08ab2f7b225cfa26346cc2b7arutruplffo.jpg  \n",
            "  inflating: /content/Augmentations/val/images/WhatsApp-Image-2023-04-13-at-1-56-02-PM-1-_jpeg.rf.12282de08ab2f7b225cfa26346cc2b7arutruplffoaug.jpg  \n",
            "  inflating: /content/Augmentations/val/images/WhatsApp-Image-2023-04-13-at-1-56-02-PM-1-_jpeg.rf.20ebc2c50c537ede3bf23adacd65e2f2rutruplffo.jpg  \n",
            "  inflating: /content/Augmentations/val/images/WhatsApp-Image-2023-04-13-at-1-56-02-PM-1-_jpeg.rf.20ebc2c50c537ede3bf23adacd65e2f2rutruplffoaug.jpg  \n",
            "  inflating: /content/Augmentations/val/images/WhatsApp-Image-2023-04-13-at-1-56-02-PM_jpeg.rf.301c69ccc3fa21d1982942c40b54c0d1rutruplffo.jpg  \n",
            "  inflating: /content/Augmentations/val/images/WhatsApp-Image-2023-04-13-at-1-56-02-PM_jpeg.rf.301c69ccc3fa21d1982942c40b54c0d1rutruplffoaug.jpg  \n",
            "  inflating: /content/Augmentations/val/images/WhatsApp-Image-2023-04-13-at-1-56-06-PM-1-_jpeg.rf.07c091bba0e91fbd4160cf58f06fa7c2ffo.jpg  \n",
            "  inflating: /content/Augmentations/val/images/WhatsApp-Image-2023-04-13-at-1-56-06-PM-1-_jpeg.rf.07c091bba0e91fbd4160cf58f06fa7c2ffoaug.jpg  \n",
            "  inflating: /content/Augmentations/val/images/WhatsApp-Image-2023-04-13-at-1-56-06-PM-1-_jpeg.rf.07c091bba0e91fbd4160cf58f06fa7c2rutrffo.jpg  \n",
            "  inflating: /content/Augmentations/val/images/WhatsApp-Image-2023-04-13-at-1-56-06-PM-1-_jpeg.rf.07c091bba0e91fbd4160cf58f06fa7c2rutrffoaug.jpg  \n",
            "  inflating: /content/Augmentations/val/images/WhatsApp-Image-2023-04-13-at-1-56-07-PM_jpeg.rf.3e16c5e58ca31a56784eac1bf3c62003rutruplffo.jpg  \n",
            "  inflating: /content/Augmentations/val/images/WhatsApp-Image-2023-04-13-at-1-56-07-PM_jpeg.rf.3e16c5e58ca31a56784eac1bf3c62003rutruplffoaug.jpg  \n",
            "  inflating: /content/Augmentations/val/images/WhatsApp-Image-2023-04-13-at-1-56-08-PM-1-_jpeg.rf.0fff44cc20df084757e5c698758accc5ffo.jpg  \n",
            "  inflating: /content/Augmentations/val/images/WhatsApp-Image-2023-04-13-at-1-56-08-PM-1-_jpeg.rf.0fff44cc20df084757e5c698758accc5ffoaug.jpg  \n",
            "  inflating: /content/Augmentations/val/images/WhatsApp-Image-2023-04-13-at-1-56-08-PM-2-_jpeg.rf.fc29231bd9d95b9d5dcaf20de8870640ffo.jpg  \n",
            "  inflating: /content/Augmentations/val/images/WhatsApp-Image-2023-04-13-at-1-56-08-PM-2-_jpeg.rf.fc29231bd9d95b9d5dcaf20de8870640ffoaug.jpg  \n",
            "  inflating: /content/Augmentations/val/images/WhatsApp-Image-2023-04-13-at-1-56-08-PM-2-_jpeg.rf.fc29231bd9d95b9d5dcaf20de8870640rutrffo.jpg  \n",
            "  inflating: /content/Augmentations/val/images/WhatsApp-Image-2023-04-13-at-1-56-08-PM-2-_jpeg.rf.fc29231bd9d95b9d5dcaf20de8870640rutrffoaug.jpg  \n",
            "  inflating: /content/Augmentations/val/images/WhatsApp-Image-2023-04-13-at-1-56-08-PM_jpeg.rf.50b36ec74e93ae66c8f561a264e04935rutruplffo.jpg  \n",
            "  inflating: /content/Augmentations/val/images/WhatsApp-Image-2023-04-13-at-1-56-08-PM_jpeg.rf.50b36ec74e93ae66c8f561a264e04935rutruplffoaug.jpg  \n",
            "  inflating: /content/Augmentations/val/images/WhatsApp-Image-2023-04-13-at-1-56-09-PM_jpeg.rf.12d9c4592c1ee2c61b53b5b4ff12ae7brutruplffo.jpg  \n",
            "  inflating: /content/Augmentations/val/images/WhatsApp-Image-2023-04-13-at-1-56-09-PM_jpeg.rf.12d9c4592c1ee2c61b53b5b4ff12ae7brutruplffoaug.jpg  \n",
            "  inflating: /content/Augmentations/val/images/WhatsApp-Image-2023-04-13-at-1-56-10-PM-1-_jpeg.rf.2f263eba803784aeb2635e296e1a3192ffo.jpg  \n",
            "  inflating: /content/Augmentations/val/images/WhatsApp-Image-2023-04-13-at-1-56-10-PM-1-_jpeg.rf.2f263eba803784aeb2635e296e1a3192ffoaug.jpg  \n",
            "  inflating: /content/Augmentations/val/images/WhatsApp-Image-2023-04-13-at-1-56-10-PM-1-_jpeg.rf.2f263eba803784aeb2635e296e1a3192imrffo.jpg  \n",
            "  inflating: /content/Augmentations/val/images/WhatsApp-Image-2023-04-13-at-1-56-10-PM-1-_jpeg.rf.2f263eba803784aeb2635e296e1a3192imrffoaug.jpg  \n",
            "  inflating: /content/Augmentations/val/images/WhatsApp-Image-2023-04-13-at-1-56-10-PM_jpeg.rf.7979bb18508abe5b2ee0f6fa9485eb46rutruplffo.jpg  \n",
            "  inflating: /content/Augmentations/val/images/WhatsApp-Image-2023-04-13-at-1-56-10-PM_jpeg.rf.7979bb18508abe5b2ee0f6fa9485eb46rutruplffoaug.jpg  \n",
            "  inflating: /content/Augmentations/val/images/WhatsApp-Image-2023-04-13-at-1-56-13-PM-1-_jpeg.rf.41a637a445248e275d1319f082aab5acffo.jpg  \n",
            "  inflating: /content/Augmentations/val/images/WhatsApp-Image-2023-04-13-at-1-56-13-PM-1-_jpeg.rf.41a637a445248e275d1319f082aab5acffoaug.jpg  \n",
            "  inflating: /content/Augmentations/val/images/WhatsApp-Image-2023-04-13-at-1-56-13-PM-1-_jpeg.rf.41a637a445248e275d1319f082aab5acrutrffo.jpg  \n",
            "  inflating: /content/Augmentations/val/images/WhatsApp-Image-2023-04-13-at-1-56-13-PM-1-_jpeg.rf.41a637a445248e275d1319f082aab5acrutrffoaug.jpg  \n",
            "  inflating: /content/Augmentations/val/images/WhatsApp-Image-2023-04-13-at-1-56-13-PM_jpeg.rf.306545ed96bfb4963bf935113dffc5daffo.jpg  \n",
            "  inflating: /content/Augmentations/val/images/WhatsApp-Image-2023-04-13-at-1-56-13-PM_jpeg.rf.306545ed96bfb4963bf935113dffc5daffoaug.jpg  \n",
            "  inflating: /content/Augmentations/val/images/WhatsApp-Image-2023-04-13-at-1-56-13-PM_jpeg.rf.306545ed96bfb4963bf935113dffc5daimrffo.jpg  \n",
            "  inflating: /content/Augmentations/val/images/WhatsApp-Image-2023-04-13-at-1-56-13-PM_jpeg.rf.306545ed96bfb4963bf935113dffc5daimrffoaug.jpg  \n",
            "  inflating: /content/Augmentations/val/images/WhatsApp-Image-2023-04-15-at-10-41-37-AM_jpeg.rf.4755b9ab435617966aecc20709aaac3bimrffo.jpg  \n",
            "  inflating: /content/Augmentations/val/images/WhatsApp-Image-2023-04-15-at-10-41-37-AM_jpeg.rf.4755b9ab435617966aecc20709aaac3bimrffoaug.jpg  \n",
            "  inflating: /content/Augmentations/val/images/WhatsApp-Image-2023-04-15-at-10-41-43-AM_jpeg.rf.28d6bd3114c98dd17dc1cecfb6c3c383ffo.jpg  \n",
            "  inflating: /content/Augmentations/val/images/WhatsApp-Image-2023-04-15-at-10-41-43-AM_jpeg.rf.28d6bd3114c98dd17dc1cecfb6c3c383ffoaug.jpg  \n",
            "  inflating: /content/Augmentations/val/images/WhatsApp-Image-2023-04-15-at-10-41-43-AM_jpeg.rf.28d6bd3114c98dd17dc1cecfb6c3c383rutrffo.jpg  \n",
            "  inflating: /content/Augmentations/val/images/WhatsApp-Image-2023-04-15-at-10-41-43-AM_jpeg.rf.28d6bd3114c98dd17dc1cecfb6c3c383rutrffoaug.jpg  \n",
            "  inflating: /content/Augmentations/val/images/WhatsApp-Image-2023-04-15-at-10-41-44-AM_jpeg.rf.5d225659b54efe84c733de634fa7db7epraxffo.jpg  \n",
            "  inflating: /content/Augmentations/val/images/WhatsApp-Image-2023-04-15-at-10-41-44-AM_jpeg.rf.5d225659b54efe84c733de634fa7db7epraxffoaug.jpg  \n",
            "  inflating: /content/Augmentations/val/images/WhatsApp-Image-2023-04-15-at-10-41-48-AM-1-_jpeg.rf.ac1369ea390a82304df57cc14477feb6imrffo.jpg  \n",
            "  inflating: /content/Augmentations/val/images/WhatsApp-Image-2023-04-15-at-10-41-48-AM-1-_jpeg.rf.ac1369ea390a82304df57cc14477feb6imrffoaug.jpg  \n",
            "  inflating: /content/Augmentations/val/images/WhatsApp-Image-2023-04-15-at-10-41-48-AM-1-_jpeg.rf.ac1369ea390a82304df57cc14477feb6rutrffo.jpg  \n",
            "  inflating: /content/Augmentations/val/images/WhatsApp-Image-2023-04-15-at-10-41-48-AM-1-_jpeg.rf.ac1369ea390a82304df57cc14477feb6rutrffoaug.jpg  \n",
            "  inflating: /content/Augmentations/val/images/WhatsApp-Image-2023-04-15-at-10-41-48-AM_jpeg.rf.b55aafc75f6f7eb763ba9af72d58d3ceffo.jpg  \n",
            "  inflating: /content/Augmentations/val/images/WhatsApp-Image-2023-04-15-at-10-41-48-AM_jpeg.rf.b55aafc75f6f7eb763ba9af72d58d3ceffoaug.jpg  \n",
            "  inflating: /content/Augmentations/val/images/WhatsApp-Image-2023-04-15-at-10-41-48-AM_jpeg.rf.b55aafc75f6f7eb763ba9af72d58d3cerutrffo.jpg  \n",
            "  inflating: /content/Augmentations/val/images/WhatsApp-Image-2023-04-15-at-10-41-48-AM_jpeg.rf.b55aafc75f6f7eb763ba9af72d58d3cerutrffoaug.jpg  \n",
            "  inflating: /content/Augmentations/val/images/WhatsApp-Image-2023-04-15-at-10-41-49-AM_jpeg.rf.d0f26acc5b2f15a14c2cf518c42a27c6ffo.jpg  \n",
            "  inflating: /content/Augmentations/val/images/WhatsApp-Image-2023-04-15-at-10-41-49-AM_jpeg.rf.d0f26acc5b2f15a14c2cf518c42a27c6ffoaug.jpg  \n",
            "  inflating: /content/Augmentations/val/images/WhatsApp-Image-2023-04-15-at-10-41-49-AM_jpeg.rf.d0f26acc5b2f15a14c2cf518c42a27c6rutrffo.jpg  \n",
            "  inflating: /content/Augmentations/val/images/WhatsApp-Image-2023-04-15-at-10-41-49-AM_jpeg.rf.d0f26acc5b2f15a14c2cf518c42a27c6rutrffoaug.jpg  \n",
            "  inflating: /content/Augmentations/val/images/WhatsApp-Image-2023-04-15-at-10-41-53-AM_jpeg.rf.01332ea70678d832fd117ea0188e3d26ffo.jpg  \n",
            "  inflating: /content/Augmentations/val/images/WhatsApp-Image-2023-04-15-at-10-41-53-AM_jpeg.rf.01332ea70678d832fd117ea0188e3d26ffoaug.jpg  \n",
            "  inflating: /content/Augmentations/val/images/WhatsApp-Image-2023-04-15-at-10-41-53-AM_jpeg.rf.01332ea70678d832fd117ea0188e3d26rutrffo.jpg  \n",
            "  inflating: /content/Augmentations/val/images/WhatsApp-Image-2023-04-15-at-10-41-53-AM_jpeg.rf.01332ea70678d832fd117ea0188e3d26rutrffoaug.jpg  \n",
            "  inflating: /content/Augmentations/val/images/WhatsApp-Image-2023-04-15-at-10-41-58-AM_jpeg.rf.8e87eb7fa30ad42ed6988d820d8c9ce3imrffo.jpg  \n",
            "  inflating: /content/Augmentations/val/images/WhatsApp-Image-2023-04-15-at-10-41-58-AM_jpeg.rf.8e87eb7fa30ad42ed6988d820d8c9ce3imrffoaug.jpg  \n",
            "  inflating: /content/Augmentations/val/images/WhatsApp-Image-2023-04-15-at-10-41-58-AM_jpeg.rf.8e87eb7fa30ad42ed6988d820d8c9ce3rutrffo.jpg  \n",
            "  inflating: /content/Augmentations/val/images/WhatsApp-Image-2023-04-15-at-10-41-58-AM_jpeg.rf.8e87eb7fa30ad42ed6988d820d8c9ce3rutrffoaug.jpg  \n",
            "  inflating: /content/Augmentations/val/images/WhatsApp-Image-2023-04-15-at-10-42-05-AM_jpeg.rf.e9a2c6a6d8efab217eca5a3543c2f814imrffo.jpg  \n",
            "  inflating: /content/Augmentations/val/images/WhatsApp-Image-2023-04-15-at-10-42-05-AM_jpeg.rf.e9a2c6a6d8efab217eca5a3543c2f814imrffoaug.jpg  \n",
            "  inflating: /content/Augmentations/val/images/WhatsApp-Image-2023-04-15-at-10-42-05-AM_jpeg.rf.e9a2c6a6d8efab217eca5a3543c2f814rutrffo.jpg  \n",
            "  inflating: /content/Augmentations/val/images/WhatsApp-Image-2023-04-15-at-10-42-05-AM_jpeg.rf.e9a2c6a6d8efab217eca5a3543c2f814rutrffoaug.jpg  \n",
            "  inflating: /content/Augmentations/val/images/WhatsApp-Image-2023-04-15-at-10-42-10-AM_jpeg.rf.99fd640bf089c6f8ab99ae450efa7292imrffo.jpg  \n",
            "  inflating: /content/Augmentations/val/images/WhatsApp-Image-2023-04-15-at-10-42-10-AM_jpeg.rf.99fd640bf089c6f8ab99ae450efa7292imrffoaug.jpg  \n",
            "  inflating: /content/Augmentations/val/images/WhatsApp-Image-2023-04-15-at-10-42-10-AM_jpeg.rf.99fd640bf089c6f8ab99ae450efa7292rutrffo.jpg  \n",
            "  inflating: /content/Augmentations/val/images/WhatsApp-Image-2023-04-15-at-10-42-10-AM_jpeg.rf.99fd640bf089c6f8ab99ae450efa7292rutrffoaug.jpg  \n",
            "  inflating: /content/Augmentations/val/images/WhatsApp-Image-2023-04-15-at-10-42-13-AM_jpeg.rf.63d975d157368ff0d04d4e1d2c7545b9imrffo.jpg  \n",
            "  inflating: /content/Augmentations/val/images/WhatsApp-Image-2023-04-15-at-10-42-13-AM_jpeg.rf.63d975d157368ff0d04d4e1d2c7545b9imrffoaug.jpg  \n",
            "  inflating: /content/Augmentations/val/images/WhatsApp-Image-2023-04-15-at-10-42-13-AM_jpeg.rf.63d975d157368ff0d04d4e1d2c7545b9rutrffo.jpg  \n",
            "  inflating: /content/Augmentations/val/images/WhatsApp-Image-2023-04-15-at-10-42-13-AM_jpeg.rf.63d975d157368ff0d04d4e1d2c7545b9rutrffoaug.jpg  \n",
            "  inflating: /content/Augmentations/val/images/WhatsApp-Image-2023-04-15-at-10-42-17-AM_jpeg.rf.bf2ad47ad2c1e2a1d848acca4bdc983cimrffo.jpg  \n",
            "  inflating: /content/Augmentations/val/images/WhatsApp-Image-2023-04-15-at-10-42-17-AM_jpeg.rf.bf2ad47ad2c1e2a1d848acca4bdc983cimrffoaug.jpg  \n",
            "  inflating: /content/Augmentations/val/images/WhatsApp-Image-2023-04-15-at-10-42-17-AM_jpeg.rf.bf2ad47ad2c1e2a1d848acca4bdc983crutrffo.jpg  \n",
            "  inflating: /content/Augmentations/val/images/WhatsApp-Image-2023-04-15-at-10-42-17-AM_jpeg.rf.bf2ad47ad2c1e2a1d848acca4bdc983crutrffoaug.jpg  \n",
            "  inflating: /content/Augmentations/val/images/WhatsApp-Image-2023-04-15-at-10-42-18-AM_jpeg.rf.886fbd31a5cc5d97602fc5c2196199e9ffo.jpg  \n",
            "  inflating: /content/Augmentations/val/images/WhatsApp-Image-2023-04-15-at-10-42-18-AM_jpeg.rf.886fbd31a5cc5d97602fc5c2196199e9ffoaug.jpg  \n",
            "  inflating: /content/Augmentations/val/images/WhatsApp-Image-2023-04-15-at-10-42-18-AM_jpeg.rf.886fbd31a5cc5d97602fc5c2196199e9rutrffo.jpg  \n",
            "  inflating: /content/Augmentations/val/images/WhatsApp-Image-2023-04-15-at-10-42-18-AM_jpeg.rf.886fbd31a5cc5d97602fc5c2196199e9rutrffoaug.jpg  \n",
            "  inflating: /content/Augmentations/val/images/WhatsApp-Image-2023-04-16-at-8-25-28-PM-1-_jpeg.rf.4afac90ab61deb4cb299dee17203cda9imrffo.jpg  \n",
            "  inflating: /content/Augmentations/val/images/WhatsApp-Image-2023-04-16-at-8-25-28-PM-1-_jpeg.rf.4afac90ab61deb4cb299dee17203cda9imrffoaug.jpg  \n",
            "  inflating: /content/Augmentations/val/images/WhatsApp-Image-2023-04-16-at-8-25-28-PM-1-_jpeg.rf.4afac90ab61deb4cb299dee17203cda9rutrffo.jpg  \n",
            "  inflating: /content/Augmentations/val/images/WhatsApp-Image-2023-04-16-at-8-25-28-PM-1-_jpeg.rf.4afac90ab61deb4cb299dee17203cda9rutrffoaug.jpg  \n",
            "  inflating: /content/Augmentations/val/images/WhatsApp-Image-2023-04-16-at-8-25-29-PM-1-_jpeg.rf.2734ede3022c5cc42df5db6a70affbccimrffo.jpg  \n",
            "  inflating: /content/Augmentations/val/images/WhatsApp-Image-2023-04-16-at-8-25-29-PM-1-_jpeg.rf.2734ede3022c5cc42df5db6a70affbccimrffoaug.jpg  \n",
            "  inflating: /content/Augmentations/val/images/WhatsApp-Image-2023-04-16-at-8-25-29-PM-1-_jpeg.rf.2734ede3022c5cc42df5db6a70affbccrutrffo.jpg  \n",
            "  inflating: /content/Augmentations/val/images/WhatsApp-Image-2023-04-16-at-8-25-29-PM-1-_jpeg.rf.2734ede3022c5cc42df5db6a70affbccrutrffoaug.jpg  \n",
            "  inflating: /content/Augmentations/val/images/WhatsApp-Image-2023-04-16-at-8-25-29-PM-2-_jpeg.rf.dcd57d6e503f96a5d11183ca6f699482imrffo.jpg  \n",
            "  inflating: /content/Augmentations/val/images/WhatsApp-Image-2023-04-16-at-8-25-29-PM-2-_jpeg.rf.dcd57d6e503f96a5d11183ca6f699482imrffoaug.jpg  \n",
            "  inflating: /content/Augmentations/val/images/WhatsApp-Image-2023-04-16-at-8-25-29-PM-2-_jpeg.rf.dcd57d6e503f96a5d11183ca6f699482rutrffo.jpg  \n",
            "  inflating: /content/Augmentations/val/images/WhatsApp-Image-2023-04-16-at-8-25-29-PM-2-_jpeg.rf.dcd57d6e503f96a5d11183ca6f699482rutrffoaug.jpg  \n",
            "  inflating: /content/Augmentations/val/images/WhatsApp-Image-2023-04-16-at-8-25-29-PM_jpeg.rf.aa4c7b8fe6167381837850dfb34dbc37imrffo.jpg  \n",
            "  inflating: /content/Augmentations/val/images/WhatsApp-Image-2023-04-16-at-8-25-29-PM_jpeg.rf.aa4c7b8fe6167381837850dfb34dbc37imrffoaug.jpg  \n",
            "  inflating: /content/Augmentations/val/images/WhatsApp-Image-2023-04-16-at-8-25-29-PM_jpeg.rf.aa4c7b8fe6167381837850dfb34dbc37rutrffo.jpg  \n",
            "  inflating: /content/Augmentations/val/images/WhatsApp-Image-2023-04-16-at-8-25-29-PM_jpeg.rf.aa4c7b8fe6167381837850dfb34dbc37rutrffoaug.jpg  \n",
            "  inflating: /content/Augmentations/val/images/WhatsApp-Image-2023-04-16-at-8-25-30-PM-2-_jpeg.rf.c0b7f663affc73f32b93b2aecbd3bef6rutrffo.jpg  \n",
            "  inflating: /content/Augmentations/val/images/WhatsApp-Image-2023-04-16-at-8-25-30-PM-2-_jpeg.rf.c0b7f663affc73f32b93b2aecbd3bef6rutrffoaug.jpg  \n",
            "  inflating: /content/Augmentations/val/images/WhatsApp-Image-2023-04-16-at-8-25-31-PM_jpeg.rf.13cc237bea349b133e9ee8af739e7872imrffo.jpg  \n",
            "  inflating: /content/Augmentations/val/images/WhatsApp-Image-2023-04-16-at-8-25-31-PM_jpeg.rf.13cc237bea349b133e9ee8af739e7872imrffoaug.jpg  \n",
            "  inflating: /content/Augmentations/val/images/WhatsApp-Image-2023-04-16-at-8-25-31-PM_jpeg.rf.13cc237bea349b133e9ee8af739e7872rutrffo.jpg  \n",
            "  inflating: /content/Augmentations/val/images/WhatsApp-Image-2023-04-16-at-8-25-31-PM_jpeg.rf.13cc237bea349b133e9ee8af739e7872rutrffoaug.jpg  \n",
            "   creating: /content/Augmentations/val/labels/\n",
            "  inflating: /content/Augmentations/val/labels/WhatsApp-Image-2023-04-12-at-12-48-13-AM_jpeg.rf.6dce3f16b0c39cd6c6538b56612aed42rutruplffo.txt  \n",
            "  inflating: /content/Augmentations/val/labels/WhatsApp-Image-2023-04-12-at-12-48-13-AM_jpeg.rf.6dce3f16b0c39cd6c6538b56612aed42rutruplffoaug.txt  \n",
            "  inflating: /content/Augmentations/val/labels/WhatsApp-Image-2023-04-12-at-12-48-13-AM_jpeg.rf.73cde42135bf15186a1287d4f5d5356brutruplffo.txt  \n",
            "  inflating: /content/Augmentations/val/labels/WhatsApp-Image-2023-04-12-at-12-48-13-AM_jpeg.rf.73cde42135bf15186a1287d4f5d5356brutruplffoaug.txt  \n",
            "  inflating: /content/Augmentations/val/labels/WhatsApp-Image-2023-04-12-at-12-48-14-AM-1-_jpeg.rf.3ad908b973d8800d48884989661ad1abffo.txt  \n",
            "  inflating: /content/Augmentations/val/labels/WhatsApp-Image-2023-04-12-at-12-48-14-AM-1-_jpeg.rf.3ad908b973d8800d48884989661ad1abffoaug.txt  \n",
            "  inflating: /content/Augmentations/val/labels/WhatsApp-Image-2023-04-12-at-12-48-14-AM-1-_jpeg.rf.3ad908b973d8800d48884989661ad1abrutrffo.txt  \n",
            "  inflating: /content/Augmentations/val/labels/WhatsApp-Image-2023-04-12-at-12-48-14-AM-1-_jpeg.rf.3ad908b973d8800d48884989661ad1abrutrffoaug.txt  \n",
            "  inflating: /content/Augmentations/val/labels/WhatsApp-Image-2023-04-12-at-12-48-14-AM_jpeg.rf.6763873def0f0b28873dd2af5b25200crutruplffo.txt  \n",
            "  inflating: /content/Augmentations/val/labels/WhatsApp-Image-2023-04-12-at-12-48-14-AM_jpeg.rf.6763873def0f0b28873dd2af5b25200crutruplffoaug.txt  \n",
            "  inflating: /content/Augmentations/val/labels/WhatsApp-Image-2023-04-12-at-12-48-15-AM-1-_jpeg.rf.b1dfdb654ef8434076689355c49a14f9rutruplffo.txt  \n",
            "  inflating: /content/Augmentations/val/labels/WhatsApp-Image-2023-04-12-at-12-48-15-AM-1-_jpeg.rf.b1dfdb654ef8434076689355c49a14f9rutruplffoaug.txt  \n",
            "  inflating: /content/Augmentations/val/labels/WhatsApp-Image-2023-04-12-at-12-48-15-AM-1-_jpeg.rf.d3c911135d38e205c28163aa05409116rutruplffo.txt  \n",
            "  inflating: /content/Augmentations/val/labels/WhatsApp-Image-2023-04-12-at-12-48-15-AM-1-_jpeg.rf.d3c911135d38e205c28163aa05409116rutruplffoaug.txt  \n",
            "  inflating: /content/Augmentations/val/labels/WhatsApp-Image-2023-04-12-at-12-48-15-AM_jpeg.rf.109caaacefd5b9dccca681f60a58d4cerutruplffo.txt  \n",
            "  inflating: /content/Augmentations/val/labels/WhatsApp-Image-2023-04-12-at-12-48-15-AM_jpeg.rf.109caaacefd5b9dccca681f60a58d4cerutruplffoaug.txt  \n",
            "  inflating: /content/Augmentations/val/labels/WhatsApp-Image-2023-04-12-at-12-48-15-AM_jpeg.rf.806ace38ac841fa7a765496fc96e46bcrutruplffo.txt  \n",
            "  inflating: /content/Augmentations/val/labels/WhatsApp-Image-2023-04-12-at-12-48-15-AM_jpeg.rf.806ace38ac841fa7a765496fc96e46bcrutruplffoaug.txt  \n",
            "  inflating: /content/Augmentations/val/labels/WhatsApp-Image-2023-04-12-at-12-48-16-AM_jpeg.rf.5b0e3e13516ee1511945c100dc6993d1rutruplffo.txt  \n",
            "  inflating: /content/Augmentations/val/labels/WhatsApp-Image-2023-04-12-at-12-48-16-AM_jpeg.rf.5b0e3e13516ee1511945c100dc6993d1rutruplffoaug.txt  \n",
            "  inflating: /content/Augmentations/val/labels/WhatsApp-Image-2023-04-12-at-12-48-17-AM-1-_jpeg.rf.c0c2889e0ffa1d64dffd4c77a77a032crutruplffo.txt  \n",
            "  inflating: /content/Augmentations/val/labels/WhatsApp-Image-2023-04-12-at-12-48-17-AM-1-_jpeg.rf.c0c2889e0ffa1d64dffd4c77a77a032crutruplffoaug.txt  \n",
            "  inflating: /content/Augmentations/val/labels/WhatsApp-Image-2023-04-12-at-12-48-17-AM-1-_jpeg.rf.e05173662f2d83e95db1fc44785206c0rutruplffo.txt  \n",
            "  inflating: /content/Augmentations/val/labels/WhatsApp-Image-2023-04-12-at-12-48-17-AM-1-_jpeg.rf.e05173662f2d83e95db1fc44785206c0rutruplffoaug.txt  \n",
            "  inflating: /content/Augmentations/val/labels/WhatsApp-Image-2023-04-12-at-12-48-17-AM_jpeg.rf.816c6cec1b2787e024b79f5cb959bd7arutruplffo.txt  \n",
            "  inflating: /content/Augmentations/val/labels/WhatsApp-Image-2023-04-12-at-12-48-17-AM_jpeg.rf.816c6cec1b2787e024b79f5cb959bd7arutruplffoaug.txt  \n",
            "  inflating: /content/Augmentations/val/labels/WhatsApp-Image-2023-04-12-at-12-48-20-AM-1-_jpeg.rf.d5a3915b140d7648a451980208147fc1rutruplffo.txt  \n",
            "  inflating: /content/Augmentations/val/labels/WhatsApp-Image-2023-04-12-at-12-48-20-AM-1-_jpeg.rf.d5a3915b140d7648a451980208147fc1rutruplffoaug.txt  \n",
            "  inflating: /content/Augmentations/val/labels/WhatsApp-Image-2023-04-12-at-12-48-20-AM_jpeg.rf.ef302f1296ceb00bcf0b3b0072bbef22rutruplffo.txt  \n",
            "  inflating: /content/Augmentations/val/labels/WhatsApp-Image-2023-04-12-at-12-48-20-AM_jpeg.rf.ef302f1296ceb00bcf0b3b0072bbef22rutruplffoaug.txt  \n",
            "  inflating: /content/Augmentations/val/labels/WhatsApp-Image-2023-04-13-at-1-56-02-PM-1-_jpeg.rf.12282de08ab2f7b225cfa26346cc2b7arutruplffo.txt  \n",
            "  inflating: /content/Augmentations/val/labels/WhatsApp-Image-2023-04-13-at-1-56-02-PM-1-_jpeg.rf.12282de08ab2f7b225cfa26346cc2b7arutruplffoaug.txt  \n",
            "  inflating: /content/Augmentations/val/labels/WhatsApp-Image-2023-04-13-at-1-56-02-PM-1-_jpeg.rf.20ebc2c50c537ede3bf23adacd65e2f2rutruplffo.txt  \n",
            "  inflating: /content/Augmentations/val/labels/WhatsApp-Image-2023-04-13-at-1-56-02-PM-1-_jpeg.rf.20ebc2c50c537ede3bf23adacd65e2f2rutruplffoaug.txt  \n",
            "  inflating: /content/Augmentations/val/labels/WhatsApp-Image-2023-04-13-at-1-56-02-PM_jpeg.rf.301c69ccc3fa21d1982942c40b54c0d1rutruplffo.txt  \n",
            "  inflating: /content/Augmentations/val/labels/WhatsApp-Image-2023-04-13-at-1-56-02-PM_jpeg.rf.301c69ccc3fa21d1982942c40b54c0d1rutruplffoaug.txt  \n",
            "  inflating: /content/Augmentations/val/labels/WhatsApp-Image-2023-04-13-at-1-56-06-PM-1-_jpeg.rf.07c091bba0e91fbd4160cf58f06fa7c2ffo.txt  \n",
            "  inflating: /content/Augmentations/val/labels/WhatsApp-Image-2023-04-13-at-1-56-06-PM-1-_jpeg.rf.07c091bba0e91fbd4160cf58f06fa7c2ffoaug.txt  \n",
            "  inflating: /content/Augmentations/val/labels/WhatsApp-Image-2023-04-13-at-1-56-06-PM-1-_jpeg.rf.07c091bba0e91fbd4160cf58f06fa7c2rutrffo.txt  \n",
            "  inflating: /content/Augmentations/val/labels/WhatsApp-Image-2023-04-13-at-1-56-06-PM-1-_jpeg.rf.07c091bba0e91fbd4160cf58f06fa7c2rutrffoaug.txt  \n",
            "  inflating: /content/Augmentations/val/labels/WhatsApp-Image-2023-04-13-at-1-56-07-PM_jpeg.rf.3e16c5e58ca31a56784eac1bf3c62003rutruplffo.txt  \n",
            "  inflating: /content/Augmentations/val/labels/WhatsApp-Image-2023-04-13-at-1-56-07-PM_jpeg.rf.3e16c5e58ca31a56784eac1bf3c62003rutruplffoaug.txt  \n",
            "  inflating: /content/Augmentations/val/labels/WhatsApp-Image-2023-04-13-at-1-56-08-PM-1-_jpeg.rf.0fff44cc20df084757e5c698758accc5ffo.txt  \n",
            "  inflating: /content/Augmentations/val/labels/WhatsApp-Image-2023-04-13-at-1-56-08-PM-1-_jpeg.rf.0fff44cc20df084757e5c698758accc5ffoaug.txt  \n",
            "  inflating: /content/Augmentations/val/labels/WhatsApp-Image-2023-04-13-at-1-56-08-PM-2-_jpeg.rf.fc29231bd9d95b9d5dcaf20de8870640ffo.txt  \n",
            "  inflating: /content/Augmentations/val/labels/WhatsApp-Image-2023-04-13-at-1-56-08-PM-2-_jpeg.rf.fc29231bd9d95b9d5dcaf20de8870640ffoaug.txt  \n",
            "  inflating: /content/Augmentations/val/labels/WhatsApp-Image-2023-04-13-at-1-56-08-PM-2-_jpeg.rf.fc29231bd9d95b9d5dcaf20de8870640rutrffo.txt  \n",
            "  inflating: /content/Augmentations/val/labels/WhatsApp-Image-2023-04-13-at-1-56-08-PM-2-_jpeg.rf.fc29231bd9d95b9d5dcaf20de8870640rutrffoaug.txt  \n",
            "  inflating: /content/Augmentations/val/labels/WhatsApp-Image-2023-04-13-at-1-56-08-PM_jpeg.rf.50b36ec74e93ae66c8f561a264e04935rutruplffo.txt  \n",
            "  inflating: /content/Augmentations/val/labels/WhatsApp-Image-2023-04-13-at-1-56-08-PM_jpeg.rf.50b36ec74e93ae66c8f561a264e04935rutruplffoaug.txt  \n",
            "  inflating: /content/Augmentations/val/labels/WhatsApp-Image-2023-04-13-at-1-56-09-PM_jpeg.rf.12d9c4592c1ee2c61b53b5b4ff12ae7brutruplffo.txt  \n",
            "  inflating: /content/Augmentations/val/labels/WhatsApp-Image-2023-04-13-at-1-56-09-PM_jpeg.rf.12d9c4592c1ee2c61b53b5b4ff12ae7brutruplffoaug.txt  \n",
            "  inflating: /content/Augmentations/val/labels/WhatsApp-Image-2023-04-13-at-1-56-10-PM-1-_jpeg.rf.2f263eba803784aeb2635e296e1a3192ffo.txt  \n",
            "  inflating: /content/Augmentations/val/labels/WhatsApp-Image-2023-04-13-at-1-56-10-PM-1-_jpeg.rf.2f263eba803784aeb2635e296e1a3192ffoaug.txt  \n",
            "  inflating: /content/Augmentations/val/labels/WhatsApp-Image-2023-04-13-at-1-56-10-PM-1-_jpeg.rf.2f263eba803784aeb2635e296e1a3192imrffo.txt  \n",
            "  inflating: /content/Augmentations/val/labels/WhatsApp-Image-2023-04-13-at-1-56-10-PM-1-_jpeg.rf.2f263eba803784aeb2635e296e1a3192imrffoaug.txt  \n",
            "  inflating: /content/Augmentations/val/labels/WhatsApp-Image-2023-04-13-at-1-56-10-PM_jpeg.rf.7979bb18508abe5b2ee0f6fa9485eb46rutruplffo.txt  \n",
            "  inflating: /content/Augmentations/val/labels/WhatsApp-Image-2023-04-13-at-1-56-10-PM_jpeg.rf.7979bb18508abe5b2ee0f6fa9485eb46rutruplffoaug.txt  \n",
            "  inflating: /content/Augmentations/val/labels/WhatsApp-Image-2023-04-13-at-1-56-13-PM-1-_jpeg.rf.41a637a445248e275d1319f082aab5acffo.txt  \n",
            "  inflating: /content/Augmentations/val/labels/WhatsApp-Image-2023-04-13-at-1-56-13-PM-1-_jpeg.rf.41a637a445248e275d1319f082aab5acffoaug.txt  \n",
            "  inflating: /content/Augmentations/val/labels/WhatsApp-Image-2023-04-13-at-1-56-13-PM-1-_jpeg.rf.41a637a445248e275d1319f082aab5acrutrffo.txt  \n",
            "  inflating: /content/Augmentations/val/labels/WhatsApp-Image-2023-04-13-at-1-56-13-PM-1-_jpeg.rf.41a637a445248e275d1319f082aab5acrutrffoaug.txt  \n",
            "  inflating: /content/Augmentations/val/labels/WhatsApp-Image-2023-04-13-at-1-56-13-PM_jpeg.rf.306545ed96bfb4963bf935113dffc5daffo.txt  \n",
            "  inflating: /content/Augmentations/val/labels/WhatsApp-Image-2023-04-13-at-1-56-13-PM_jpeg.rf.306545ed96bfb4963bf935113dffc5daffoaug.txt  \n",
            "  inflating: /content/Augmentations/val/labels/WhatsApp-Image-2023-04-13-at-1-56-13-PM_jpeg.rf.306545ed96bfb4963bf935113dffc5daimrffo.txt  \n",
            "  inflating: /content/Augmentations/val/labels/WhatsApp-Image-2023-04-13-at-1-56-13-PM_jpeg.rf.306545ed96bfb4963bf935113dffc5daimrffoaug.txt  \n",
            "  inflating: /content/Augmentations/val/labels/WhatsApp-Image-2023-04-15-at-10-41-37-AM_jpeg.rf.4755b9ab435617966aecc20709aaac3bimrffo.txt  \n",
            "  inflating: /content/Augmentations/val/labels/WhatsApp-Image-2023-04-15-at-10-41-37-AM_jpeg.rf.4755b9ab435617966aecc20709aaac3bimrffoaug.txt  \n",
            "  inflating: /content/Augmentations/val/labels/WhatsApp-Image-2023-04-15-at-10-41-43-AM_jpeg.rf.28d6bd3114c98dd17dc1cecfb6c3c383ffo.txt  \n",
            "  inflating: /content/Augmentations/val/labels/WhatsApp-Image-2023-04-15-at-10-41-43-AM_jpeg.rf.28d6bd3114c98dd17dc1cecfb6c3c383ffoaug.txt  \n",
            "  inflating: /content/Augmentations/val/labels/WhatsApp-Image-2023-04-15-at-10-41-43-AM_jpeg.rf.28d6bd3114c98dd17dc1cecfb6c3c383rutrffo.txt  \n",
            "  inflating: /content/Augmentations/val/labels/WhatsApp-Image-2023-04-15-at-10-41-43-AM_jpeg.rf.28d6bd3114c98dd17dc1cecfb6c3c383rutrffoaug.txt  \n",
            "  inflating: /content/Augmentations/val/labels/WhatsApp-Image-2023-04-15-at-10-41-44-AM_jpeg.rf.5d225659b54efe84c733de634fa7db7epraxffo.txt  \n",
            "  inflating: /content/Augmentations/val/labels/WhatsApp-Image-2023-04-15-at-10-41-44-AM_jpeg.rf.5d225659b54efe84c733de634fa7db7epraxffoaug.txt  \n",
            "  inflating: /content/Augmentations/val/labels/WhatsApp-Image-2023-04-15-at-10-41-48-AM-1-_jpeg.rf.ac1369ea390a82304df57cc14477feb6imrffo.txt  \n",
            "  inflating: /content/Augmentations/val/labels/WhatsApp-Image-2023-04-15-at-10-41-48-AM-1-_jpeg.rf.ac1369ea390a82304df57cc14477feb6imrffoaug.txt  \n",
            "  inflating: /content/Augmentations/val/labels/WhatsApp-Image-2023-04-15-at-10-41-48-AM-1-_jpeg.rf.ac1369ea390a82304df57cc14477feb6rutrffo.txt  \n",
            "  inflating: /content/Augmentations/val/labels/WhatsApp-Image-2023-04-15-at-10-41-48-AM-1-_jpeg.rf.ac1369ea390a82304df57cc14477feb6rutrffoaug.txt  \n",
            "  inflating: /content/Augmentations/val/labels/WhatsApp-Image-2023-04-15-at-10-41-48-AM_jpeg.rf.b55aafc75f6f7eb763ba9af72d58d3ceffo.txt  \n",
            "  inflating: /content/Augmentations/val/labels/WhatsApp-Image-2023-04-15-at-10-41-48-AM_jpeg.rf.b55aafc75f6f7eb763ba9af72d58d3ceffoaug.txt  \n",
            "  inflating: /content/Augmentations/val/labels/WhatsApp-Image-2023-04-15-at-10-41-48-AM_jpeg.rf.b55aafc75f6f7eb763ba9af72d58d3cerutrffo.txt  \n",
            "  inflating: /content/Augmentations/val/labels/WhatsApp-Image-2023-04-15-at-10-41-48-AM_jpeg.rf.b55aafc75f6f7eb763ba9af72d58d3cerutrffoaug.txt  \n",
            "  inflating: /content/Augmentations/val/labels/WhatsApp-Image-2023-04-15-at-10-41-49-AM_jpeg.rf.d0f26acc5b2f15a14c2cf518c42a27c6ffo.txt  \n",
            "  inflating: /content/Augmentations/val/labels/WhatsApp-Image-2023-04-15-at-10-41-49-AM_jpeg.rf.d0f26acc5b2f15a14c2cf518c42a27c6ffoaug.txt  \n",
            "  inflating: /content/Augmentations/val/labels/WhatsApp-Image-2023-04-15-at-10-41-49-AM_jpeg.rf.d0f26acc5b2f15a14c2cf518c42a27c6rutrffo.txt  \n",
            "  inflating: /content/Augmentations/val/labels/WhatsApp-Image-2023-04-15-at-10-41-49-AM_jpeg.rf.d0f26acc5b2f15a14c2cf518c42a27c6rutrffoaug.txt  \n",
            "  inflating: /content/Augmentations/val/labels/WhatsApp-Image-2023-04-15-at-10-41-53-AM_jpeg.rf.01332ea70678d832fd117ea0188e3d26ffo.txt  \n",
            "  inflating: /content/Augmentations/val/labels/WhatsApp-Image-2023-04-15-at-10-41-53-AM_jpeg.rf.01332ea70678d832fd117ea0188e3d26ffoaug.txt  \n",
            "  inflating: /content/Augmentations/val/labels/WhatsApp-Image-2023-04-15-at-10-41-53-AM_jpeg.rf.01332ea70678d832fd117ea0188e3d26rutrffo.txt  \n",
            "  inflating: /content/Augmentations/val/labels/WhatsApp-Image-2023-04-15-at-10-41-53-AM_jpeg.rf.01332ea70678d832fd117ea0188e3d26rutrffoaug.txt  \n",
            "  inflating: /content/Augmentations/val/labels/WhatsApp-Image-2023-04-15-at-10-41-58-AM_jpeg.rf.8e87eb7fa30ad42ed6988d820d8c9ce3imrffo.txt  \n",
            "  inflating: /content/Augmentations/val/labels/WhatsApp-Image-2023-04-15-at-10-41-58-AM_jpeg.rf.8e87eb7fa30ad42ed6988d820d8c9ce3imrffoaug.txt  \n",
            "  inflating: /content/Augmentations/val/labels/WhatsApp-Image-2023-04-15-at-10-41-58-AM_jpeg.rf.8e87eb7fa30ad42ed6988d820d8c9ce3rutrffo.txt  \n",
            "  inflating: /content/Augmentations/val/labels/WhatsApp-Image-2023-04-15-at-10-41-58-AM_jpeg.rf.8e87eb7fa30ad42ed6988d820d8c9ce3rutrffoaug.txt  \n",
            "  inflating: /content/Augmentations/val/labels/WhatsApp-Image-2023-04-15-at-10-42-05-AM_jpeg.rf.e9a2c6a6d8efab217eca5a3543c2f814imrffo.txt  \n",
            "  inflating: /content/Augmentations/val/labels/WhatsApp-Image-2023-04-15-at-10-42-05-AM_jpeg.rf.e9a2c6a6d8efab217eca5a3543c2f814imrffoaug.txt  \n",
            "  inflating: /content/Augmentations/val/labels/WhatsApp-Image-2023-04-15-at-10-42-05-AM_jpeg.rf.e9a2c6a6d8efab217eca5a3543c2f814rutrffo.txt  \n",
            "  inflating: /content/Augmentations/val/labels/WhatsApp-Image-2023-04-15-at-10-42-05-AM_jpeg.rf.e9a2c6a6d8efab217eca5a3543c2f814rutrffoaug.txt  \n",
            "  inflating: /content/Augmentations/val/labels/WhatsApp-Image-2023-04-15-at-10-42-10-AM_jpeg.rf.99fd640bf089c6f8ab99ae450efa7292imrffo.txt  \n",
            "  inflating: /content/Augmentations/val/labels/WhatsApp-Image-2023-04-15-at-10-42-10-AM_jpeg.rf.99fd640bf089c6f8ab99ae450efa7292imrffoaug.txt  \n",
            "  inflating: /content/Augmentations/val/labels/WhatsApp-Image-2023-04-15-at-10-42-10-AM_jpeg.rf.99fd640bf089c6f8ab99ae450efa7292rutrffo.txt  \n",
            "  inflating: /content/Augmentations/val/labels/WhatsApp-Image-2023-04-15-at-10-42-10-AM_jpeg.rf.99fd640bf089c6f8ab99ae450efa7292rutrffoaug.txt  \n",
            "  inflating: /content/Augmentations/val/labels/WhatsApp-Image-2023-04-15-at-10-42-13-AM_jpeg.rf.63d975d157368ff0d04d4e1d2c7545b9imrffo.txt  \n",
            "  inflating: /content/Augmentations/val/labels/WhatsApp-Image-2023-04-15-at-10-42-13-AM_jpeg.rf.63d975d157368ff0d04d4e1d2c7545b9imrffoaug.txt  \n",
            "  inflating: /content/Augmentations/val/labels/WhatsApp-Image-2023-04-15-at-10-42-13-AM_jpeg.rf.63d975d157368ff0d04d4e1d2c7545b9rutrffo.txt  \n",
            "  inflating: /content/Augmentations/val/labels/WhatsApp-Image-2023-04-15-at-10-42-13-AM_jpeg.rf.63d975d157368ff0d04d4e1d2c7545b9rutrffoaug.txt  \n",
            "  inflating: /content/Augmentations/val/labels/WhatsApp-Image-2023-04-15-at-10-42-17-AM_jpeg.rf.bf2ad47ad2c1e2a1d848acca4bdc983cimrffo.txt  \n",
            "  inflating: /content/Augmentations/val/labels/WhatsApp-Image-2023-04-15-at-10-42-17-AM_jpeg.rf.bf2ad47ad2c1e2a1d848acca4bdc983cimrffoaug.txt  \n",
            "  inflating: /content/Augmentations/val/labels/WhatsApp-Image-2023-04-15-at-10-42-17-AM_jpeg.rf.bf2ad47ad2c1e2a1d848acca4bdc983crutrffo.txt  \n",
            "  inflating: /content/Augmentations/val/labels/WhatsApp-Image-2023-04-15-at-10-42-17-AM_jpeg.rf.bf2ad47ad2c1e2a1d848acca4bdc983crutrffoaug.txt  \n",
            "  inflating: /content/Augmentations/val/labels/WhatsApp-Image-2023-04-15-at-10-42-18-AM_jpeg.rf.886fbd31a5cc5d97602fc5c2196199e9ffo.txt  \n",
            "  inflating: /content/Augmentations/val/labels/WhatsApp-Image-2023-04-15-at-10-42-18-AM_jpeg.rf.886fbd31a5cc5d97602fc5c2196199e9ffoaug.txt  \n",
            "  inflating: /content/Augmentations/val/labels/WhatsApp-Image-2023-04-15-at-10-42-18-AM_jpeg.rf.886fbd31a5cc5d97602fc5c2196199e9rutrffo.txt  \n",
            "  inflating: /content/Augmentations/val/labels/WhatsApp-Image-2023-04-15-at-10-42-18-AM_jpeg.rf.886fbd31a5cc5d97602fc5c2196199e9rutrffoaug.txt  \n",
            "  inflating: /content/Augmentations/val/labels/WhatsApp-Image-2023-04-16-at-8-25-28-PM-1-_jpeg.rf.4afac90ab61deb4cb299dee17203cda9imrffo.txt  \n",
            "  inflating: /content/Augmentations/val/labels/WhatsApp-Image-2023-04-16-at-8-25-28-PM-1-_jpeg.rf.4afac90ab61deb4cb299dee17203cda9imrffoaug.txt  \n",
            "  inflating: /content/Augmentations/val/labels/WhatsApp-Image-2023-04-16-at-8-25-28-PM-1-_jpeg.rf.4afac90ab61deb4cb299dee17203cda9rutrffo.txt  \n",
            "  inflating: /content/Augmentations/val/labels/WhatsApp-Image-2023-04-16-at-8-25-28-PM-1-_jpeg.rf.4afac90ab61deb4cb299dee17203cda9rutrffoaug.txt  \n",
            "  inflating: /content/Augmentations/val/labels/WhatsApp-Image-2023-04-16-at-8-25-29-PM-1-_jpeg.rf.2734ede3022c5cc42df5db6a70affbccimrffo.txt  \n",
            "  inflating: /content/Augmentations/val/labels/WhatsApp-Image-2023-04-16-at-8-25-29-PM-1-_jpeg.rf.2734ede3022c5cc42df5db6a70affbccimrffoaug.txt  \n",
            "  inflating: /content/Augmentations/val/labels/WhatsApp-Image-2023-04-16-at-8-25-29-PM-1-_jpeg.rf.2734ede3022c5cc42df5db6a70affbccrutrffo.txt  \n",
            "  inflating: /content/Augmentations/val/labels/WhatsApp-Image-2023-04-16-at-8-25-29-PM-1-_jpeg.rf.2734ede3022c5cc42df5db6a70affbccrutrffoaug.txt  \n",
            "  inflating: /content/Augmentations/val/labels/WhatsApp-Image-2023-04-16-at-8-25-29-PM-2-_jpeg.rf.dcd57d6e503f96a5d11183ca6f699482imrffo.txt  \n",
            "  inflating: /content/Augmentations/val/labels/WhatsApp-Image-2023-04-16-at-8-25-29-PM-2-_jpeg.rf.dcd57d6e503f96a5d11183ca6f699482imrffoaug.txt  \n",
            "  inflating: /content/Augmentations/val/labels/WhatsApp-Image-2023-04-16-at-8-25-29-PM-2-_jpeg.rf.dcd57d6e503f96a5d11183ca6f699482rutrffo.txt  \n",
            "  inflating: /content/Augmentations/val/labels/WhatsApp-Image-2023-04-16-at-8-25-29-PM-2-_jpeg.rf.dcd57d6e503f96a5d11183ca6f699482rutrffoaug.txt  \n",
            "  inflating: /content/Augmentations/val/labels/WhatsApp-Image-2023-04-16-at-8-25-29-PM_jpeg.rf.aa4c7b8fe6167381837850dfb34dbc37imrffo.txt  \n",
            "  inflating: /content/Augmentations/val/labels/WhatsApp-Image-2023-04-16-at-8-25-29-PM_jpeg.rf.aa4c7b8fe6167381837850dfb34dbc37imrffoaug.txt  \n",
            "  inflating: /content/Augmentations/val/labels/WhatsApp-Image-2023-04-16-at-8-25-29-PM_jpeg.rf.aa4c7b8fe6167381837850dfb34dbc37rutrffo.txt  \n",
            "  inflating: /content/Augmentations/val/labels/WhatsApp-Image-2023-04-16-at-8-25-29-PM_jpeg.rf.aa4c7b8fe6167381837850dfb34dbc37rutrffoaug.txt  \n",
            "  inflating: /content/Augmentations/val/labels/WhatsApp-Image-2023-04-16-at-8-25-30-PM-2-_jpeg.rf.c0b7f663affc73f32b93b2aecbd3bef6rutrffo.txt  \n",
            "  inflating: /content/Augmentations/val/labels/WhatsApp-Image-2023-04-16-at-8-25-30-PM-2-_jpeg.rf.c0b7f663affc73f32b93b2aecbd3bef6rutrffoaug.txt  \n",
            "  inflating: /content/Augmentations/val/labels/WhatsApp-Image-2023-04-16-at-8-25-31-PM_jpeg.rf.13cc237bea349b133e9ee8af739e7872imrffo.txt  \n",
            "  inflating: /content/Augmentations/val/labels/WhatsApp-Image-2023-04-16-at-8-25-31-PM_jpeg.rf.13cc237bea349b133e9ee8af739e7872imrffoaug.txt  \n",
            "  inflating: /content/Augmentations/val/labels/WhatsApp-Image-2023-04-16-at-8-25-31-PM_jpeg.rf.13cc237bea349b133e9ee8af739e7872rutrffo.txt  \n",
            "  inflating: /content/Augmentations/val/labels/WhatsApp-Image-2023-04-16-at-8-25-31-PM_jpeg.rf.13cc237bea349b133e9ee8af739e7872rutrffoaug.txt  \n",
            "  inflating: /content/Augmentations/val/labels.cache  \n"
          ]
        }
      ],
      "source": [
        "!unzip /content/drive/MyDrive/Augmentations.zip -d /content/\n"
      ]
    },
    {
      "cell_type": "code",
      "execution_count": null,
      "metadata": {
        "colab": {
          "base_uri": "https://localhost:8080/"
        },
        "id": "MvVUqX-V5QHR",
        "outputId": "77e1670a-8733-4b5a-a6fe-7bad22a99e87"
      },
      "outputs": [
        {
          "output_type": "stream",
          "name": "stdout",
          "text": [
            "dataset.yaml  train  val\n"
          ]
        }
      ],
      "source": [
        "# List the dataset folder to verify its structure\n",
        "!ls /content/Augmentations/\n"
      ]
    },
    {
      "cell_type": "code",
      "execution_count": null,
      "metadata": {
        "colab": {
          "base_uri": "https://localhost:8080/"
        },
        "collapsed": true,
        "id": "p0owBA-g5YbN",
        "outputId": "79722059-e437-4990-83a6-c3ffd51e2340"
      },
      "outputs": [
        {
          "output_type": "stream",
          "name": "stdout",
          "text": [
            "Creating new Ultralytics Settings v0.0.6 file ✅ \n",
            "View Ultralytics Settings with 'yolo settings' or at '/root/.config/Ultralytics/settings.json'\n",
            "Update Settings with 'yolo settings key=value', i.e. 'yolo settings runs_dir=path/to/dir'. For help see https://docs.ultralytics.com/quickstart/#ultralytics-settings.\n",
            "Downloading https://github.com/ultralytics/assets/releases/download/v8.3.0/yolov8m.pt to 'yolov8m.pt'...\n"
          ]
        },
        {
          "output_type": "stream",
          "name": "stderr",
          "text": [
            "100%|██████████| 49.7M/49.7M [00:00<00:00, 290MB/s]\n"
          ]
        },
        {
          "output_type": "stream",
          "name": "stdout",
          "text": [
            "Ultralytics 8.3.10 🚀 Python-3.10.12 torch-2.4.1+cu121 CUDA:0 (Tesla T4, 15102MiB)\n",
            "\u001b[34m\u001b[1mengine/trainer: \u001b[0mtask=detect, mode=train, model=yolov8m.pt, data=/content/Augmentations/dataset.yaml, epochs=50, time=None, patience=100, batch=16, imgsz=640, save=True, save_period=-1, cache=False, device=None, workers=2, project=None, name=train, exist_ok=False, pretrained=True, optimizer=auto, verbose=True, seed=0, deterministic=True, single_cls=False, rect=False, cos_lr=False, close_mosaic=10, resume=False, amp=True, fraction=1.0, profile=False, freeze=None, multi_scale=False, overlap_mask=True, mask_ratio=4, dropout=0.0, val=True, split=val, save_json=False, save_hybrid=False, conf=None, iou=0.7, max_det=300, half=False, dnn=False, plots=True, source=None, vid_stride=1, stream_buffer=False, visualize=False, augment=False, agnostic_nms=False, classes=None, retina_masks=False, embed=None, show=False, save_frames=False, save_txt=False, save_conf=False, save_crop=False, show_labels=True, show_conf=True, show_boxes=True, line_width=None, format=torchscript, keras=False, optimize=False, int8=False, dynamic=False, simplify=True, opset=None, workspace=4, nms=False, lr0=0.01, lrf=0.01, momentum=0.937, weight_decay=0.0005, warmup_epochs=3.0, warmup_momentum=0.8, warmup_bias_lr=0.1, box=7.5, cls=0.5, dfl=1.5, pose=12.0, kobj=1.0, label_smoothing=0.0, nbs=64, hsv_h=0.015, hsv_s=0.7, hsv_v=0.4, degrees=0.0, translate=0.1, scale=0.5, shear=0.0, perspective=0.0, flipud=0.0, fliplr=0.5, bgr=0.0, mosaic=1.0, mixup=0.0, copy_paste=0.0, copy_paste_mode=flip, auto_augment=randaugment, erasing=0.4, crop_fraction=1.0, cfg=None, tracker=botsort.yaml, save_dir=runs/detect/train\n",
            "Downloading https://ultralytics.com/assets/Arial.ttf to '/root/.config/Ultralytics/Arial.ttf'...\n"
          ]
        },
        {
          "output_type": "stream",
          "name": "stderr",
          "text": [
            "100%|██████████| 755k/755k [00:00<00:00, 21.5MB/s]\n"
          ]
        },
        {
          "output_type": "stream",
          "name": "stdout",
          "text": [
            "Overriding model.yaml nc=80 with nc=1\n",
            "\n",
            "                   from  n    params  module                                       arguments                     \n",
            "  0                  -1  1      1392  ultralytics.nn.modules.conv.Conv             [3, 48, 3, 2]                 \n",
            "  1                  -1  1     41664  ultralytics.nn.modules.conv.Conv             [48, 96, 3, 2]                \n",
            "  2                  -1  2    111360  ultralytics.nn.modules.block.C2f             [96, 96, 2, True]             \n",
            "  3                  -1  1    166272  ultralytics.nn.modules.conv.Conv             [96, 192, 3, 2]               \n",
            "  4                  -1  4    813312  ultralytics.nn.modules.block.C2f             [192, 192, 4, True]           \n",
            "  5                  -1  1    664320  ultralytics.nn.modules.conv.Conv             [192, 384, 3, 2]              \n",
            "  6                  -1  4   3248640  ultralytics.nn.modules.block.C2f             [384, 384, 4, True]           \n",
            "  7                  -1  1   1991808  ultralytics.nn.modules.conv.Conv             [384, 576, 3, 2]              \n",
            "  8                  -1  2   3985920  ultralytics.nn.modules.block.C2f             [576, 576, 2, True]           \n",
            "  9                  -1  1    831168  ultralytics.nn.modules.block.SPPF            [576, 576, 5]                 \n",
            " 10                  -1  1         0  torch.nn.modules.upsampling.Upsample         [None, 2, 'nearest']          \n",
            " 11             [-1, 6]  1         0  ultralytics.nn.modules.conv.Concat           [1]                           \n",
            " 12                  -1  2   1993728  ultralytics.nn.modules.block.C2f             [960, 384, 2]                 \n",
            " 13                  -1  1         0  torch.nn.modules.upsampling.Upsample         [None, 2, 'nearest']          \n",
            " 14             [-1, 4]  1         0  ultralytics.nn.modules.conv.Concat           [1]                           \n",
            " 15                  -1  2    517632  ultralytics.nn.modules.block.C2f             [576, 192, 2]                 \n",
            " 16                  -1  1    332160  ultralytics.nn.modules.conv.Conv             [192, 192, 3, 2]              \n",
            " 17            [-1, 12]  1         0  ultralytics.nn.modules.conv.Concat           [1]                           \n",
            " 18                  -1  2   1846272  ultralytics.nn.modules.block.C2f             [576, 384, 2]                 \n",
            " 19                  -1  1   1327872  ultralytics.nn.modules.conv.Conv             [384, 384, 3, 2]              \n",
            " 20             [-1, 9]  1         0  ultralytics.nn.modules.conv.Concat           [1]                           \n",
            " 21                  -1  2   4207104  ultralytics.nn.modules.block.C2f             [960, 576, 2]                 \n",
            " 22        [15, 18, 21]  1   1141075  ultralytics.nn.modules.head.Detect           [1, [192, 384, 576]]          \n",
            "Model summary: 319 layers, 23,221,699 parameters, 23,221,683 gradients, 67.8 GFLOPs\n",
            "\n",
            "Transferred 433/511 items from pretrained weights\n",
            "\u001b[34m\u001b[1mTensorBoard: \u001b[0mStart with 'tensorboard --logdir runs/detect/train', view at http://localhost:6006/\n",
            "Freezing layer 'model.22.dfl.conv.weight'\n",
            "\u001b[34m\u001b[1mAMP: \u001b[0mrunning Automatic Mixed Precision (AMP) checks with YOLO11n...\n",
            "Downloading https://github.com/ultralytics/assets/releases/download/v8.3.0/yolo11n.pt to 'yolo11n.pt'...\n"
          ]
        },
        {
          "output_type": "stream",
          "name": "stderr",
          "text": [
            "100%|██████████| 5.35M/5.35M [00:00<00:00, 84.7MB/s]\n"
          ]
        },
        {
          "output_type": "stream",
          "name": "stdout",
          "text": [
            "\u001b[34m\u001b[1mAMP: \u001b[0mchecks passed ✅\n"
          ]
        },
        {
          "output_type": "stream",
          "name": "stderr",
          "text": [
            "\u001b[34m\u001b[1mtrain: \u001b[0mScanning /content/Augmentations/train/labels... 548 images, 0 backgrounds, 0 corrupt: 100%|██████████| 548/548 [00:00<00:00, 2066.10it/s]"
          ]
        },
        {
          "output_type": "stream",
          "name": "stdout",
          "text": [
            "\u001b[34m\u001b[1mtrain: \u001b[0mNew cache created: /content/Augmentations/train/labels.cache\n"
          ]
        },
        {
          "output_type": "stream",
          "name": "stderr",
          "text": [
            "\n"
          ]
        },
        {
          "output_type": "stream",
          "name": "stdout",
          "text": [
            "\u001b[34m\u001b[1malbumentations: \u001b[0mBlur(p=0.01, blur_limit=(3, 7)), MedianBlur(p=0.01, blur_limit=(3, 7)), ToGray(p=0.01, num_output_channels=3, method='weighted_average'), CLAHE(p=0.01, clip_limit=(1, 4.0), tile_grid_size=(8, 8))\n"
          ]
        },
        {
          "output_type": "stream",
          "name": "stderr",
          "text": [
            "/usr/local/lib/python3.10/dist-packages/albumentations/__init__.py:13: UserWarning: A new version of Albumentations is available: 1.4.18 (you have 1.4.15). Upgrade using: pip install -U albumentations. To disable automatic update checks, set the environment variable NO_ALBUMENTATIONS_UPDATE to 1.\n",
            "  check_for_updates()\n",
            "\u001b[34m\u001b[1mval: \u001b[0mScanning /content/Augmentations/val/labels... 136 images, 0 backgrounds, 0 corrupt: 100%|██████████| 136/136 [00:00<00:00, 955.23it/s] "
          ]
        },
        {
          "output_type": "stream",
          "name": "stdout",
          "text": [
            "\u001b[34m\u001b[1mval: \u001b[0mNew cache created: /content/Augmentations/val/labels.cache\n"
          ]
        },
        {
          "output_type": "stream",
          "name": "stderr",
          "text": [
            "\n"
          ]
        },
        {
          "output_type": "stream",
          "name": "stdout",
          "text": [
            "Plotting labels to runs/detect/train/labels.jpg... \n",
            "\u001b[34m\u001b[1moptimizer:\u001b[0m 'optimizer=auto' found, ignoring 'lr0=0.01' and 'momentum=0.937' and determining best 'optimizer', 'lr0' and 'momentum' automatically... \n",
            "\u001b[34m\u001b[1moptimizer:\u001b[0m AdamW(lr=0.002, momentum=0.9) with parameter groups 83 weight(decay=0.0), 90 weight(decay=0.0005), 89 bias(decay=0.0)\n",
            "\u001b[34m\u001b[1mTensorBoard: \u001b[0mmodel graph visualization added ✅\n",
            "Image sizes 640 train, 640 val\n",
            "Using 2 dataloader workers\n",
            "Logging results to \u001b[1mruns/detect/train\u001b[0m\n",
            "Starting training for 50 epochs...\n",
            "\n",
            "      Epoch    GPU_mem   box_loss   cls_loss   dfl_loss  Instances       Size\n"
          ]
        },
        {
          "output_type": "stream",
          "name": "stderr",
          "text": [
            "       1/50       7.1G      1.968      3.495      1.441         10        640: 100%|██████████| 35/35 [00:19<00:00,  1.77it/s]\n",
            "                 Class     Images  Instances      Box(P          R      mAP50  mAP50-95): 100%|██████████| 5/5 [00:03<00:00,  1.56it/s]"
          ]
        },
        {
          "output_type": "stream",
          "name": "stdout",
          "text": [
            "                   all        136        156    0.00225       0.59    0.00193   0.000919\n"
          ]
        },
        {
          "output_type": "stream",
          "name": "stderr",
          "text": [
            "\n"
          ]
        },
        {
          "output_type": "stream",
          "name": "stdout",
          "text": [
            "\n",
            "      Epoch    GPU_mem   box_loss   cls_loss   dfl_loss  Instances       Size\n"
          ]
        },
        {
          "output_type": "stream",
          "name": "stderr",
          "text": [
            "       2/50      7.15G      1.732      2.175      1.397         15        640: 100%|██████████| 35/35 [00:17<00:00,  1.98it/s]\n",
            "                 Class     Images  Instances      Box(P          R      mAP50  mAP50-95): 100%|██████████| 5/5 [00:02<00:00,  1.82it/s]"
          ]
        },
        {
          "output_type": "stream",
          "name": "stdout",
          "text": [
            "                   all        136        156   0.000123     0.0321   6.34e-05   1.38e-05\n"
          ]
        },
        {
          "output_type": "stream",
          "name": "stderr",
          "text": [
            "\n"
          ]
        },
        {
          "output_type": "stream",
          "name": "stdout",
          "text": [
            "\n",
            "      Epoch    GPU_mem   box_loss   cls_loss   dfl_loss  Instances       Size\n"
          ]
        },
        {
          "output_type": "stream",
          "name": "stderr",
          "text": [
            "       3/50      7.05G      1.775      1.829      1.491          6        640: 100%|██████████| 35/35 [00:17<00:00,  2.02it/s]\n",
            "                 Class     Images  Instances      Box(P          R      mAP50  mAP50-95): 100%|██████████| 5/5 [00:02<00:00,  2.46it/s]"
          ]
        },
        {
          "output_type": "stream",
          "name": "stdout",
          "text": [
            "                   all        136        156   0.000628      0.154    0.00037   0.000131\n"
          ]
        },
        {
          "output_type": "stream",
          "name": "stderr",
          "text": [
            "\n"
          ]
        },
        {
          "output_type": "stream",
          "name": "stdout",
          "text": [
            "\n",
            "      Epoch    GPU_mem   box_loss   cls_loss   dfl_loss  Instances       Size\n"
          ]
        },
        {
          "output_type": "stream",
          "name": "stderr",
          "text": [
            "       4/50      7.15G      1.795       1.69      1.488          7        640: 100%|██████████| 35/35 [00:17<00:00,  1.99it/s]\n",
            "                 Class     Images  Instances      Box(P          R      mAP50  mAP50-95): 100%|██████████| 5/5 [00:01<00:00,  2.85it/s]"
          ]
        },
        {
          "output_type": "stream",
          "name": "stdout",
          "text": [
            "                   all        136        156   0.000148     0.0321   7.66e-05   2.89e-05\n"
          ]
        },
        {
          "output_type": "stream",
          "name": "stderr",
          "text": [
            "\n"
          ]
        },
        {
          "output_type": "stream",
          "name": "stdout",
          "text": [
            "\n",
            "      Epoch    GPU_mem   box_loss   cls_loss   dfl_loss  Instances       Size\n"
          ]
        },
        {
          "output_type": "stream",
          "name": "stderr",
          "text": [
            "       5/50      7.06G      1.722      1.453      1.456          4        640: 100%|██████████| 35/35 [00:17<00:00,  1.95it/s]\n",
            "                 Class     Images  Instances      Box(P          R      mAP50  mAP50-95): 100%|██████████| 5/5 [00:01<00:00,  2.78it/s]"
          ]
        },
        {
          "output_type": "stream",
          "name": "stdout",
          "text": [
            "                   all        136        156      0.596      0.218      0.233     0.0818\n"
          ]
        },
        {
          "output_type": "stream",
          "name": "stderr",
          "text": [
            "\n"
          ]
        },
        {
          "output_type": "stream",
          "name": "stdout",
          "text": [
            "\n",
            "      Epoch    GPU_mem   box_loss   cls_loss   dfl_loss  Instances       Size\n"
          ]
        },
        {
          "output_type": "stream",
          "name": "stderr",
          "text": [
            "       6/50      7.14G      1.671      1.349      1.447          8        640: 100%|██████████| 35/35 [00:18<00:00,  1.93it/s]\n",
            "                 Class     Images  Instances      Box(P          R      mAP50  mAP50-95): 100%|██████████| 5/5 [00:01<00:00,  2.76it/s]"
          ]
        },
        {
          "output_type": "stream",
          "name": "stdout",
          "text": [
            "                   all        136        156       0.57      0.359      0.343      0.141\n"
          ]
        },
        {
          "output_type": "stream",
          "name": "stderr",
          "text": [
            "\n"
          ]
        },
        {
          "output_type": "stream",
          "name": "stdout",
          "text": [
            "\n",
            "      Epoch    GPU_mem   box_loss   cls_loss   dfl_loss  Instances       Size\n"
          ]
        },
        {
          "output_type": "stream",
          "name": "stderr",
          "text": [
            "       7/50      7.12G      1.674       1.28      1.437          7        640: 100%|██████████| 35/35 [00:18<00:00,  1.90it/s]\n",
            "                 Class     Images  Instances      Box(P          R      mAP50  mAP50-95): 100%|██████████| 5/5 [00:01<00:00,  2.93it/s]"
          ]
        },
        {
          "output_type": "stream",
          "name": "stdout",
          "text": [
            "                   all        136        156      0.597     0.0513     0.0573     0.0202\n"
          ]
        },
        {
          "output_type": "stream",
          "name": "stderr",
          "text": [
            "\n"
          ]
        },
        {
          "output_type": "stream",
          "name": "stdout",
          "text": [
            "\n",
            "      Epoch    GPU_mem   box_loss   cls_loss   dfl_loss  Instances       Size\n"
          ]
        },
        {
          "output_type": "stream",
          "name": "stderr",
          "text": [
            "       8/50      7.16G      1.688      1.213      1.434          9        640: 100%|██████████| 35/35 [00:19<00:00,  1.75it/s]\n",
            "                 Class     Images  Instances      Box(P          R      mAP50  mAP50-95): 100%|██████████| 5/5 [00:01<00:00,  2.70it/s]"
          ]
        },
        {
          "output_type": "stream",
          "name": "stdout",
          "text": [
            "                   all        136        156       0.51      0.374      0.326      0.124\n"
          ]
        },
        {
          "output_type": "stream",
          "name": "stderr",
          "text": [
            "\n"
          ]
        },
        {
          "output_type": "stream",
          "name": "stdout",
          "text": [
            "\n",
            "      Epoch    GPU_mem   box_loss   cls_loss   dfl_loss  Instances       Size\n"
          ]
        },
        {
          "output_type": "stream",
          "name": "stderr",
          "text": [
            "       9/50      7.06G      1.558      1.169      1.344          4        640: 100%|██████████| 35/35 [00:18<00:00,  1.87it/s]\n",
            "                 Class     Images  Instances      Box(P          R      mAP50  mAP50-95): 100%|██████████| 5/5 [00:01<00:00,  2.73it/s]"
          ]
        },
        {
          "output_type": "stream",
          "name": "stdout",
          "text": [
            "                   all        136        156      0.815       0.68      0.755      0.285\n"
          ]
        },
        {
          "output_type": "stream",
          "name": "stderr",
          "text": [
            "\n"
          ]
        },
        {
          "output_type": "stream",
          "name": "stdout",
          "text": [
            "\n",
            "      Epoch    GPU_mem   box_loss   cls_loss   dfl_loss  Instances       Size\n"
          ]
        },
        {
          "output_type": "stream",
          "name": "stderr",
          "text": [
            "      10/50      7.14G      1.615       1.11      1.386          7        640: 100%|██████████| 35/35 [00:18<00:00,  1.91it/s]\n",
            "                 Class     Images  Instances      Box(P          R      mAP50  mAP50-95): 100%|██████████| 5/5 [00:02<00:00,  2.32it/s]\n"
          ]
        },
        {
          "output_type": "stream",
          "name": "stdout",
          "text": [
            "                   all        136        156      0.924      0.622      0.692      0.311\n",
            "\n",
            "      Epoch    GPU_mem   box_loss   cls_loss   dfl_loss  Instances       Size\n"
          ]
        },
        {
          "output_type": "stream",
          "name": "stderr",
          "text": [
            "      11/50      7.12G      1.597      1.095      1.379         10        640: 100%|██████████| 35/35 [00:18<00:00,  1.89it/s]\n",
            "                 Class     Images  Instances      Box(P          R      mAP50  mAP50-95): 100%|██████████| 5/5 [00:02<00:00,  2.29it/s]"
          ]
        },
        {
          "output_type": "stream",
          "name": "stdout",
          "text": [
            "                   all        136        156      0.796      0.679       0.75      0.303\n"
          ]
        },
        {
          "output_type": "stream",
          "name": "stderr",
          "text": [
            "\n"
          ]
        },
        {
          "output_type": "stream",
          "name": "stdout",
          "text": [
            "\n",
            "      Epoch    GPU_mem   box_loss   cls_loss   dfl_loss  Instances       Size\n"
          ]
        },
        {
          "output_type": "stream",
          "name": "stderr",
          "text": [
            "      12/50      7.17G      1.603      1.075      1.375          6        640: 100%|██████████| 35/35 [00:18<00:00,  1.86it/s]\n",
            "                 Class     Images  Instances      Box(P          R      mAP50  mAP50-95): 100%|██████████| 5/5 [00:01<00:00,  2.70it/s]"
          ]
        },
        {
          "output_type": "stream",
          "name": "stdout",
          "text": [
            "                   all        136        156       0.79       0.66      0.711      0.303\n"
          ]
        },
        {
          "output_type": "stream",
          "name": "stderr",
          "text": [
            "\n"
          ]
        },
        {
          "output_type": "stream",
          "name": "stdout",
          "text": [
            "\n",
            "      Epoch    GPU_mem   box_loss   cls_loss   dfl_loss  Instances       Size\n"
          ]
        },
        {
          "output_type": "stream",
          "name": "stderr",
          "text": [
            "      13/50      7.06G       1.59      1.065      1.361          6        640: 100%|██████████| 35/35 [00:18<00:00,  1.88it/s]\n",
            "                 Class     Images  Instances      Box(P          R      mAP50  mAP50-95): 100%|██████████| 5/5 [00:01<00:00,  2.69it/s]"
          ]
        },
        {
          "output_type": "stream",
          "name": "stdout",
          "text": [
            "                   all        136        156      0.796      0.731      0.758      0.299\n"
          ]
        },
        {
          "output_type": "stream",
          "name": "stderr",
          "text": [
            "\n"
          ]
        },
        {
          "output_type": "stream",
          "name": "stdout",
          "text": [
            "\n",
            "      Epoch    GPU_mem   box_loss   cls_loss   dfl_loss  Instances       Size\n"
          ]
        },
        {
          "output_type": "stream",
          "name": "stderr",
          "text": [
            "      14/50      7.14G      1.558      1.049      1.354          7        640: 100%|██████████| 35/35 [00:18<00:00,  1.88it/s]\n",
            "                 Class     Images  Instances      Box(P          R      mAP50  mAP50-95): 100%|██████████| 5/5 [00:02<00:00,  2.22it/s]"
          ]
        },
        {
          "output_type": "stream",
          "name": "stdout",
          "text": [
            "                   all        136        156      0.798      0.699      0.736      0.325\n"
          ]
        },
        {
          "output_type": "stream",
          "name": "stderr",
          "text": [
            "\n"
          ]
        },
        {
          "output_type": "stream",
          "name": "stdout",
          "text": [
            "\n",
            "      Epoch    GPU_mem   box_loss   cls_loss   dfl_loss  Instances       Size\n"
          ]
        },
        {
          "output_type": "stream",
          "name": "stderr",
          "text": [
            "      15/50      7.14G      1.572      1.009      1.359         10        640: 100%|██████████| 35/35 [00:18<00:00,  1.89it/s]\n",
            "                 Class     Images  Instances      Box(P          R      mAP50  mAP50-95): 100%|██████████| 5/5 [00:02<00:00,  2.50it/s]"
          ]
        },
        {
          "output_type": "stream",
          "name": "stdout",
          "text": [
            "                   all        136        156      0.781      0.712      0.736      0.288\n"
          ]
        },
        {
          "output_type": "stream",
          "name": "stderr",
          "text": [
            "\n"
          ]
        },
        {
          "output_type": "stream",
          "name": "stdout",
          "text": [
            "\n",
            "      Epoch    GPU_mem   box_loss   cls_loss   dfl_loss  Instances       Size\n"
          ]
        },
        {
          "output_type": "stream",
          "name": "stderr",
          "text": [
            "      16/50      7.16G      1.549      1.047      1.353          2        640: 100%|██████████| 35/35 [00:18<00:00,  1.88it/s]\n",
            "                 Class     Images  Instances      Box(P          R      mAP50  mAP50-95): 100%|██████████| 5/5 [00:01<00:00,  2.70it/s]"
          ]
        },
        {
          "output_type": "stream",
          "name": "stdout",
          "text": [
            "                   all        136        156      0.755      0.613      0.674      0.278\n"
          ]
        },
        {
          "output_type": "stream",
          "name": "stderr",
          "text": [
            "\n"
          ]
        },
        {
          "output_type": "stream",
          "name": "stdout",
          "text": [
            "\n",
            "      Epoch    GPU_mem   box_loss   cls_loss   dfl_loss  Instances       Size\n"
          ]
        },
        {
          "output_type": "stream",
          "name": "stderr",
          "text": [
            "      17/50      7.06G      1.516     0.9696      1.331          6        640: 100%|██████████| 35/35 [00:19<00:00,  1.80it/s]\n",
            "                 Class     Images  Instances      Box(P          R      mAP50  mAP50-95): 100%|██████████| 5/5 [00:01<00:00,  2.73it/s]"
          ]
        },
        {
          "output_type": "stream",
          "name": "stdout",
          "text": [
            "                   all        136        156      0.902      0.776      0.859      0.375\n"
          ]
        },
        {
          "output_type": "stream",
          "name": "stderr",
          "text": [
            "\n"
          ]
        },
        {
          "output_type": "stream",
          "name": "stdout",
          "text": [
            "\n",
            "      Epoch    GPU_mem   box_loss   cls_loss   dfl_loss  Instances       Size\n"
          ]
        },
        {
          "output_type": "stream",
          "name": "stderr",
          "text": [
            "      18/50      7.15G      1.448     0.8974      1.273          6        640: 100%|██████████| 35/35 [00:18<00:00,  1.91it/s]\n",
            "                 Class     Images  Instances      Box(P          R      mAP50  mAP50-95): 100%|██████████| 5/5 [00:01<00:00,  2.69it/s]"
          ]
        },
        {
          "output_type": "stream",
          "name": "stdout",
          "text": [
            "                   all        136        156       0.92      0.788      0.863      0.385\n"
          ]
        },
        {
          "output_type": "stream",
          "name": "stderr",
          "text": [
            "\n"
          ]
        },
        {
          "output_type": "stream",
          "name": "stdout",
          "text": [
            "\n",
            "      Epoch    GPU_mem   box_loss   cls_loss   dfl_loss  Instances       Size\n"
          ]
        },
        {
          "output_type": "stream",
          "name": "stderr",
          "text": [
            "      19/50      7.13G      1.477      0.936      1.301          4        640: 100%|██████████| 35/35 [00:18<00:00,  1.90it/s]\n",
            "                 Class     Images  Instances      Box(P          R      mAP50  mAP50-95): 100%|██████████| 5/5 [00:01<00:00,  2.66it/s]"
          ]
        },
        {
          "output_type": "stream",
          "name": "stdout",
          "text": [
            "                   all        136        156      0.774      0.628      0.708      0.312\n"
          ]
        },
        {
          "output_type": "stream",
          "name": "stderr",
          "text": [
            "\n"
          ]
        },
        {
          "output_type": "stream",
          "name": "stdout",
          "text": [
            "\n",
            "      Epoch    GPU_mem   box_loss   cls_loss   dfl_loss  Instances       Size\n"
          ]
        },
        {
          "output_type": "stream",
          "name": "stderr",
          "text": [
            "      20/50      7.16G      1.504      0.945      1.309          8        640: 100%|██████████| 35/35 [00:18<00:00,  1.86it/s]\n",
            "                 Class     Images  Instances      Box(P          R      mAP50  mAP50-95): 100%|██████████| 5/5 [00:01<00:00,  2.67it/s]"
          ]
        },
        {
          "output_type": "stream",
          "name": "stdout",
          "text": [
            "                   all        136        156      0.817      0.699      0.734      0.309\n"
          ]
        },
        {
          "output_type": "stream",
          "name": "stderr",
          "text": [
            "\n"
          ]
        },
        {
          "output_type": "stream",
          "name": "stdout",
          "text": [
            "\n",
            "      Epoch    GPU_mem   box_loss   cls_loss   dfl_loss  Instances       Size\n"
          ]
        },
        {
          "output_type": "stream",
          "name": "stderr",
          "text": [
            "      21/50      7.07G      1.484     0.8853       1.29          9        640: 100%|██████████| 35/35 [00:18<00:00,  1.89it/s]\n",
            "                 Class     Images  Instances      Box(P          R      mAP50  mAP50-95): 100%|██████████| 5/5 [00:02<00:00,  2.44it/s]"
          ]
        },
        {
          "output_type": "stream",
          "name": "stdout",
          "text": [
            "                   all        136        156      0.818      0.763      0.839      0.352\n"
          ]
        },
        {
          "output_type": "stream",
          "name": "stderr",
          "text": [
            "\n"
          ]
        },
        {
          "output_type": "stream",
          "name": "stdout",
          "text": [
            "\n",
            "      Epoch    GPU_mem   box_loss   cls_loss   dfl_loss  Instances       Size\n"
          ]
        },
        {
          "output_type": "stream",
          "name": "stderr",
          "text": [
            "      22/50      7.15G      1.461      0.879      1.298          7        640: 100%|██████████| 35/35 [00:18<00:00,  1.91it/s]\n",
            "                 Class     Images  Instances      Box(P          R      mAP50  mAP50-95): 100%|██████████| 5/5 [00:02<00:00,  2.15it/s]"
          ]
        },
        {
          "output_type": "stream",
          "name": "stdout",
          "text": [
            "                   all        136        156      0.847      0.708      0.759      0.315\n"
          ]
        },
        {
          "output_type": "stream",
          "name": "stderr",
          "text": [
            "\n"
          ]
        },
        {
          "output_type": "stream",
          "name": "stdout",
          "text": [
            "\n",
            "      Epoch    GPU_mem   box_loss   cls_loss   dfl_loss  Instances       Size\n"
          ]
        },
        {
          "output_type": "stream",
          "name": "stderr",
          "text": [
            "      23/50      7.13G      1.474     0.8976      1.278          4        640: 100%|██████████| 35/35 [00:18<00:00,  1.93it/s]\n",
            "                 Class     Images  Instances      Box(P          R      mAP50  mAP50-95): 100%|██████████| 5/5 [00:01<00:00,  2.69it/s]"
          ]
        },
        {
          "output_type": "stream",
          "name": "stdout",
          "text": [
            "                   all        136        156      0.738      0.699      0.699      0.244\n"
          ]
        },
        {
          "output_type": "stream",
          "name": "stderr",
          "text": [
            "\n"
          ]
        },
        {
          "output_type": "stream",
          "name": "stdout",
          "text": [
            "\n",
            "      Epoch    GPU_mem   box_loss   cls_loss   dfl_loss  Instances       Size\n"
          ]
        },
        {
          "output_type": "stream",
          "name": "stderr",
          "text": [
            "      24/50      7.17G      1.476     0.8829      1.309          3        640: 100%|██████████| 35/35 [00:18<00:00,  1.87it/s]\n",
            "                 Class     Images  Instances      Box(P          R      mAP50  mAP50-95): 100%|██████████| 5/5 [00:01<00:00,  2.70it/s]"
          ]
        },
        {
          "output_type": "stream",
          "name": "stdout",
          "text": [
            "                   all        136        156      0.807      0.752      0.798      0.314\n"
          ]
        },
        {
          "output_type": "stream",
          "name": "stderr",
          "text": [
            "\n"
          ]
        },
        {
          "output_type": "stream",
          "name": "stdout",
          "text": [
            "\n",
            "      Epoch    GPU_mem   box_loss   cls_loss   dfl_loss  Instances       Size\n"
          ]
        },
        {
          "output_type": "stream",
          "name": "stderr",
          "text": [
            "      25/50      7.06G      1.473     0.8404      1.275         12        640: 100%|██████████| 35/35 [00:18<00:00,  1.90it/s]\n",
            "                 Class     Images  Instances      Box(P          R      mAP50  mAP50-95): 100%|██████████| 5/5 [00:02<00:00,  2.50it/s]"
          ]
        },
        {
          "output_type": "stream",
          "name": "stdout",
          "text": [
            "                   all        136        156      0.779      0.756      0.806      0.313\n"
          ]
        },
        {
          "output_type": "stream",
          "name": "stderr",
          "text": [
            "\n"
          ]
        },
        {
          "output_type": "stream",
          "name": "stdout",
          "text": [
            "\n",
            "      Epoch    GPU_mem   box_loss   cls_loss   dfl_loss  Instances       Size\n"
          ]
        },
        {
          "output_type": "stream",
          "name": "stderr",
          "text": [
            "      26/50      7.14G      1.412     0.8145      1.271          7        640: 100%|██████████| 35/35 [00:18<00:00,  1.84it/s]\n",
            "                 Class     Images  Instances      Box(P          R      mAP50  mAP50-95): 100%|██████████| 5/5 [00:02<00:00,  2.42it/s]"
          ]
        },
        {
          "output_type": "stream",
          "name": "stdout",
          "text": [
            "                   all        136        156      0.878      0.785      0.838      0.333\n"
          ]
        },
        {
          "output_type": "stream",
          "name": "stderr",
          "text": [
            "\n"
          ]
        },
        {
          "output_type": "stream",
          "name": "stdout",
          "text": [
            "\n",
            "      Epoch    GPU_mem   box_loss   cls_loss   dfl_loss  Instances       Size\n"
          ]
        },
        {
          "output_type": "stream",
          "name": "stderr",
          "text": [
            "      27/50      7.13G      1.436     0.8466      1.248          8        640: 100%|██████████| 35/35 [00:18<00:00,  1.89it/s]\n",
            "                 Class     Images  Instances      Box(P          R      mAP50  mAP50-95): 100%|██████████| 5/5 [00:02<00:00,  2.17it/s]"
          ]
        },
        {
          "output_type": "stream",
          "name": "stdout",
          "text": [
            "                   all        136        156      0.821      0.764      0.835      0.398\n"
          ]
        },
        {
          "output_type": "stream",
          "name": "stderr",
          "text": [
            "\n"
          ]
        },
        {
          "output_type": "stream",
          "name": "stdout",
          "text": [
            "\n",
            "      Epoch    GPU_mem   box_loss   cls_loss   dfl_loss  Instances       Size\n"
          ]
        },
        {
          "output_type": "stream",
          "name": "stderr",
          "text": [
            "      28/50      7.15G      1.395     0.8029      1.241          6        640: 100%|██████████| 35/35 [00:18<00:00,  1.89it/s]\n",
            "                 Class     Images  Instances      Box(P          R      mAP50  mAP50-95): 100%|██████████| 5/5 [00:01<00:00,  2.69it/s]"
          ]
        },
        {
          "output_type": "stream",
          "name": "stdout",
          "text": [
            "                   all        136        156      0.898       0.84      0.888      0.407\n"
          ]
        },
        {
          "output_type": "stream",
          "name": "stderr",
          "text": [
            "\n"
          ]
        },
        {
          "output_type": "stream",
          "name": "stdout",
          "text": [
            "\n",
            "      Epoch    GPU_mem   box_loss   cls_loss   dfl_loss  Instances       Size\n"
          ]
        },
        {
          "output_type": "stream",
          "name": "stderr",
          "text": [
            "      29/50      7.06G       1.41     0.8037      1.249          8        640: 100%|██████████| 35/35 [00:18<00:00,  1.89it/s]\n",
            "                 Class     Images  Instances      Box(P          R      mAP50  mAP50-95): 100%|██████████| 5/5 [00:01<00:00,  2.70it/s]"
          ]
        },
        {
          "output_type": "stream",
          "name": "stdout",
          "text": [
            "                   all        136        156      0.918      0.814      0.864      0.429\n"
          ]
        },
        {
          "output_type": "stream",
          "name": "stderr",
          "text": [
            "\n"
          ]
        },
        {
          "output_type": "stream",
          "name": "stdout",
          "text": [
            "\n",
            "      Epoch    GPU_mem   box_loss   cls_loss   dfl_loss  Instances       Size\n"
          ]
        },
        {
          "output_type": "stream",
          "name": "stderr",
          "text": [
            "      30/50      7.14G      1.413     0.7996      1.252          9        640: 100%|██████████| 35/35 [00:18<00:00,  1.87it/s]\n",
            "                 Class     Images  Instances      Box(P          R      mAP50  mAP50-95): 100%|██████████| 5/5 [00:01<00:00,  2.69it/s]"
          ]
        },
        {
          "output_type": "stream",
          "name": "stdout",
          "text": [
            "                   all        136        156      0.845      0.769      0.834      0.335\n"
          ]
        },
        {
          "output_type": "stream",
          "name": "stderr",
          "text": [
            "\n"
          ]
        },
        {
          "output_type": "stream",
          "name": "stdout",
          "text": [
            "\n",
            "      Epoch    GPU_mem   box_loss   cls_loss   dfl_loss  Instances       Size\n"
          ]
        },
        {
          "output_type": "stream",
          "name": "stderr",
          "text": [
            "      31/50      7.15G      1.457     0.8448      1.245          8        640: 100%|██████████| 35/35 [00:18<00:00,  1.87it/s]\n",
            "                 Class     Images  Instances      Box(P          R      mAP50  mAP50-95): 100%|██████████| 5/5 [00:01<00:00,  2.68it/s]"
          ]
        },
        {
          "output_type": "stream",
          "name": "stdout",
          "text": [
            "                   all        136        156      0.811      0.744      0.788      0.328\n"
          ]
        },
        {
          "output_type": "stream",
          "name": "stderr",
          "text": [
            "\n"
          ]
        },
        {
          "output_type": "stream",
          "name": "stdout",
          "text": [
            "\n",
            "      Epoch    GPU_mem   box_loss   cls_loss   dfl_loss  Instances       Size\n"
          ]
        },
        {
          "output_type": "stream",
          "name": "stderr",
          "text": [
            "      32/50      7.16G      1.381     0.7981      1.231         11        640: 100%|██████████| 35/35 [00:18<00:00,  1.89it/s]\n",
            "                 Class     Images  Instances      Box(P          R      mAP50  mAP50-95): 100%|██████████| 5/5 [00:02<00:00,  2.47it/s]"
          ]
        },
        {
          "output_type": "stream",
          "name": "stdout",
          "text": [
            "                   all        136        156      0.836      0.752      0.826       0.36\n"
          ]
        },
        {
          "output_type": "stream",
          "name": "stderr",
          "text": [
            "\n"
          ]
        },
        {
          "output_type": "stream",
          "name": "stdout",
          "text": [
            "\n",
            "      Epoch    GPU_mem   box_loss   cls_loss   dfl_loss  Instances       Size\n"
          ]
        },
        {
          "output_type": "stream",
          "name": "stderr",
          "text": [
            "      33/50      7.07G      1.356     0.7597      1.221         10        640: 100%|██████████| 35/35 [00:18<00:00,  1.89it/s]\n",
            "                 Class     Images  Instances      Box(P          R      mAP50  mAP50-95): 100%|██████████| 5/5 [00:02<00:00,  2.17it/s]\n"
          ]
        },
        {
          "output_type": "stream",
          "name": "stdout",
          "text": [
            "                   all        136        156      0.905      0.782      0.863      0.401\n",
            "\n",
            "      Epoch    GPU_mem   box_loss   cls_loss   dfl_loss  Instances       Size\n"
          ]
        },
        {
          "output_type": "stream",
          "name": "stderr",
          "text": [
            "      34/50      7.15G      1.401     0.8101       1.27         10        640: 100%|██████████| 35/35 [00:18<00:00,  1.86it/s]\n",
            "                 Class     Images  Instances      Box(P          R      mAP50  mAP50-95): 100%|██████████| 5/5 [00:02<00:00,  1.91it/s]"
          ]
        },
        {
          "output_type": "stream",
          "name": "stdout",
          "text": [
            "                   all        136        156      0.867      0.794      0.862      0.436\n"
          ]
        },
        {
          "output_type": "stream",
          "name": "stderr",
          "text": [
            "\n"
          ]
        },
        {
          "output_type": "stream",
          "name": "stdout",
          "text": [
            "\n",
            "      Epoch    GPU_mem   box_loss   cls_loss   dfl_loss  Instances       Size\n"
          ]
        },
        {
          "output_type": "stream",
          "name": "stderr",
          "text": [
            "      35/50      7.13G      1.396     0.7963       1.25          6        640: 100%|██████████| 35/35 [00:18<00:00,  1.88it/s]\n",
            "                 Class     Images  Instances      Box(P          R      mAP50  mAP50-95): 100%|██████████| 5/5 [00:01<00:00,  2.66it/s]"
          ]
        },
        {
          "output_type": "stream",
          "name": "stdout",
          "text": [
            "                   all        136        156      0.849      0.833      0.855      0.405\n"
          ]
        },
        {
          "output_type": "stream",
          "name": "stderr",
          "text": [
            "\n"
          ]
        },
        {
          "output_type": "stream",
          "name": "stdout",
          "text": [
            "\n",
            "      Epoch    GPU_mem   box_loss   cls_loss   dfl_loss  Instances       Size\n"
          ]
        },
        {
          "output_type": "stream",
          "name": "stderr",
          "text": [
            "      36/50      7.15G       1.31     0.7207      1.179         11        640: 100%|██████████| 35/35 [00:18<00:00,  1.85it/s]\n",
            "                 Class     Images  Instances      Box(P          R      mAP50  mAP50-95): 100%|██████████| 5/5 [00:02<00:00,  2.40it/s]"
          ]
        },
        {
          "output_type": "stream",
          "name": "stdout",
          "text": [
            "                   all        136        156      0.789      0.791      0.828       0.34\n"
          ]
        },
        {
          "output_type": "stream",
          "name": "stderr",
          "text": [
            "\n"
          ]
        },
        {
          "output_type": "stream",
          "name": "stdout",
          "text": [
            "\n",
            "      Epoch    GPU_mem   box_loss   cls_loss   dfl_loss  Instances       Size\n"
          ]
        },
        {
          "output_type": "stream",
          "name": "stderr",
          "text": [
            "      37/50      7.06G      1.303     0.7614      1.185          5        640: 100%|██████████| 35/35 [00:18<00:00,  1.89it/s]\n",
            "                 Class     Images  Instances      Box(P          R      mAP50  mAP50-95): 100%|██████████| 5/5 [00:02<00:00,  2.27it/s]"
          ]
        },
        {
          "output_type": "stream",
          "name": "stdout",
          "text": [
            "                   all        136        156      0.857      0.807      0.867      0.415\n"
          ]
        },
        {
          "output_type": "stream",
          "name": "stderr",
          "text": [
            "\n"
          ]
        },
        {
          "output_type": "stream",
          "name": "stdout",
          "text": [
            "\n",
            "      Epoch    GPU_mem   box_loss   cls_loss   dfl_loss  Instances       Size\n"
          ]
        },
        {
          "output_type": "stream",
          "name": "stderr",
          "text": [
            "      38/50      7.14G      1.353     0.7549      1.227          7        640: 100%|██████████| 35/35 [00:18<00:00,  1.90it/s]\n",
            "                 Class     Images  Instances      Box(P          R      mAP50  mAP50-95): 100%|██████████| 5/5 [00:01<00:00,  2.73it/s]"
          ]
        },
        {
          "output_type": "stream",
          "name": "stdout",
          "text": [
            "                   all        136        156      0.811      0.846      0.882      0.421\n"
          ]
        },
        {
          "output_type": "stream",
          "name": "stderr",
          "text": [
            "\n"
          ]
        },
        {
          "output_type": "stream",
          "name": "stdout",
          "text": [
            "\n",
            "      Epoch    GPU_mem   box_loss   cls_loss   dfl_loss  Instances       Size\n"
          ]
        },
        {
          "output_type": "stream",
          "name": "stderr",
          "text": [
            "      39/50      7.12G      1.308     0.7525      1.196          8        640: 100%|██████████| 35/35 [00:18<00:00,  1.89it/s]\n",
            "                 Class     Images  Instances      Box(P          R      mAP50  mAP50-95): 100%|██████████| 5/5 [00:01<00:00,  2.69it/s]"
          ]
        },
        {
          "output_type": "stream",
          "name": "stdout",
          "text": [
            "                   all        136        156      0.892      0.699      0.811      0.359\n"
          ]
        },
        {
          "output_type": "stream",
          "name": "stderr",
          "text": [
            "\n"
          ]
        },
        {
          "output_type": "stream",
          "name": "stdout",
          "text": [
            "\n",
            "      Epoch    GPU_mem   box_loss   cls_loss   dfl_loss  Instances       Size\n"
          ]
        },
        {
          "output_type": "stream",
          "name": "stderr",
          "text": [
            "      40/50      7.16G      1.313     0.7563      1.204         11        640: 100%|██████████| 35/35 [00:18<00:00,  1.88it/s]\n",
            "                 Class     Images  Instances      Box(P          R      mAP50  mAP50-95): 100%|██████████| 5/5 [00:01<00:00,  2.69it/s]"
          ]
        },
        {
          "output_type": "stream",
          "name": "stdout",
          "text": [
            "                   all        136        156      0.828      0.763      0.816      0.351\n"
          ]
        },
        {
          "output_type": "stream",
          "name": "stderr",
          "text": [
            "\n"
          ]
        },
        {
          "output_type": "stream",
          "name": "stdout",
          "text": [
            "Closing dataloader mosaic\n",
            "\u001b[34m\u001b[1malbumentations: \u001b[0mBlur(p=0.01, blur_limit=(3, 7)), MedianBlur(p=0.01, blur_limit=(3, 7)), ToGray(p=0.01, num_output_channels=3, method='weighted_average'), CLAHE(p=0.01, clip_limit=(1, 4.0), tile_grid_size=(8, 8))\n",
            "\n",
            "      Epoch    GPU_mem   box_loss   cls_loss   dfl_loss  Instances       Size\n"
          ]
        },
        {
          "output_type": "stream",
          "name": "stderr",
          "text": [
            "      41/50      7.06G      1.399     0.7417      1.329          3        640: 100%|██████████| 35/35 [00:20<00:00,  1.74it/s]\n",
            "                 Class     Images  Instances      Box(P          R      mAP50  mAP50-95): 100%|██████████| 5/5 [00:02<00:00,  2.19it/s]\n"
          ]
        },
        {
          "output_type": "stream",
          "name": "stdout",
          "text": [
            "                   all        136        156      0.872      0.846      0.895      0.465\n",
            "\n",
            "      Epoch    GPU_mem   box_loss   cls_loss   dfl_loss  Instances       Size\n"
          ]
        },
        {
          "output_type": "stream",
          "name": "stderr",
          "text": [
            "      42/50      7.14G      1.312     0.6992      1.258          5        640: 100%|██████████| 35/35 [00:18<00:00,  1.92it/s]\n",
            "                 Class     Images  Instances      Box(P          R      mAP50  mAP50-95): 100%|██████████| 5/5 [00:01<00:00,  2.72it/s]"
          ]
        },
        {
          "output_type": "stream",
          "name": "stdout",
          "text": [
            "                   all        136        156      0.874      0.756      0.847      0.403\n"
          ]
        },
        {
          "output_type": "stream",
          "name": "stderr",
          "text": [
            "\n"
          ]
        },
        {
          "output_type": "stream",
          "name": "stdout",
          "text": [
            "\n",
            "      Epoch    GPU_mem   box_loss   cls_loss   dfl_loss  Instances       Size\n"
          ]
        },
        {
          "output_type": "stream",
          "name": "stderr",
          "text": [
            "      43/50      7.13G       1.28     0.6791       1.23          4        640: 100%|██████████| 35/35 [00:19<00:00,  1.79it/s]\n",
            "                 Class     Images  Instances      Box(P          R      mAP50  mAP50-95): 100%|██████████| 5/5 [00:01<00:00,  2.64it/s]"
          ]
        },
        {
          "output_type": "stream",
          "name": "stdout",
          "text": [
            "                   all        136        156      0.839      0.827       0.87      0.407\n"
          ]
        },
        {
          "output_type": "stream",
          "name": "stderr",
          "text": [
            "\n"
          ]
        },
        {
          "output_type": "stream",
          "name": "stdout",
          "text": [
            "\n",
            "      Epoch    GPU_mem   box_loss   cls_loss   dfl_loss  Instances       Size\n"
          ]
        },
        {
          "output_type": "stream",
          "name": "stderr",
          "text": [
            "      44/50      7.16G      1.284     0.6803       1.24          3        640: 100%|██████████| 35/35 [00:18<00:00,  1.89it/s]\n",
            "                 Class     Images  Instances      Box(P          R      mAP50  mAP50-95): 100%|██████████| 5/5 [00:02<00:00,  2.44it/s]"
          ]
        },
        {
          "output_type": "stream",
          "name": "stdout",
          "text": [
            "                   all        136        156       0.84      0.859      0.888      0.427\n"
          ]
        },
        {
          "output_type": "stream",
          "name": "stderr",
          "text": [
            "\n"
          ]
        },
        {
          "output_type": "stream",
          "name": "stdout",
          "text": [
            "\n",
            "      Epoch    GPU_mem   box_loss   cls_loss   dfl_loss  Instances       Size\n"
          ]
        },
        {
          "output_type": "stream",
          "name": "stderr",
          "text": [
            "      45/50      7.06G       1.28     0.6633      1.237          3        640: 100%|██████████| 35/35 [00:18<00:00,  1.92it/s]\n",
            "                 Class     Images  Instances      Box(P          R      mAP50  mAP50-95): 100%|██████████| 5/5 [00:02<00:00,  2.11it/s]"
          ]
        },
        {
          "output_type": "stream",
          "name": "stdout",
          "text": [
            "                   all        136        156      0.814      0.816      0.851      0.399\n"
          ]
        },
        {
          "output_type": "stream",
          "name": "stderr",
          "text": [
            "\n"
          ]
        },
        {
          "output_type": "stream",
          "name": "stdout",
          "text": [
            "\n",
            "      Epoch    GPU_mem   box_loss   cls_loss   dfl_loss  Instances       Size\n"
          ]
        },
        {
          "output_type": "stream",
          "name": "stderr",
          "text": [
            "      46/50      7.15G      1.247     0.6278      1.199          5        640: 100%|██████████| 35/35 [00:18<00:00,  1.92it/s]\n",
            "                 Class     Images  Instances      Box(P          R      mAP50  mAP50-95): 100%|██████████| 5/5 [00:01<00:00,  2.71it/s]"
          ]
        },
        {
          "output_type": "stream",
          "name": "stdout",
          "text": [
            "                   all        136        156      0.861      0.731      0.835      0.385\n"
          ]
        },
        {
          "output_type": "stream",
          "name": "stderr",
          "text": [
            "\n"
          ]
        },
        {
          "output_type": "stream",
          "name": "stdout",
          "text": [
            "\n",
            "      Epoch    GPU_mem   box_loss   cls_loss   dfl_loss  Instances       Size\n"
          ]
        },
        {
          "output_type": "stream",
          "name": "stderr",
          "text": [
            "      47/50      7.13G      1.203     0.6342      1.205          3        640: 100%|██████████| 35/35 [00:18<00:00,  1.89it/s]\n",
            "                 Class     Images  Instances      Box(P          R      mAP50  mAP50-95): 100%|██████████| 5/5 [00:01<00:00,  2.70it/s]"
          ]
        },
        {
          "output_type": "stream",
          "name": "stdout",
          "text": [
            "                   all        136        156      0.806       0.84      0.849      0.408\n"
          ]
        },
        {
          "output_type": "stream",
          "name": "stderr",
          "text": [
            "\n"
          ]
        },
        {
          "output_type": "stream",
          "name": "stdout",
          "text": [
            "\n",
            "      Epoch    GPU_mem   box_loss   cls_loss   dfl_loss  Instances       Size\n"
          ]
        },
        {
          "output_type": "stream",
          "name": "stderr",
          "text": [
            "      48/50      7.15G      1.227     0.6336      1.195          3        640: 100%|██████████| 35/35 [00:18<00:00,  1.89it/s]\n",
            "                 Class     Images  Instances      Box(P          R      mAP50  mAP50-95): 100%|██████████| 5/5 [00:01<00:00,  2.72it/s]"
          ]
        },
        {
          "output_type": "stream",
          "name": "stdout",
          "text": [
            "                   all        136        156      0.849      0.814      0.875      0.418\n"
          ]
        },
        {
          "output_type": "stream",
          "name": "stderr",
          "text": [
            "\n"
          ]
        },
        {
          "output_type": "stream",
          "name": "stdout",
          "text": [
            "\n",
            "      Epoch    GPU_mem   box_loss   cls_loss   dfl_loss  Instances       Size\n"
          ]
        },
        {
          "output_type": "stream",
          "name": "stderr",
          "text": [
            "      49/50      7.07G      1.195     0.6086      1.169          5        640: 100%|██████████| 35/35 [00:18<00:00,  1.90it/s]\n",
            "                 Class     Images  Instances      Box(P          R      mAP50  mAP50-95): 100%|██████████| 5/5 [00:02<00:00,  2.34it/s]"
          ]
        },
        {
          "output_type": "stream",
          "name": "stdout",
          "text": [
            "                   all        136        156      0.835      0.788      0.851      0.416\n"
          ]
        },
        {
          "output_type": "stream",
          "name": "stderr",
          "text": [
            "\n"
          ]
        },
        {
          "output_type": "stream",
          "name": "stdout",
          "text": [
            "\n",
            "      Epoch    GPU_mem   box_loss   cls_loss   dfl_loss  Instances       Size\n"
          ]
        },
        {
          "output_type": "stream",
          "name": "stderr",
          "text": [
            "      50/50      7.14G      1.213      0.629      1.192          4        640: 100%|██████████| 35/35 [00:18<00:00,  1.90it/s]\n",
            "                 Class     Images  Instances      Box(P          R      mAP50  mAP50-95): 100%|██████████| 5/5 [00:02<00:00,  1.95it/s]\n"
          ]
        },
        {
          "output_type": "stream",
          "name": "stdout",
          "text": [
            "                   all        136        156      0.824      0.801      0.845      0.417\n",
            "\n",
            "50 epochs completed in 0.316 hours.\n",
            "Optimizer stripped from runs/detect/train/weights/last.pt, 46.8MB\n",
            "Optimizer stripped from runs/detect/train/weights/best.pt, 46.8MB\n",
            "\n",
            "Validating runs/detect/train/weights/best.pt...\n",
            "Ultralytics 8.3.10 🚀 Python-3.10.12 torch-2.4.1+cu121 CUDA:0 (Tesla T4, 15102MiB)\n",
            "Model summary (fused): 236 layers, 23,203,411 parameters, 0 gradients, 67.4 GFLOPs\n"
          ]
        },
        {
          "output_type": "stream",
          "name": "stderr",
          "text": [
            "                 Class     Images  Instances      Box(P          R      mAP50  mAP50-95): 100%|██████████| 5/5 [00:03<00:00,  1.58it/s]\n"
          ]
        },
        {
          "output_type": "stream",
          "name": "stdout",
          "text": [
            "                   all        136        156      0.879      0.846      0.896      0.467\n",
            "Speed: 0.2ms preprocess, 10.1ms inference, 0.0ms loss, 4.9ms postprocess per image\n",
            "Results saved to \u001b[1mruns/detect/train\u001b[0m\n"
          ]
        }
      ],
      "source": [
        "from ultralytics import YOLO\n",
        "\n",
        "# Load YOLOv8 model (you can switch between 'yolov8n.pt', 'yolov8s.pt', etc.)\n",
        "model = YOLO('yolov8x.pt')\n",
        "\n",
        "# Train the model on your custom dataset\n",
        "results = model.train(\n",
        "    data='/content/Augmentations/dataset.yaml',  # Path to the dataset.yaml file\n",
        "    epochs=50,                                    # Number of epochs\n",
        "    imgsz=640,                                    # Image size\n",
        "    batch=16,                                     # Batch size\n",
        "    workers=2                                     # Number of workers (adjust for your dataset)\n",
        ")\n"
      ]
    },
    {
      "cell_type": "code",
      "execution_count": null,
      "metadata": {
        "id": "NyT6yRhz5hCn"
      },
      "outputs": [],
      "source": [
        "from ultralytics import YOLO\n",
        "\n",
        "# Load the trained YOLOv8 model\n",
        "model = YOLO('/content/runs/detect/train2/weights/best.pt')\n",
        "\n",
        "# Perform inference on a new image\n",
        "results = model.predict(source='/content/Augmentations/val/images/WhatsApp-Image-2023-04-12-at-12-48-14-AM-1-_jpeg.rf.3ad908b973d8800d48884989661ad1abrutrffo.jpg', save=True)\n",
        "\n",
        "# This will save the prediction output in 'runs/predict/' directory\n"
      ]
    },
    {
      "cell_type": "code",
      "execution_count": null,
      "metadata": {
        "colab": {
          "base_uri": "https://localhost:8080/",
          "height": 17
        },
        "id": "N4nqoo205jFq",
        "outputId": "5c80fc07-10a4-4310-ec20-87f30caca569"
      },
      "outputs": [
        {
          "output_type": "display_data",
          "data": {
            "text/plain": [
              "<IPython.core.display.Javascript object>"
            ],
            "application/javascript": [
              "\n",
              "    async function download(id, filename, size) {\n",
              "      if (!google.colab.kernel.accessAllowed) {\n",
              "        return;\n",
              "      }\n",
              "      const div = document.createElement('div');\n",
              "      const label = document.createElement('label');\n",
              "      label.textContent = `Downloading \"${filename}\": `;\n",
              "      div.appendChild(label);\n",
              "      const progress = document.createElement('progress');\n",
              "      progress.max = size;\n",
              "      div.appendChild(progress);\n",
              "      document.body.appendChild(div);\n",
              "\n",
              "      const buffers = [];\n",
              "      let downloaded = 0;\n",
              "\n",
              "      const channel = await google.colab.kernel.comms.open(id);\n",
              "      // Send a message to notify the kernel that we're ready.\n",
              "      channel.send({})\n",
              "\n",
              "      for await (const message of channel.messages) {\n",
              "        // Send a message to notify the kernel that we're ready.\n",
              "        channel.send({})\n",
              "        if (message.buffers) {\n",
              "          for (const buffer of message.buffers) {\n",
              "            buffers.push(buffer);\n",
              "            downloaded += buffer.byteLength;\n",
              "            progress.value = downloaded;\n",
              "          }\n",
              "        }\n",
              "      }\n",
              "      const blob = new Blob(buffers, {type: 'application/binary'});\n",
              "      const a = document.createElement('a');\n",
              "      a.href = window.URL.createObjectURL(blob);\n",
              "      a.download = filename;\n",
              "      div.appendChild(a);\n",
              "      a.click();\n",
              "      div.remove();\n",
              "    }\n",
              "  "
            ]
          },
          "metadata": {}
        },
        {
          "output_type": "display_data",
          "data": {
            "text/plain": [
              "<IPython.core.display.Javascript object>"
            ],
            "application/javascript": [
              "download(\"download_77295b17-5f5b-4522-872b-7b6f0c764812\", \"best.pt\", 46781783)"
            ]
          },
          "metadata": {}
        }
      ],
      "source": [
        "from google.colab import files\n",
        "files.download('/content/runs/detect/train/weights/best.pt')\n"
      ]
    },
    {
      "cell_type": "code",
      "source": [],
      "metadata": {
        "id": "fjkEVpB3Vjs4"
      },
      "execution_count": null,
      "outputs": []
    }
  ],
  "metadata": {
    "accelerator": "GPU",
    "colab": {
      "gpuType": "T4",
      "provenance": []
    },
    "kernelspec": {
      "display_name": "Python 3",
      "name": "python3"
    },
    "language_info": {
      "name": "python"
    }
  },
  "nbformat": 4,
  "nbformat_minor": 0
}